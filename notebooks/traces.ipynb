{
 "cells": [
  {
   "cell_type": "markdown",
   "metadata": {},
   "source": [
    "# Trace Analysis \n",
    "\n",
    "This notebook performs some analysis on the trace files for the initial consensus experiments. "
   ]
  },
  {
   "cell_type": "code",
   "execution_count": 2,
   "metadata": {
    "collapsed": false
   },
   "outputs": [],
   "source": [
    "%matplotlib inline\n",
    "\n",
    "import os\n",
    "import re\n",
    "import csv\n",
    "import glob\n",
    "import json\n",
    "import numpy as np\n",
    "import pandas as pd\n",
    "import seaborn as sns"
   ]
  },
  {
   "cell_type": "code",
   "execution_count": null,
   "metadata": {
    "collapsed": false
   },
   "outputs": [],
   "source": [
    "## Load Data \n",
    "\n",
    "PROPRE = re.compile(r'^trace-(\\d+)ms-(\\d+)user.tsv$')\n",
    "TRACES = os.path.join(\"..\", \"fixtures\", \"traces\", \"trace-*\")\n",
    "\n",
    "def load_trace_data(traces=TRACES, pattern=PROPRE):\n",
    "    for idx, name in enumerate(glob.glob(traces)):\n",
    "        path = os.path.abspath(name)\n",
    "        name = os.path.basename(name)\n",
    "        prop = dict(zip(('access mean (ms)', 'users'), map(int, pattern.match(name).groups())))\n",
    "        prop['id'] = idx + 1\n",
    "        \n",
    "        with open(path, 'r') as f:\n",
    "            tstep = 0\n",
    "            header = ('time', 'replica', 'object', 'access')\n",
    "            reader = csv.DictReader(f, delimiter='\\t', fieldnames=header)\n",
    "            \n",
    "            for row in reader:\n",
    "                row.update(prop)\n",
    "                row['time']  = int(row['time'])\n",
    "                row['delay since last access (ms)'] = row['time'] - tstep \n",
    "                tstep = row['time']\n",
    "                yield row\n",
    "\n",
    "traces = pd.DataFrame(load_trace_data())"
   ]
  },
  {
   "cell_type": "markdown",
   "metadata": {},
   "source": [
    "## Trace Visualization"
   ]
  },
  {
   "cell_type": "code",
   "execution_count": null,
   "metadata": {
    "collapsed": false
   },
   "outputs": [],
   "source": [
    "sns.factorplot(\n",
    "    data=traces, x=\"replica\", y=\"delay since last access (ms)\", hue=\"access\", \n",
    "    row='access mean (ms)', col='users', kind='bar'\n",
    ")"
   ]
  },
  {
   "cell_type": "code",
   "execution_count": null,
   "metadata": {
    "collapsed": false
   },
   "outputs": [],
   "source": [
    "sns.factorplot(\n",
    "    data=traces, x=\"object\", y=\"delay since last access (ms)\", hue=\"replica\", \n",
    "    row='access mean (ms)', col='users', kind='bar'\n",
    ")"
   ]
  },
  {
   "cell_type": "code",
   "execution_count": null,
   "metadata": {
    "collapsed": false
   },
   "outputs": [],
   "source": [
    "def count(x):\n",
    "    return sum(1 for i in x)\n",
    "\n",
    "repobj = traces.groupby(['replica', 'object', 'access mean (ms)', 'users', 'access'])\n",
    "repobj = repobj.agg({'delay since last access (ms)': np.mean, 'id': count, 'time': np.sum})\n",
    "\n",
    "del repobj['time']\n",
    "repobj = repobj.rename(columns = {'id':'count'})"
   ]
  },
  {
   "cell_type": "code",
   "execution_count": null,
   "metadata": {
    "collapsed": false
   },
   "outputs": [],
   "source": [
    "sns.clustermap(repobj)"
   ]
  },
  {
   "cell_type": "code",
   "execution_count": null,
   "metadata": {
    "collapsed": false
   },
   "outputs": [],
   "source": [
    "sns.factorplot(\n",
    "    data=traces, x=\"time\", y=\"object\",\n",
    "    row='access mean (ms)', col='users', kind='violin'\n",
    ")"
   ]
  },
  {
   "cell_type": "markdown",
   "metadata": {},
   "source": [
    "## Experiment Analysis \n",
    "\n",
    "Some details on the experimental design from the JSON files. "
   ]
  },
  {
   "cell_type": "code",
   "execution_count": null,
   "metadata": {
    "collapsed": false
   },
   "outputs": [],
   "source": [
    "## Load Data\n",
    "\n",
    "TOPORE = re.compile(r'^(\\w+)\\-(\\d+).json$')\n",
    "TOPOLOGIES = os.path.join(\"..\", \"fixtures\", \"experiments\", \"*.json\")\n",
    "\n",
    "def load_experiment_data(topos=TOPOLOGIES, pattern=TOPORE):\n",
    "    for name in glob.glob(topos):\n",
    "        path = os.path.abspath(name)\n",
    "        name = os.path.basename(name)\n",
    "        prop = dict(zip(('type', 'id'), pattern.match(name).groups()))\n",
    "        prop['eid'] = int(prop['id']) \n",
    "        \n",
    "        with open(path, 'r') as f:\n",
    "            data  = json.load(f)\n",
    "            conns = {\n",
    "                link['source']: link['latency']\n",
    "                for link in data['links']\n",
    "            }\n",
    "            conns.update({\n",
    "                link['target']: link['latency']\n",
    "                for link in data['links']\n",
    "            })\n",
    "            \n",
    "            for idx, node in enumerate(data['nodes']):\n",
    "                node.update(prop)\n",
    "                node['users'] = data['meta']['users']\n",
    "                latency = conns[idx]\n",
    "                electto = node.pop('election_timeout', [0,0])\n",
    "                del node['consistency']\n",
    "                \n",
    "                node['eto_low']  = electto[0]\n",
    "                node['eto_high'] = electto[1]\n",
    "                node['eto_mean'] = sum(electto) / 2.0\n",
    "                node['latency_low']  = latency[0]\n",
    "                node['latency_high'] = latency[1]\n",
    "                node['latency_mean'] = sum(latency) / 2.0\n",
    "                \n",
    "                yield node \n",
    "\n",
    "experiments = pd.DataFrame(load_experiment_data())"
   ]
  },
  {
   "cell_type": "code",
   "execution_count": null,
   "metadata": {
    "collapsed": false
   },
   "outputs": [],
   "source": [
    "experiments.describe()"
   ]
  },
  {
   "cell_type": "code",
   "execution_count": null,
   "metadata": {
    "collapsed": false
   },
   "outputs": [],
   "source": [
    "sns.factorplot(x='eid', y='latency_mean', kind='bar', row='type', hue='users', data=experiments)"
   ]
  },
  {
   "cell_type": "markdown",
   "metadata": {},
   "source": [
    "## Tiered Trace Analysis \n",
    "\n",
    "Visualizations of the trace access patterns for confirmation. "
   ]
  },
  {
   "cell_type": "code",
   "execution_count": 10,
   "metadata": {
    "collapsed": false
   },
   "outputs": [],
   "source": [
    "data = pd.read_csv('../fixtures/traces/tiered.tsv', sep='\\t', names=['time', 'replica', 'object', 'access'])"
   ]
  },
  {
   "cell_type": "code",
   "execution_count": 39,
   "metadata": {
    "collapsed": false
   },
   "outputs": [],
   "source": [
    "aggregation = {\n",
    "    'time': {\n",
    "        'from': 'min', \n",
    "        'to': 'max'\n",
    "    },\n",
    "    'access': {\n",
    "        'count'\n",
    "    }\n",
    "}\n",
    "\n",
    "replicas = data.groupby(['replica', 'object']).agg({'access': 'count'})"
   ]
  },
  {
   "cell_type": "code",
   "execution_count": 52,
   "metadata": {
    "collapsed": false
   },
   "outputs": [],
   "source": [
    "from collections import defaultdict\n",
    "records = defaultdict(dict)\n",
    "for replica, obj, count in replicas.to_records():\n",
    "    records[replica][obj] = count \n",
    "\n",
    "records = pd.DataFrame(records)\n",
    "# records = records.fillna(0)"
   ]
  },
  {
   "cell_type": "code",
   "execution_count": 56,
   "metadata": {
    "collapsed": false
   },
   "outputs": [
    {
     "data": {
      "text/plain": [
       "<matplotlib.axes._subplots.AxesSubplot at 0x10ce24cd0>"
      ]
     },
     "execution_count": 56,
     "metadata": {},
     "output_type": "execute_result"
    },
    {
     "data": {
      "image/png": "[encoded data removed]",
      "text/plain": [
       "<matplotlib.figure.Figure at 0x10bd9f650>"
      ]
     },
     "metadata": {},
     "output_type": "display_data"
    }
   ],
   "source": [
    "sns.set_style('whitegrid')\n",
    "sns.set_context('talk')\n",
    "sns.heatmap(records, annot=True, fmt=\"0.0f\", linewidths=.5, cmap=\"Reds\")"
   ]
  }
 ],
 "metadata": {
  "kernelspec": {
   "display_name": "Python 2",
   "language": "python",
   "name": "python2"
  },
  "language_info": {
   "codemirror_mode": {
    "name": "ipython",
    "version": 2
   },
   "file_extension": ".py",
   "mimetype": "text/x-python",
   "name": "python",
   "nbconvert_exporter": "python",
   "pygments_lexer": "ipython2",
   "version": "2.7.11"
  }
 },
 "nbformat": 4,
 "nbformat_minor": 0
}
