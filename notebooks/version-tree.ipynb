{
 "cells": [
  {
   "cell_type": "markdown",
   "metadata": {},
   "source": [
    "# Tree Analysis "
   ]
  },
  {
   "cell_type": "code",
   "execution_count": 59,
   "metadata": {
    "collapsed": false
   },
   "outputs": [
    {
     "name": "stdout",
     "output_type": "stream",
     "text": [
      "The memory_profiler extension is already loaded. To reload it, use:\n",
      "  %reload_ext memory_profiler\n"
     ]
    }
   ],
   "source": [
    "from __future__ import division \n",
    "\n",
    "%load_ext memory_profiler\n",
    "%matplotlib inline\n",
    "\n",
    "import os\n",
    "import re\n",
    "import sys\n",
    "import graph_tool.all as gt\n",
    "\n",
    "from operator import itemgetter\n",
    "from collections import namedtuple, defaultdict\n",
    "\n",
    "# Modify the Notebook path\n",
    "sys.path.append(os.path.join(os.getcwd(), \"..\"))\n",
    "\n",
    "from cloudscope.results import Results"
   ]
  },
  {
   "cell_type": "code",
   "execution_count": 2,
   "metadata": {
    "collapsed": true
   },
   "outputs": [],
   "source": [
    "FIXTURES  = os.path.join(\"..\", \"fixtures\")\n",
    "RESULTS   = os.path.join(FIXTURES, \"results\")\n",
    "\n",
    "# Results Files with log traces \n",
    "FEDERATED = os.path.join(RESULTS, \"single\", \"federated-consistency-20160923.json\")\n",
    "RAFT      = os.path.join(RESULTS, \"single\", \"large-consensus-group-20160923.json\")\n",
    "EVENTUAL  = os.path.join(RESULTS, \"single\", \"eventually-consistent-large-group-20160923.json\")"
   ]
  },
  {
   "cell_type": "code",
   "execution_count": 3,
   "metadata": {
    "collapsed": false
   },
   "outputs": [
    {
     "name": "stdout",
     "output_type": "stream",
     "text": [
      "peak memory: 167.86 MiB, increment: 57.52 MiB\n"
     ]
    }
   ],
   "source": [
    "%%memit\n",
    "def load_data(path=EVENTUAL):\n",
    "    with open(path) as f:\n",
    "        return Results.load(f) \n",
    "    \n",
    "results = load_data()\n",
    "trees = [log['log'] for log in results.consistency['logs'].values()]"
   ]
  },
  {
   "cell_type": "code",
   "execution_count": 87,
   "metadata": {
    "collapsed": false
   },
   "outputs": [],
   "source": [
    "ROOT    = u\"root\"\n",
    "VERSRE  = re.compile(r'(root | ([A-Z]+)\\.(\\d+))->([A-Z]+)\\.(\\d+)', re.IGNORECASE | re.VERBOSE)\n",
    "Version = namedtuple('Version', 'parent, name, version, children')\n",
    "\n",
    "def parse_version(vers):\n",
    "    \"\"\"\n",
    "    Parses a version string to get an element. \n",
    "    \"\"\"\n",
    "    match = VERSRE.match(vers) \n",
    "    if match is None:\n",
    "        raise ValueError(\n",
    "            \"Could not parse '{}'\".format(vers) \n",
    "        )\n",
    "    \n",
    "    root, pname, pid, cname, cid = match.groups() \n",
    "    \n",
    "    pid = int(pid) if pid else 0 \n",
    "    cid = int(cid) if cid else -1\n",
    "    \n",
    "    parent  = Version(None, cname, 0, []) if root == ROOT else Version(None, pname, pid, [])\n",
    "    version = Version(parent, cname, cid, [])\n",
    "    \n",
    "    return version\n",
    "\n",
    "def create_tree(log):\n",
    "    \"\"\"\n",
    "    Constructs a tree from a given log. \n",
    "    \"\"\"\n",
    "    \n",
    "    def find_version(vers, versions):\n",
    "        for item in versions:\n",
    "            if item.name == vers.name and item.version == vers.version:\n",
    "                return item \n",
    "    \n",
    "    # Parse the entries in the log \n",
    "    namespace = defaultdict(list)\n",
    "    for entry in log: \n",
    "        version = parse_version(entry) \n",
    "        namespace[version.name].append(version)\n",
    "        \n",
    "    # Construct the Tree for each name in the namespace \n",
    "    for name in namespace.keys():\n",
    "        versions = namespace[name]\n",
    "\n",
    "        # Sort the versions by version number \n",
    "        versions.sort(key=itemgetter(2))\n",
    "        \n",
    "        # Add root version if it does not exist \n",
    "        if versions[0].version != 0:\n",
    "            versions.insert(0, Version(ROOT, name, 0, []))\n",
    "        \n",
    "        # Create the list of heads to replace the namespace with \n",
    "        heads = [versions[0]]\n",
    "    \n",
    "        # Loop through everything but the first, root version. \n",
    "        for idx in xrange(1, len(versions)-1):\n",
    "            version = versions[idx]\n",
    "            \n",
    "            # Find the parent if it exists. \n",
    "            parent = find_version(version.parent, versions)\n",
    "            \n",
    "            if parent: \n",
    "                # append the version to the parent \n",
    "                nv = version._replace(parent=parent)\n",
    "                parent.children.append(nv)\n",
    "                versions[idx] = nv \n",
    "                \n",
    "                # remove the version from heads if it was there. \n",
    "                if version in heads: heads.remove(version) \n",
    "            else:\n",
    "                heads.append(version)\n",
    "    \n",
    "        namespace[name] = heads \n",
    "    \n",
    "    return namespace"
   ]
  },
  {
   "cell_type": "code",
   "execution_count": 88,
   "metadata": {
    "collapsed": false
   },
   "outputs": [],
   "source": [
    "ns = create_tree(trees[0])"
   ]
  },
  {
   "cell_type": "code",
   "execution_count": 89,
   "metadata": {
    "collapsed": true
   },
   "outputs": [],
   "source": [
    "def gt_info(g):\n",
    "    \"\"\"\n",
    "    Prints out an info statement similar to networkx. \n",
    "    \n",
    "        Name: Baleen Keyphrase Graph\n",
    "        Type: Graph\n",
    "        Number of nodes: 139227\n",
    "        Number of edges: 257316\n",
    "        Average degree:   3.6964\n",
    "    \n",
    "    Uses an simple format string to do this. \n",
    "    \"\"\"\n",
    "    \n",
    "    # Set up the output\n",
    "    output = []\n",
    "        \n",
    "    # Append the graph string properties \n",
    "    for key in g.gp.keys(): \n",
    "        output.append(\"{}: {}\".format(key.title(), g.gp[key]))\n",
    "    \n",
    "    \n",
    "    # Detect the graph type \n",
    "    graph_type = \"DiGraph\" if g.is_directed() else \"Graph\"\n",
    "    output.append(\"Type: {}\".format(graph_type))\n",
    "    \n",
    "    # Add the number of nodes and edges \n",
    "    output.append(\"Number of nodes: {:,}\".format(g.num_vertices()))\n",
    "    output.append(\"Number of edges: {:,}\".format(g.num_edges()))\n",
    "    \n",
    "    # Add the average degree and standard deviation \n",
    "    output.append(\"Average degree:  {:0.3f}𝜇 {:0.3f}𝜎\".format(*gt.vertex_average(g, 'total')))\n",
    "    \n",
    "    # Return the info string \n",
    "    return \"\\n\".join(output)"
   ]
  },
  {
   "cell_type": "code",
   "execution_count": 90,
   "metadata": {
    "collapsed": false,
    "scrolled": false
   },
   "outputs": [],
   "source": [
    "def graph_tree(root):\n",
    "    \"\"\"\n",
    "    Creates a graph of the version tree from the root. \n",
    "    \"\"\"\n",
    "    g = gt.Graph()\n",
    "    g.gp.name = g.new_graph_property('string')\n",
    "    g.gp.name = \"Partial Version Tree for Object '{}'\".format(root.name)\n",
    "    \n",
    "    # Add vertex properties \n",
    "    g.vp.version = g.new_vertex_property('string')\n",
    "    \n",
    "    # Add edge properties \n",
    "    g.ep.label = g.new_edge_property('string')\n",
    "    \n",
    "    \n",
    "    def add_node(g, node):\n",
    "        \"\"\"\n",
    "        Adds a node and calls add_node on all it's children. \n",
    "        \"\"\"\n",
    "        parent = g.add_vertex()\n",
    "        g.vp.version[parent] = str(node.version)\n",
    "        \n",
    "        # Depth first construction \n",
    "        for child in node.children: \n",
    "            child = add_node(g, child) \n",
    "            edge = g.add_edge(child, parent)\n",
    "            g.ep.label[edge] = \"parent\"\n",
    "        \n",
    "        return parent\n",
    "    \n",
    "    # Start DFS node addition\n",
    "    add_node(g, root)\n",
    "    return g"
   ]
  },
  {
   "cell_type": "code",
   "execution_count": 157,
   "metadata": {
    "collapsed": false
   },
   "outputs": [
    {
     "name": "stdout",
     "output_type": "stream",
     "text": [
      "Name: Partial Version Tree for Object 'F'\n",
      "Type: DiGraph\n",
      "Number of nodes: 4\n",
      "Number of edges: 3\n",
      "Average degree:  1.500𝜇 0.250𝜎\n"
     ]
    }
   ],
   "source": [
    "NAME = 'F'\n",
    "g = graph_tree(ns[NAME][1])\n",
    "print gt_info(g)"
   ]
  },
  {
   "cell_type": "code",
   "execution_count": 158,
   "metadata": {
    "collapsed": false
   },
   "outputs": [
    {
     "data": {
      "image/png": "[encoded data removed]",
      "text/plain": [
       "<IPython.core.display.Image object>"
      ]
     },
     "metadata": {},
     "output_type": "display_data"
    },
    {
     "data": {
      "text/plain": [
       "<PropertyMap object with key type 'Vertex' and value type 'vector<double>', for Graph 0x1271f82d0, at 0x1267eb9d0>"
      ]
     },
     "execution_count": 158,
     "metadata": {},
     "output_type": "execute_result"
    }
   ],
   "source": [
    "\n",
    "gt.graph_draw(\n",
    "    g, \n",
    "    vertex_text=g.vp.version, vertex_pen_width=1,  vertex_fill_color=[0x37 / 0xff, 0x78 / 0xff, 0xbf / 0xff, 0.85], \n",
    "    vertex_size=25, vertex_font_weight=1, vertex_font_size=12, edge_pen_width=2,\n",
    ")"
   ]
  },
  {
   "cell_type": "code",
   "execution_count": 93,
   "metadata": {
    "collapsed": false
   },
   "outputs": [],
   "source": [
    "def get_leaves(tree):\n",
    "    \"\"\"\n",
    "    Returns all leaves from a tree. \n",
    "    \"\"\"\n",
    "\n",
    "    for child in tree.children: \n",
    "        if not child.children:\n",
    "            yield child \n",
    "        else:\n",
    "            for leaf in get_leaves(child):\n",
    "                yield leaf "
   ]
  },
  {
   "cell_type": "code",
   "execution_count": 95,
   "metadata": {
    "collapsed": false
   },
   "outputs": [
    {
     "name": "stdout",
     "output_type": "stream",
     "text": [
      "10: 10\n",
      "12: 11\n",
      "15: 13\n",
      "16: 13\n"
     ]
    }
   ],
   "source": [
    "def get_depth(node):\n",
    "    \"\"\"\n",
    "    Count the number of parents of a node.\n",
    "    \"\"\"\n",
    "    if node is None or node == 'root':\n",
    "        return 0 \n",
    "    return 1 + get_depth(node.parent)\n",
    "    \n",
    "\n",
    "for node in get_leaves(ns[NAME][0]): \n",
    "    print \"{}: {}\".format(node.version, get_depth(node))"
   ]
  },
  {
   "cell_type": "markdown",
   "metadata": {},
   "source": [
    "def num_nodes(tree):\n",
    "    \"\"\"\n",
    "    Returns the number of nodes from a tree. \n",
    "    \"\"\"\n",
    "    if not tree.children: \n",
    "        return 1\n",
    "    return 1 + sum(num_nodes(child) for child in tree.children)"
   ]
  },
  {
   "cell_type": "code",
   "execution_count": 109,
   "metadata": {
    "collapsed": false
   },
   "outputs": [
    {
     "data": {
      "text/plain": [
       "49"
      ]
     },
     "execution_count": 109,
     "metadata": {},
     "output_type": "execute_result"
    }
   ],
   "source": [
    "num_nodes(ns[NAME][1])"
   ]
  },
  {
   "cell_type": "code",
   "execution_count": 163,
   "metadata": {
    "collapsed": true
   },
   "outputs": [],
   "source": [
    "def branchiness(tree):\n",
    "    \"\"\"\n",
    "    Computes branchiness as the average shortest distance to \n",
    "    each leaf node normalized by the greatest depth.  \n",
    "    \"\"\"\n",
    "    n = float(num_nodes(tree))\n",
    "    d = [float(get_depth(leaf)) for leaf in get_leaves(tree)]\n",
    "    return (sum(d) / float(len(d))) / n if d else 1.0"
   ]
  },
  {
   "cell_type": "code",
   "execution_count": 161,
   "metadata": {
    "collapsed": false
   },
   "outputs": [
    {
     "name": "stdout",
     "output_type": "stream",
     "text": [
      "4.0\n",
      "[5.0]\n",
      "1.25\n"
     ]
    }
   ],
   "source": [
    "print branchiness(ns[NAME][1])"
   ]
  },
  {
   "cell_type": "markdown",
   "metadata": {},
   "source": [
    "# Exploration of Object Space"
   ]
  },
  {
   "cell_type": "code",
   "execution_count": 153,
   "metadata": {
    "collapsed": false
   },
   "outputs": [
    {
     "name": "stdout",
     "output_type": "stream",
     "text": [
      " A: 1 components with 6 nodes and 1.000 branchiness\n",
      "AA: 2 components with 1, 30 nodes and 1.000, 0.550 branchiness\n",
      "AB: 1 components with 32 nodes and 0.656 branchiness\n",
      "AC: 1 components with 12 nodes and 1.000 branchiness\n",
      "AD: 1 components with 12 nodes and 1.000 branchiness\n",
      "AE: 1 components with 31 nodes and 0.718 branchiness\n",
      "AF: 1 components with 55 nodes and 0.864 branchiness\n",
      "AG: 1 components with 44 nodes and 0.648 branchiness\n",
      "AH: 1 components with 17 nodes and 1.000 branchiness\n",
      "AI: 1 components with 8 nodes and 1.000 branchiness\n",
      "AJ: 1 components with 44 nodes and 0.568 branchiness\n",
      "AK: 1 components with 12 nodes and 1.000 branchiness\n",
      "AL: 2 components with 43, 13 nodes and 0.400, 0.500 branchiness\n",
      "AM: 1 components with 15 nodes and 1.000 branchiness\n",
      "AN: 1 components with 12 nodes and 1.000 branchiness\n",
      "AO: 1 components with 26 nodes and 1.000 branchiness\n",
      "AP: 1 components with 39 nodes and 0.549 branchiness\n",
      "AQ: 2 components with 1, 9 nodes and 1.000, 1.111 branchiness\n",
      "AR: 2 components with 1, 13 nodes and 1.000, 1.077 branchiness\n",
      "AS: 1 components with 10 nodes and 1.000 branchiness\n",
      "AT: 1 components with 35 nodes and 0.814 branchiness\n",
      "AU: 2 components with 28, 20 nodes and 0.821, 0.683 branchiness\n",
      "AV: 2 components with 48, 9 nodes and 0.736, 0.556 branchiness\n",
      "AW: 1 components with 17 nodes and 1.000 branchiness\n",
      "AX: 1 components with 4 nodes and 1.000 branchiness\n",
      "AY: 1 components with 18 nodes and 1.000 branchiness\n",
      "AZ: 1 components with 30 nodes and 1.000 branchiness\n",
      " B: 1 components with 28 nodes and 1.000 branchiness\n",
      "BA: 2 components with 1, 10 nodes and 1.000, 1.100 branchiness\n",
      "BB: 1 components with 28 nodes and 1.000 branchiness\n",
      "BC: 3 components with 13, 16, 23 nodes and 1.000, 1.062, 0.609 branchiness\n",
      "BD: 1 components with 15 nodes and 1.000 branchiness\n",
      "BE: 1 components with 30 nodes and 0.933 branchiness\n",
      "BF: 2 components with 1, 24 nodes and 1.000, 0.688 branchiness\n",
      "BG: 2 components with 1, 8 nodes and 1.000, 1.125 branchiness\n",
      "BI: 1 components with 38 nodes and 1.000 branchiness\n",
      "BJ: 1 components with 28 nodes and 1.000 branchiness\n",
      "BK: 2 components with 16, 49 nodes and 0.734, 0.567 branchiness\n",
      "BL: 1 components with 46 nodes and 1.000 branchiness\n",
      "BM: 1 components with 10 nodes and 1.000 branchiness\n",
      "BN: 1 components with 29 nodes and 1.000 branchiness\n",
      "BO: 2 components with 2, 32 nodes and 1.000, 1.031 branchiness\n",
      "BP: 2 components with 1, 11 nodes and 1.000, 1.091 branchiness\n",
      "BQ: 1 components with 69 nodes and 0.404 branchiness\n",
      "BR: 1 components with 44 nodes and 0.460 branchiness\n",
      "BS: 1 components with 6 nodes and 1.000 branchiness\n",
      "BT: 1 components with 34 nodes and 0.721 branchiness\n",
      "BU: 1 components with 41 nodes and 0.650 branchiness\n",
      "BV: 1 components with 3 nodes and 1.000 branchiness\n",
      "BW: 1 components with 30 nodes and 1.000 branchiness\n",
      "BX: 2 components with 1, 46 nodes and 1.000, 0.613 branchiness\n",
      "BY: 2 components with 28, 28 nodes and 0.911, 1.036 branchiness\n",
      "BZ: 1 components with 37 nodes and 1.000 branchiness\n",
      " C: 1 components with 30 nodes and 1.000 branchiness\n",
      "CA: 1 components with 29 nodes and 1.000 branchiness\n",
      "CB: 3 components with 1, 15, 18 nodes and 1.000, 1.067, 0.722 branchiness\n",
      "CC: 1 components with 20 nodes and 1.000 branchiness\n",
      "CD: 2 components with 19, 7 nodes and 1.000, 1.143 branchiness\n",
      "CE: 2 components with 1, 20 nodes and 1.000, 1.050 branchiness\n",
      "CF: 1 components with 13 nodes and 1.000 branchiness\n",
      "CG: 1 components with 13 nodes and 1.000 branchiness\n",
      "CH: 1 components with 17 nodes and 1.000 branchiness\n",
      "CI: 1 components with 34 nodes and 0.612 branchiness\n",
      "CJ: 1 components with 7 nodes and 1.000 branchiness\n",
      "CK: 1 components with 22 nodes and 0.932 branchiness\n",
      "CL: 2 components with 1, 1 nodes and 1.000, 1.000 branchiness\n",
      "CN: 1 components with 59 nodes and 0.582 branchiness\n",
      "CP: 2 components with 33, 1 nodes and 1.000, 1.000 branchiness\n",
      "CQ: 1 components with 8 nodes and 1.000 branchiness\n",
      "CR: 1 components with 26 nodes and 1.000 branchiness\n",
      "CS: 1 components with 6 nodes and 1.000 branchiness\n",
      "CT: 1 components with 26 nodes and 1.000 branchiness\n",
      "CU: 1 components with 14 nodes and 1.000 branchiness\n",
      "CW: 1 components with 8 nodes and 1.000 branchiness\n",
      "CX: 1 components with 21 nodes and 1.000 branchiness\n",
      "CY: 1 components with 1 nodes and 1.000 branchiness\n",
      " D: 1 components with 56 nodes and 0.679 branchiness\n",
      "DA: 1 components with 1 nodes and 1.000 branchiness\n",
      "DB: 1 components with 2 nodes and 1.000 branchiness\n",
      "DC: 1 components with 13 nodes and 1.000 branchiness\n",
      "DD: 1 components with 8 nodes and 1.000 branchiness\n",
      "DF: 1 components with 1 nodes and 1.000 branchiness\n",
      "DG: 1 components with 3 nodes and 1.000 branchiness\n",
      "DH: 1 components with 1 nodes and 1.000 branchiness\n",
      "DI: 1 components with 7 nodes and 1.000 branchiness\n",
      "DJ: 1 components with 1 nodes and 1.000 branchiness\n",
      "DL: 2 components with 1, 7 nodes and 1.000, 1.143 branchiness\n",
      "DM: 1 components with 3 nodes and 1.000 branchiness\n",
      "DN: 1 components with 9 nodes and 1.000 branchiness\n",
      "DO: 2 components with 1, 3 nodes and 1.000, 1.333 branchiness\n",
      "DP: 1 components with 11 nodes and 1.000 branchiness\n",
      "DQ: 1 components with 6 nodes and 1.000 branchiness\n",
      " E: 1 components with 36 nodes and 0.653 branchiness\n",
      " F: 2 components with 26, 4 nodes and 0.865, 1.250 branchiness\n",
      " G: 1 components with 30 nodes and 1.000 branchiness\n",
      " H: 1 components with 36 nodes and 1.000 branchiness\n",
      " I: 1 components with 22 nodes and 1.000 branchiness\n",
      " J: 1 components with 25 nodes and 1.000 branchiness\n",
      " K: 1 components with 27 nodes and 1.000 branchiness\n",
      " L: 1 components with 33 nodes and 0.742 branchiness\n",
      " M: 1 components with 50 nodes and 0.477 branchiness\n",
      " N: 1 components with 26 nodes and 0.788 branchiness\n",
      " O: 1 components with 18 nodes and 1.000 branchiness\n",
      " P: 1 components with 24 nodes and 1.000 branchiness\n",
      " Q: 3 components with 1, 13, 46 nodes and 1.000, 0.692, 0.508 branchiness\n",
      " R: 1 components with 17 nodes and 1.000 branchiness\n",
      " S: 1 components with 13 nodes and 1.000 branchiness\n",
      " T: 1 components with 28 nodes and 1.000 branchiness\n",
      " U: 1 components with 41 nodes and 0.911 branchiness\n",
      " V: 1 components with 26 nodes and 1.000 branchiness\n",
      " W: 1 components with 16 nodes and 1.000 branchiness\n",
      " X: 1 components with 28 nodes and 1.000 branchiness\n",
      " Y: 1 components with 36 nodes and 1.000 branchiness\n",
      " Z: 1 components with 43 nodes and 1.000 branchiness\n"
     ]
    }
   ],
   "source": [
    "for name in sorted(ns.keys()):\n",
    "    name_trees = ns[name]\n",
    "    num_components = len(name_trees)\n",
    "    nodes = \", \".join(\"{}\".format(num_nodes(t)) for t in name_trees)\n",
    "    branches = \", \".join(\"{:0.3f}\".format(branchiness(t)) for t in name_trees)\n",
    "    \n",
    "    print \"{: >2}: {} components with {} nodes and {} branchiness\".format(\n",
    "        name, num_components, nodes, branches\n",
    "    )"
   ]
  },
  {
   "cell_type": "code",
   "execution_count": 164,
   "metadata": {
    "collapsed": false
   },
   "outputs": [
    {
     "name": "stdout",
     "output_type": "stream",
     "text": [
      "Average num nodes: 20.03, Average Branchiness: 0.937\n"
     ]
    }
   ],
   "source": [
    "nodes = []\n",
    "bnchi = []\n",
    "\n",
    "for tree in trees:\n",
    "    ns = create_tree(tree)\n",
    "    for name in sorted(ns.keys()):\n",
    "        name_trees = ns[name]\n",
    "        nodes += [float(num_nodes(t)) for t in name_trees]\n",
    "        bnchi += [branchiness(t) for t in name_trees]\n",
    "    \n",
    "print \"Average num nodes: {:0.2f}, Average Branchiness: {:0.3f}\".format(\n",
    "    sum(nodes) / float(len(nodes)), sum(bnchi) / float(len(bnchi))\n",
    ")"
   ]
  }
 ],
 "metadata": {
  "kernelspec": {
   "display_name": "Python 2",
   "language": "python",
   "name": "python2"
  },
  "language_info": {
   "codemirror_mode": {
    "name": "ipython",
    "version": 2
   },
   "file_extension": ".py",
   "mimetype": "text/x-python",
   "name": "python",
   "nbconvert_exporter": "python",
   "pygments_lexer": "ipython2",
   "version": "2.7.11"
  }
 },
 "nbformat": 4,
 "nbformat_minor": 1
}
