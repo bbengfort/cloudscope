{
 "cells": [
  {
   "cell_type": "markdown",
   "metadata": {},
   "source": [
    "# Multiple Results Analysis\n",
    "\n",
    "This notebook is intended to read a simulation results file with multiple simulations and results and create aggregate analyses and visualizations."
   ]
  },
  {
   "cell_type": "code",
   "execution_count": 1,
   "metadata": {
    "collapsed": false
   },
   "outputs": [
    {
     "name": "stderr",
     "output_type": "stream",
     "text": [
      "/usr/local/lib/python2.7/site-packages/matplotlib/__init__.py:872: UserWarning: axes.color_cycle is deprecated and replaced with axes.prop_cycle; please use the latter.\n",
      "  warnings.warn(self.msg_depr % (key, alt_key))\n"
     ]
    }
   ],
   "source": [
    "%matplotlib inline\n",
    "\n",
    "import os\n",
    "import sys \n",
    "import json\n",
    "import numpy as np\n",
    "import pandas as pd\n",
    "import seaborn as sns\n",
    "import matplotlib.pyplot as plt\n",
    "\n",
    "from operator import itemgetter\n",
    "from itertools import groupby, chain\n",
    "from collections import defaultdict, Counter\n",
    "\n",
    "# Modify the Notebook path\n",
    "sys.path.append(os.path.join(os.getcwd(), \"..\"))"
   ]
  },
  {
   "cell_type": "code",
   "execution_count": 2,
   "metadata": {
    "collapsed": true
   },
   "outputs": [],
   "source": [
    "sns.set_style('whitegrid')\n",
    "sns.set_context('notebook')"
   ]
  },
  {
   "cell_type": "code",
   "execution_count": 5,
   "metadata": {
    "collapsed": false
   },
   "outputs": [],
   "source": [
    "# Specify a path to a results file \n",
    "# If None, will attempt to look one up\n",
    "FIXTURES = os.path.join(\"..\", \"fixtures\")\n",
    "# RESULTS  = os.path.join(FIXTURES, \"experiments\", 'eventually-there-multi-20160219.json')\n",
    "# RESULTS  = os.path.join(FIXTURES, \"experiments\", 'raft-quorum-multi-20160219.json')\n",
    "# RESULTS  = os.path.join(FIXTURES, \"experiments\", 'anti-entropy-multi-20160223.json')\n",
    "# RESULTS  = os.path.join(FIXTURES, \"experiments\", 'raft-quorum-commit-20160307.json')\n",
    "# RESULTS  = os.path.join(FIXTURES, \"experiments\", 'single-cluster-20160307.json')\n",
    "\n",
    "def get_results_data(path=RESULTS):\n",
    "    with open(path, 'r') as f:\n",
    "        return json.load(f)\n",
    "\n",
    "# Load the data\n",
    "data = get_results_data()\n",
    "\n",
    "# Get all the values for a particular key \n",
    "def results_values(*key):\n",
    "    for result in data:\n",
    "        value = result\n",
    "        for k in key:\n",
    "            value = value.get(k, {})\n",
    "        yield value\n",
    "\n",
    "rvals = results_values"
   ]
  },
  {
   "cell_type": "code",
   "execution_count": 6,
   "metadata": {
    "collapsed": false
   },
   "outputs": [
    {
     "name": "stdout",
     "output_type": "stream",
     "text": [
      "settings\n"
     ]
    },
    {
     "ename": "AttributeError",
     "evalue": "'unicode' object has no attribute 'get'",
     "output_type": "error",
     "traceback": [
      "\u001b[0;31m---------------------------------------------------------------------------\u001b[0m",
      "\u001b[0;31mAttributeError\u001b[0m                            Traceback (most recent call last)",
      "\u001b[0;32m<ipython-input-6-5afe262623fa>\u001b[0m in \u001b[0;36m<module>\u001b[0;34m()\u001b[0m\n\u001b[1;32m     24\u001b[0m     \u001b[0;32mreturn\u001b[0m \u001b[0mpd\u001b[0m\u001b[0;34m.\u001b[0m\u001b[0mDataFrame\u001b[0m\u001b[0;34m(\u001b[0m\u001b[0mtable\u001b[0m\u001b[0;34m.\u001b[0m\u001b[0mvalues\u001b[0m\u001b[0;34m(\u001b[0m\u001b[0;34m)\u001b[0m\u001b[0;34m)\u001b[0m\u001b[0;34m\u001b[0m\u001b[0m\n\u001b[1;32m     25\u001b[0m \u001b[0;34m\u001b[0m\u001b[0m\n\u001b[0;32m---> 26\u001b[0;31m \u001b[0;32mprint\u001b[0m \u001b[0mreport_settings\u001b[0m\u001b[0;34m(\u001b[0m\u001b[0;34m)\u001b[0m\u001b[0;34m\u001b[0m\u001b[0m\n\u001b[0m",
      "\u001b[0;32m<ipython-input-6-5afe262623fa>\u001b[0m in \u001b[0;36mreport_settings\u001b[0;34m(exclude)\u001b[0m\n\u001b[1;32m      9\u001b[0m     ])\n\u001b[1;32m     10\u001b[0m \u001b[0;34m\u001b[0m\u001b[0m\n\u001b[0;32m---> 11\u001b[0;31m     \u001b[0;32mfor\u001b[0m \u001b[0midx\u001b[0m\u001b[0;34m,\u001b[0m \u001b[0mconf\u001b[0m \u001b[0;32min\u001b[0m \u001b[0menumerate\u001b[0m\u001b[0;34m(\u001b[0m\u001b[0mrvals\u001b[0m\u001b[0;34m(\u001b[0m\u001b[0;34m'settings'\u001b[0m\u001b[0;34m)\u001b[0m\u001b[0;34m)\u001b[0m\u001b[0;34m:\u001b[0m\u001b[0;34m\u001b[0m\u001b[0m\n\u001b[0m\u001b[1;32m     12\u001b[0m         \u001b[0meid\u001b[0m \u001b[0;34m=\u001b[0m \u001b[0;34m\"e{:0>2}\"\u001b[0m\u001b[0;34m.\u001b[0m\u001b[0mformat\u001b[0m\u001b[0;34m(\u001b[0m\u001b[0midx\u001b[0m\u001b[0;34m)\u001b[0m\u001b[0;34m\u001b[0m\u001b[0m\n\u001b[1;32m     13\u001b[0m         \u001b[0mtable\u001b[0m\u001b[0;34m[\u001b[0m\u001b[0meid\u001b[0m\u001b[0;34m]\u001b[0m\u001b[0;34m[\u001b[0m\u001b[0;34m'name'\u001b[0m\u001b[0;34m]\u001b[0m \u001b[0;34m=\u001b[0m \u001b[0meid\u001b[0m\u001b[0;34m\u001b[0m\u001b[0m\n",
      "\u001b[0;32m<ipython-input-5-4e4fac4890a9>\u001b[0m in \u001b[0;36mresults_values\u001b[0;34m(*key)\u001b[0m\n\u001b[1;32m     22\u001b[0m         \u001b[0;32mfor\u001b[0m \u001b[0mk\u001b[0m \u001b[0;32min\u001b[0m \u001b[0mkey\u001b[0m\u001b[0;34m:\u001b[0m\u001b[0;34m\u001b[0m\u001b[0m\n\u001b[1;32m     23\u001b[0m             \u001b[0;32mprint\u001b[0m \u001b[0mvalue\u001b[0m\u001b[0;34m\u001b[0m\u001b[0m\n\u001b[0;32m---> 24\u001b[0;31m             \u001b[0mvalue\u001b[0m \u001b[0;34m=\u001b[0m \u001b[0mvalue\u001b[0m\u001b[0;34m.\u001b[0m\u001b[0mget\u001b[0m\u001b[0;34m(\u001b[0m\u001b[0mk\u001b[0m\u001b[0;34m,\u001b[0m \u001b[0;34m{\u001b[0m\u001b[0;34m}\u001b[0m\u001b[0;34m)\u001b[0m\u001b[0;34m\u001b[0m\u001b[0m\n\u001b[0m\u001b[1;32m     25\u001b[0m         \u001b[0;32myield\u001b[0m \u001b[0mvalue\u001b[0m\u001b[0;34m\u001b[0m\u001b[0m\n\u001b[1;32m     26\u001b[0m \u001b[0;34m\u001b[0m\u001b[0m\n",
      "\u001b[0;31mAttributeError\u001b[0m: 'unicode' object has no attribute 'get'"
     ]
    }
   ],
   "source": [
    "# Print report details \n",
    "def report_settings(exclude=None):\n",
    "    table = defaultdict(dict)\n",
    "    exclude = exclude or frozenset([\n",
    "        'valid_locations', 'invalid_types', \n",
    "        'default_replica', 'default_consistency', 'default_latency', \n",
    "        'max_sim_time', 'title', 'description',\n",
    "        'election_timeout', 'heartbeat_interval',\n",
    "    ])\n",
    "    \n",
    "    for idx, conf in enumerate(rvals('settings')):\n",
    "        eid = \"e{:0>2}\".format(idx)\n",
    "        table[eid]['name'] = eid\n",
    "        for key, val in conf.iteritems():\n",
    "            if key in exclude: continue\n",
    "            table[eid][key] = val\n",
    "    \n",
    "    for idx, conf in enumerate(rvals('topology', 'meta')):\n",
    "        eid = \"e{:0>2}\".format(idx)\n",
    "        for key, val in conf.iteritems():\n",
    "            if key in exclude: continue\n",
    "            table[eid][key] = val\n",
    "\n",
    "    return pd.DataFrame(table.values())\n",
    "\n",
    "print report_settings()"
   ]
  },
  {
   "cell_type": "code",
   "execution_count": null,
   "metadata": {
    "collapsed": false
   },
   "outputs": [],
   "source": [
    "def create_dataframe():\n",
    "    table = []\n",
    "    meta  = list(rvals('topology', 'meta'))\n",
    "    conf  = list(rvals('settings'))\n",
    "\n",
    "    for idx, results in enumerate(rvals('results')):\n",
    "        data = {'eid': \"e{:0>2}\".format(idx)}\n",
    "        data['variable (ms)'] = meta[idx]['variable']\n",
    "        \n",
    "        # Variable latency \n",
    "        latency = meta[idx]['variable'].rstrip('ms').strip().split('-')\n",
    "        latency = sum(map(float, [ms for ms in latency if ms != 'N/A'])) / 2\n",
    "        \n",
    "        # Constant latency \n",
    "        if not latency:\n",
    "            latency = float(meta[idx]['constant'].rstrip('ms').strip())\n",
    "        \n",
    "        data['mean latency (ms)'] = latency\n",
    "        data['constant (ms)'] = meta[idx]['constant']\n",
    "        data['users'] = conf[idx]['users']\n",
    "        data['anti-entropy delay (ms)'] = conf[idx]['anti_entropy_delay']\n",
    "        for key, values in results.iteritems():\n",
    "            if key == 'visibility latency':\n",
    "                data['visibility latency (ms)'] = sum(v[3] - v[2] for v in values) / len(values)\n",
    "                data['visible writes'] = len(set([v[1] for v in values]))\n",
    "            if key == 'commit latency':\n",
    "                data['commit latency (ms)'] = sum(v[3] - v[2] for v in values) / len(values)\n",
    "                data['committed writes'] = len(set([v[1] for v in values]))\n",
    "            else:\n",
    "                data[key] = len(values)\n",
    "        \n",
    "        data['ratio fully visible to writes'] = float(data['visible writes']) / float(data['write'])\n",
    "        \n",
    "        table.append(data)\n",
    "    \n",
    "    return pd.DataFrame(table)\n",
    "\n",
    "df = create_dataframe()"
   ]
  },
  {
   "cell_type": "code",
   "execution_count": null,
   "metadata": {
    "collapsed": false
   },
   "outputs": [],
   "source": [
    "ax = sns.barplot(x='users', y='read', data=df)"
   ]
  },
  {
   "cell_type": "code",
   "execution_count": null,
   "metadata": {
    "collapsed": false
   },
   "outputs": [],
   "source": [
    "ax = sns.barplot(x='users', y=\"write\", data=df)"
   ]
  },
  {
   "cell_type": "code",
   "execution_count": null,
   "metadata": {
    "collapsed": false
   },
   "outputs": [],
   "source": [
    "ax = sns.lmplot(\n",
    "    x=\"mean latency (ms)\", y=\"committed writes\", hue='users', \n",
    "    data=df, fit_reg=False, size=10, aspect=1.5\n",
    ")"
   ]
  },
  {
   "cell_type": "code",
   "execution_count": null,
   "metadata": {
    "collapsed": false,
    "scrolled": true
   },
   "outputs": [],
   "source": [
    "ax = sns.lmplot(\n",
    "    x=\"mean latency (ms)\", y=\"visibility latency (ms)\", hue='users', \n",
    "    data=df, fit_reg=True, size=10, aspect=1.5\n",
    ")"
   ]
  },
  {
   "cell_type": "code",
   "execution_count": null,
   "metadata": {
    "collapsed": false,
    "scrolled": true
   },
   "outputs": [],
   "source": [
    "ax = sns.lmplot(\n",
    "    x=\"mean latency (ms)\", y=\"ratio fully visible to writes\", hue='users', \n",
    "    data=df, fit_reg=True, size=10, aspect=1.5\n",
    ")"
   ]
  },
  {
   "cell_type": "code",
   "execution_count": null,
   "metadata": {
    "collapsed": false
   },
   "outputs": [],
   "source": [
    "ax = sns.lmplot(\n",
    "    x=\"mean latency (ms)\", y=\"commit latency (ms)\", hue='users', \n",
    "    data=df, fit_reg=True, size=10, aspect=1.5\n",
    ")"
   ]
  }
 ],
 "metadata": {
  "kernelspec": {
   "display_name": "Python 2",
   "language": "python",
   "name": "python2"
  },
  "language_info": {
   "codemirror_mode": {
    "name": "ipython",
    "version": 2
   },
   "file_extension": ".py",
   "mimetype": "text/x-python",
   "name": "python",
   "nbconvert_exporter": "python",
   "pygments_lexer": "ipython2",
   "version": "2.7.10"
  }
 },
 "nbformat": 4,
 "nbformat_minor": 0
}
