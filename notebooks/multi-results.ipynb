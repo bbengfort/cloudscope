{
 "cells": [
  {
   "cell_type": "markdown",
   "metadata": {},
   "source": [
    "# Multiple Results Analysis\n",
    "\n",
    "This notebook is intended to read a simulation results file with multiple simulations and results and create aggregate analyses and visualizations."
   ]
  },
  {
   "cell_type": "code",
   "execution_count": 79,
   "metadata": {
    "collapsed": false
   },
   "outputs": [],
   "source": [
    "%matplotlib inline\n",
    "\n",
    "import os\n",
    "import sys \n",
    "import json\n",
    "import numpy as np\n",
    "import pandas as pd\n",
    "import seaborn as sns\n",
    "import matplotlib.pyplot as plt\n",
    "\n",
    "from tabulate import tabulate\n",
    "from operator import itemgetter\n",
    "from itertools import groupby, chain\n",
    "from collections import defaultdict, Counter\n",
    "\n",
    "# Modify the Notebook path\n",
    "sys.path.append(os.path.join(os.getcwd(), \"..\"))"
   ]
  },
  {
   "cell_type": "code",
   "execution_count": 53,
   "metadata": {
    "collapsed": true
   },
   "outputs": [],
   "source": [
    "sns.set_style('whitegrid')\n",
    "sns.set_context('notebook')"
   ]
  },
  {
   "cell_type": "code",
   "execution_count": 45,
   "metadata": {
    "collapsed": false
   },
   "outputs": [],
   "source": [
    "# Specify a path to a results file \n",
    "# If None, will attempt to look one up\n",
    "FIXTURES = os.path.join(\"..\", \"fixtures\")\n",
    "RESULTS  = os.path.join(FIXTURES, 'test-multi-results.json')\n",
    "\n",
    "def get_results_data(path=RESULTS):\n",
    "    with open(path, 'r') as f:\n",
    "        return json.load(f)\n",
    "\n",
    "# Load the data\n",
    "data = get_results_data()\n",
    "\n",
    "# Get all the values for a particular key \n",
    "def results_values(*key):\n",
    "    for result in data:\n",
    "        value = result\n",
    "        for k in key:\n",
    "            value = value.get(k, {})\n",
    "        yield value\n",
    "\n",
    "rvals = results_values"
   ]
  },
  {
   "cell_type": "code",
   "execution_count": 47,
   "metadata": {
    "collapsed": false
   },
   "outputs": [
    {
     "name": "stdout",
     "output_type": "stream",
     "text": [
      "               e06          e07          e04          e05          e02         e03          e00      e01\n",
      "-------------  -----------  -----------  -----------  -----------  ----------  -----------  -------  ---------\n",
      "do_rumoring    True         True         True         True         True        True         True     True\n",
      "access_mean    1800         1800         1800         1800         1800        1800         1800     1800\n",
      "move_prob      0.2          0.2          0.2          0.2          0.2         0.2          0.2      0.2\n",
      "anti_entropy   600          600          600          600          600         600          600      600\n",
      "switch_prob    0.3          0.3          0.3          0.3          0.3         0.3          0.3      0.3\n",
      "access_stddev  512          512          512          512          512         512          512      512\n",
      "read_prob      0.68         0.68         0.68         0.68         0.68        0.68         0.68     0.68\n",
      "random_seed    42           42           42           42           42          42           42       42\n",
      "do_gossip      True         True         True         True         True        True         True     True\n",
      "variable       2255-2630ms  2630-3005ms  1505-1880ms  1880-2255ms  755-1130ms  1130-1505ms  5-380ms  380-755ms\n",
      "seed           42           42           42           42           42          42           42       42\n",
      "constant       N/A ms       N/A ms       N/A ms       N/A ms       N/A ms      N/A ms       N/A ms   N/A ms\n"
     ]
    }
   ],
   "source": [
    "# Print report details \n",
    "def report_settings():\n",
    "    table = defaultdict(list)\n",
    "    exclude = frozenset([\n",
    "        'valid_locations', 'invalid_types', \n",
    "        'default_replica', 'default_consistency', 'default_latency', \n",
    "        'max_sim_time', 'title', 'description',\n",
    "        'election_timeout', 'heartbeat_interval',\n",
    "    ])\n",
    "    \n",
    "    for idx, conf in enumerate(rvals('settings')):\n",
    "        eid = \"e{:0>2}\".format(idx)\n",
    "        for key, val in conf.iteritems():\n",
    "            if key in exclude: continue \n",
    "            if key == 'anti_entropy_delay': key = 'anti_entropy'\n",
    "            if idx == 0:\n",
    "                table[''].append(key)\n",
    "            table[eid].append(val)\n",
    "    \n",
    "    for idx, conf in enumerate(rvals('topology', 'meta')):\n",
    "        eid = \"e{:0>2}\".format(idx)\n",
    "        for key, val in conf.iteritems():\n",
    "            if key in exclude: continue \n",
    "            if idx == 0:\n",
    "                table[''].append(key)\n",
    "            table[eid].append(val)\n",
    "\n",
    "    return tabulate(table, headers='keys')\n",
    "\n",
    "print report_settings()"
   ]
  },
  {
   "cell_type": "code",
   "execution_count": 62,
   "metadata": {
    "collapsed": false
   },
   "outputs": [
    {
     "name": "stdout",
     "output_type": "stream",
     "text": [
      "Read Accesses:\n",
      "\n",
      "         e06    e07    e04    e05    e02    e03    e00    e01\n",
      "-----  -----  -----  -----  -----  -----  -----  -----  -----\n",
      "r0       217    213    247    177    205    187    216    247\n",
      "r1       222    197    227    205    178    191    222    190\n",
      "r2       182    208    196    217    199    181    177    177\n",
      "r3       191    222    170    210    182    176    200    137\n",
      "r4       193    198    179    160    180    252    186    189\n",
      "r5       203    168    179    225    197    215    203    224\n",
      "r6       213    191    212    197    250    194    204    181\n",
      "r7       208    235    222    239    222    203    212    259\n",
      "total   1629   1632   1632   1630   1613   1599   1620   1604\n"
     ]
    }
   ],
   "source": [
    "def report_accesses(access='write'):\n",
    "    table = defaultdict(list)\n",
    "    \n",
    "    for idx, results in enumerate(rvals('results')):\n",
    "        counts = Counter()\n",
    "        eid = \"e{:0>2}\".format(idx)\n",
    "        \n",
    "        for (rid, loc, ts) in results.get(access, []):\n",
    "            counts[rid] += 1\n",
    "            counts['total'] += 1\n",
    "        \n",
    "        for rid, count in sorted(counts.items(), key=itemgetter(0)):\n",
    "            if idx == 0:\n",
    "                table[''].append(rid)\n",
    "            table[eid].append(count)\n",
    "    \n",
    "    print \"{} Accesses:\\n\".format(access.capitalize())\n",
    "    print tabulate(table, headers='keys')\n",
    "    return table\n",
    "\n",
    "table = report_accesses('read')"
   ]
  },
  {
   "cell_type": "code",
   "execution_count": 63,
   "metadata": {
    "collapsed": false
   },
   "outputs": [
    {
     "name": "stdout",
     "output_type": "stream",
     "text": [
      "Write Accesses:\n",
      "\n",
      "         e06    e07    e04    e05    e02    e03    e00    e01\n",
      "-----  -----  -----  -----  -----  -----  -----  -----  -----\n",
      "r0        95    102    114     92    104    122    106    118\n",
      "r1       102    103     97    101     87     94     99     91\n",
      "r2        97    100     98     87    119     85    104     83\n",
      "r3        91     84     77    114     84     71     83     71\n",
      "r4       102     94     90     70     94    113     81     83\n",
      "r5        92     81     87    102     93    107     89    102\n",
      "r6        89     90    100     91    127     93     95     98\n",
      "r7        89    105    108    114    104     97    109    124\n",
      "total    757    759    771    771    812    782    766    770\n"
     ]
    }
   ],
   "source": [
    "table = report_accesses('write')"
   ]
  },
  {
   "cell_type": "code",
   "execution_count": 77,
   "metadata": {
    "collapsed": false
   },
   "outputs": [
    {
     "name": "stdout",
     "output_type": "stream",
     "text": [
      "  constant  eid  mean latency  read  stale reads  users     variable  \\\n",
      "0   N/A ms  e00         192.5  1620           38      1      5-380ms   \n",
      "1   N/A ms  e01         567.5  1604          150      1    380-755ms   \n",
      "2   N/A ms  e02         942.5  1613          302      1   755-1130ms   \n",
      "3   N/A ms  e03        1317.5  1599          474      1  1130-1505ms   \n",
      "4   N/A ms  e04        1692.5  1632          631      1  1505-1880ms   \n",
      "5   N/A ms  e05        2067.5  1630          767      1  1880-2255ms   \n",
      "6   N/A ms  e06        2442.5  1629          893      1  2255-2630ms   \n",
      "7   N/A ms  e07        2817.5  1632          993      1  2630-3005ms   \n",
      "\n",
      "   visibility latency  write  \n",
      "0      2146585.984747    766  \n",
      "1      2226637.918003    770  \n",
      "2      2233210.501001    812  \n",
      "3      2143206.784273    782  \n",
      "4      2182725.530266    771  \n",
      "5      2139018.409623    771  \n",
      "6      2153897.643019    757  \n",
      "7      2176353.758693    759  \n"
     ]
    }
   ],
   "source": [
    "def create_dataframe():\n",
    "    table = []\n",
    "    meta  = list(rvals('topology', 'meta'))\n",
    "\n",
    "    for idx, results in enumerate(rvals('results')):\n",
    "        data = {'eid': \"e{:0>2}\".format(idx)}\n",
    "        data['variable'] = meta[idx]['variable']\n",
    "        \n",
    "        latency = meta[idx]['variable'].rstrip('ms').split('-')\n",
    "        latency = sum(map(float, latency)) / 2\n",
    "        \n",
    "        data['mean latency'] = latency\n",
    "        data['constant'] = meta[idx]['constant']\n",
    "        data['users'] = 1\n",
    "        for key, values in results.iteritems():\n",
    "            if key == 'visibility latency':\n",
    "                data[key] = sum(v[2] for v in values) / len(values)\n",
    "            else:\n",
    "                data[key] = len(values)\n",
    "        table.append(data)\n",
    "    \n",
    "    return pd.DataFrame(table)\n",
    "\n",
    "df = create_dataframe()\n",
    "print df"
   ]
  },
  {
   "cell_type": "code",
   "execution_count": 84,
   "metadata": {
    "collapsed": false
   },
   "outputs": [
    {
     "data": {
      "image/png": "[encoded data removed]",
      "text/plain": [
       "<matplotlib.figure.Figure at 0x1138f98d0>"
      ]
     },
     "metadata": {},
     "output_type": "display_data"
    }
   ],
   "source": [
    "ax = sns.lmplot(x=\"mean latency\", y=\"stale reads\", hue='users', data=df)"
   ]
  },
  {
   "cell_type": "code",
   "execution_count": 85,
   "metadata": {
    "collapsed": false
   },
   "outputs": [
    {
     "data": {
      "image/png": "[encoded data removed]",
      "text/plain": [
       "<matplotlib.figure.Figure at 0x113f58890>"
      ]
     },
     "metadata": {},
     "output_type": "display_data"
    }
   ],
   "source": [
    "ax = sns.lmplot(x=\"mean latency\", y=\"visibility latency\", hue='users', data=df)"
   ]
  }
 ],
 "metadata": {
  "kernelspec": {
   "display_name": "Python 2",
   "language": "python",
   "name": "python2"
  },
  "language_info": {
   "codemirror_mode": {
    "name": "ipython",
    "version": 2
   },
   "file_extension": ".py",
   "mimetype": "text/x-python",
   "name": "python",
   "nbconvert_exporter": "python",
   "pygments_lexer": "ipython2",
   "version": "2.7.10"
  }
 },
 "nbformat": 4,
 "nbformat_minor": 0
}
