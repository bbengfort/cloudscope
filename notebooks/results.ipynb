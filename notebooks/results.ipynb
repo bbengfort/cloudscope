{
 "cells": [
  {
   "cell_type": "markdown",
   "metadata": {},
   "source": [
    "# Results Analysis\n",
    "\n",
    "This notebook is intended to read a simulation results file and report the analysis."
   ]
  },
  {
   "cell_type": "code",
   "execution_count": 1,
   "metadata": {
    "collapsed": false
   },
   "outputs": [],
   "source": [
    "%load_ext memory_profiler\n",
    "%matplotlib inline\n",
    "\n",
    "import os\n",
    "import sys \n",
    "import pandas as pd\n",
    "import seaborn as sns\n",
    "import matplotlib as mpl\n",
    "import graph_tool.all as gt\n",
    "import matplotlib.pyplot as plt\n",
    "\n",
    "# Modify the Notebook path\n",
    "sys.path.append(os.path.join(os.getcwd(), \"..\"))\n",
    "\n",
    "from cloudscope.colors import ColorMap\n",
    "from cloudscope.results import Results\n",
    "from cloudscope.viz import draw_topology\n",
    "from cloudscope.viz import plot_workload\n",
    "from cloudscope.viz import plot_message_traffic\n",
    "\n",
    "from cloudscope.results.graph import extract_graph\n",
    "from cloudscope.results.analysis import create_per_replica_dataframe as create_dataframe\n",
    "from cloudscope.results.analysis import create_messages_dataframe"
   ]
  },
  {
   "cell_type": "code",
   "execution_count": 2,
   "metadata": {
    "collapsed": true
   },
   "outputs": [],
   "source": [
    "sns.set_style('whitegrid')\n",
    "sns.set_context('notebook')\n",
    "sns.set_palette('Set1')"
   ]
  },
  {
   "cell_type": "code",
   "execution_count": 5,
   "metadata": {
    "collapsed": false
   },
   "outputs": [],
   "source": [
    "# Specify a path to a results file \n",
    "FIXTURES = os.path.join(\"..\", \"fixtures\", \"results\")\n",
    "FIGURES  = os.path.join(\"..\", \"fixtures\", \"figures\")\n",
    "\n",
    "NAME     = \"eventually-consistent-large-group-20160923.json\"\n",
    "RESULTS  = os.path.join(FIXTURES, NAME)\n",
    "\n",
    "def get_results_data(path=RESULTS):\n",
    "    with open(path, 'r') as f:\n",
    "        return Results.load(f)"
   ]
  },
  {
   "cell_type": "code",
   "execution_count": 6,
   "metadata": {
    "collapsed": false
   },
   "outputs": [
    {
     "name": "stdout",
     "output_type": "stream",
     "text": [
      "peak memory: 175.01 MiB, increment: 46.18 MiB\n"
     ]
    }
   ],
   "source": [
    "%%memit \n",
    "# Load the data\n",
    "results = get_results_data()"
   ]
  },
  {
   "cell_type": "code",
   "execution_count": null,
   "metadata": {
    "collapsed": false
   },
   "outputs": [],
   "source": [
    "# Extract the Graph Tool graph     \n",
    "G = extract_graph(results, by_message_type=True)\n",
    "\n",
    "# Draw the graph \n",
    "vlabel  = G.vp['id']\n",
    "vsize   = G.vp['writes']\n",
    "vsize   = gt.prop_to_size(vsize, ma=60, mi=20)\n",
    "\n",
    "# Set the vertex color \n",
    "vcolor  = G.new_vertex_property('string') \n",
    "vcmap   = ColorMap('flatui', shuffle=False)\n",
    "for vertex in G.vertices():\n",
    "    vcolor[vertex] = vcmap(G.vp['consistency'][vertex])\n",
    "\n",
    "# Set the edge color \n",
    "ecolor  = G.new_edge_property('string')\n",
    "ecmap   = ColorMap('set1', shuffle=False)\n",
    "for edge in G.edges():\n",
    "    ecolor[edge] = ecmap(G.ep['label'][edge])\n",
    "\n",
    "elabel  = G.ep['label']\n",
    "esize   = G.ep['norm']\n",
    "esize   = gt.prop_to_size(esize, mi=.1, ma=3)\n",
    "eweight = G.ep['weight']\n",
    "\n",
    "# Figure out the path name to save the figure \n",
    "name = os.path.splitext(NAME)[0] + \".png\"\n",
    "output = os.path.join(FIGURES, name)\n",
    "\n",
    "gt.graph_draw(\n",
    "    G, output_size=(1200,1200), output=output,\n",
    "    vertex_text=vlabel, vertex_size=vsize, vertex_font_weight=1, \n",
    "    vertex_pen_width=1.3, vertex_fill_color=vcolor,\n",
    "    edge_pen_width=esize, edge_color=ecolor, edge_text=elabel\n",
    ")"
   ]
  },
  {
   "cell_type": "code",
   "execution_count": 7,
   "metadata": {
    "collapsed": false
   },
   "outputs": [
    {
     "name": "stdout",
     "output_type": "stream",
     "text": [
      "peak memory: 163.50 MiB, increment: 0.97 MiB\n"
     ]
    }
   ],
   "source": [
    "%%memit\n",
    "# Create the data frame for further analysis\n",
    "df = create_dataframe(results)"
   ]
  },
  {
   "cell_type": "code",
   "execution_count": 8,
   "metadata": {
    "collapsed": false
   },
   "outputs": [
    {
     "data": {
      "text/html": [
       "<div>\n",
       "<table border=\"1\" class=\"dataframe\">\n",
       "  <thead>\n",
       "    <tr style=\"text-align: right;\">\n",
       "      <th></th>\n",
       "      <th>completed reads</th>\n",
       "      <th>completed writes</th>\n",
       "      <th>consistency</th>\n",
       "      <th>cumulative read time staleness (ms)</th>\n",
       "      <th>cumulative write time staleness (ms)</th>\n",
       "      <th>empty reads</th>\n",
       "      <th>forked writes</th>\n",
       "      <th>id</th>\n",
       "      <th>label</th>\n",
       "      <th>location</th>\n",
       "      <th>...</th>\n",
       "      <th>partially visible writes</th>\n",
       "      <th>reads</th>\n",
       "      <th>replica</th>\n",
       "      <th>stale reads</th>\n",
       "      <th>stale writes</th>\n",
       "      <th>type</th>\n",
       "      <th>visible writes</th>\n",
       "      <th>writes</th>\n",
       "      <th>partially replicated writes</th>\n",
       "      <th>visibility ratio</th>\n",
       "    </tr>\n",
       "  </thead>\n",
       "  <tbody>\n",
       "    <tr>\n",
       "      <th>0</th>\n",
       "      <td>152</td>\n",
       "      <td>144</td>\n",
       "      <td>eventual</td>\n",
       "      <td>178532.346201</td>\n",
       "      <td>119297.896907</td>\n",
       "      <td>1.0</td>\n",
       "      <td>22</td>\n",
       "      <td>a0</td>\n",
       "      <td>Alpha 0</td>\n",
       "      <td>alpha-site</td>\n",
       "      <td>...</td>\n",
       "      <td>42</td>\n",
       "      <td>153</td>\n",
       "      <td>a0</td>\n",
       "      <td>37</td>\n",
       "      <td>26</td>\n",
       "      <td>desktop</td>\n",
       "      <td>101</td>\n",
       "      <td>144</td>\n",
       "      <td>43</td>\n",
       "      <td>0.701389</td>\n",
       "    </tr>\n",
       "    <tr>\n",
       "      <th>1</th>\n",
       "      <td>149</td>\n",
       "      <td>149</td>\n",
       "      <td>eventual</td>\n",
       "      <td>68429.227952</td>\n",
       "      <td>130887.744750</td>\n",
       "      <td>NaN</td>\n",
       "      <td>20</td>\n",
       "      <td>a1</td>\n",
       "      <td>Alpha 1</td>\n",
       "      <td>alpha-site</td>\n",
       "      <td>...</td>\n",
       "      <td>52</td>\n",
       "      <td>149</td>\n",
       "      <td>a1</td>\n",
       "      <td>19</td>\n",
       "      <td>28</td>\n",
       "      <td>laptop</td>\n",
       "      <td>97</td>\n",
       "      <td>149</td>\n",
       "      <td>52</td>\n",
       "      <td>0.651007</td>\n",
       "    </tr>\n",
       "    <tr>\n",
       "      <th>2</th>\n",
       "      <td>135</td>\n",
       "      <td>161</td>\n",
       "      <td>eventual</td>\n",
       "      <td>52380.487698</td>\n",
       "      <td>75023.707542</td>\n",
       "      <td>2.0</td>\n",
       "      <td>16</td>\n",
       "      <td>a2</td>\n",
       "      <td>Alpha 2</td>\n",
       "      <td>alpha-site</td>\n",
       "      <td>...</td>\n",
       "      <td>39</td>\n",
       "      <td>137</td>\n",
       "      <td>a2</td>\n",
       "      <td>17</td>\n",
       "      <td>19</td>\n",
       "      <td>laptop</td>\n",
       "      <td>122</td>\n",
       "      <td>161</td>\n",
       "      <td>39</td>\n",
       "      <td>0.757764</td>\n",
       "    </tr>\n",
       "    <tr>\n",
       "      <th>3</th>\n",
       "      <td>148</td>\n",
       "      <td>149</td>\n",
       "      <td>eventual</td>\n",
       "      <td>165470.756921</td>\n",
       "      <td>160195.171695</td>\n",
       "      <td>2.0</td>\n",
       "      <td>28</td>\n",
       "      <td>a3</td>\n",
       "      <td>Alpha 3</td>\n",
       "      <td>alpha-site</td>\n",
       "      <td>...</td>\n",
       "      <td>48</td>\n",
       "      <td>150</td>\n",
       "      <td>a3</td>\n",
       "      <td>37</td>\n",
       "      <td>41</td>\n",
       "      <td>laptop</td>\n",
       "      <td>100</td>\n",
       "      <td>149</td>\n",
       "      <td>49</td>\n",
       "      <td>0.671141</td>\n",
       "    </tr>\n",
       "    <tr>\n",
       "      <th>4</th>\n",
       "      <td>160</td>\n",
       "      <td>132</td>\n",
       "      <td>eventual</td>\n",
       "      <td>192528.115962</td>\n",
       "      <td>111909.665862</td>\n",
       "      <td>4.0</td>\n",
       "      <td>18</td>\n",
       "      <td>b0</td>\n",
       "      <td>Bravo 0</td>\n",
       "      <td>bravo-site</td>\n",
       "      <td>...</td>\n",
       "      <td>44</td>\n",
       "      <td>164</td>\n",
       "      <td>b0</td>\n",
       "      <td>50</td>\n",
       "      <td>27</td>\n",
       "      <td>desktop</td>\n",
       "      <td>88</td>\n",
       "      <td>132</td>\n",
       "      <td>44</td>\n",
       "      <td>0.666667</td>\n",
       "    </tr>\n",
       "    <tr>\n",
       "      <th>5</th>\n",
       "      <td>153</td>\n",
       "      <td>141</td>\n",
       "      <td>eventual</td>\n",
       "      <td>122275.800777</td>\n",
       "      <td>120996.498153</td>\n",
       "      <td>5.0</td>\n",
       "      <td>18</td>\n",
       "      <td>b1</td>\n",
       "      <td>Bravo 1</td>\n",
       "      <td>bravo-site</td>\n",
       "      <td>...</td>\n",
       "      <td>39</td>\n",
       "      <td>158</td>\n",
       "      <td>b1</td>\n",
       "      <td>26</td>\n",
       "      <td>23</td>\n",
       "      <td>laptop</td>\n",
       "      <td>102</td>\n",
       "      <td>141</td>\n",
       "      <td>39</td>\n",
       "      <td>0.723404</td>\n",
       "    </tr>\n",
       "    <tr>\n",
       "      <th>6</th>\n",
       "      <td>156</td>\n",
       "      <td>142</td>\n",
       "      <td>eventual</td>\n",
       "      <td>206427.185390</td>\n",
       "      <td>153981.817999</td>\n",
       "      <td>1.0</td>\n",
       "      <td>23</td>\n",
       "      <td>b2</td>\n",
       "      <td>Bravo 2</td>\n",
       "      <td>bravo-site</td>\n",
       "      <td>...</td>\n",
       "      <td>45</td>\n",
       "      <td>157</td>\n",
       "      <td>b2</td>\n",
       "      <td>27</td>\n",
       "      <td>32</td>\n",
       "      <td>laptop</td>\n",
       "      <td>95</td>\n",
       "      <td>142</td>\n",
       "      <td>47</td>\n",
       "      <td>0.669014</td>\n",
       "    </tr>\n",
       "    <tr>\n",
       "      <th>7</th>\n",
       "      <td>150</td>\n",
       "      <td>150</td>\n",
       "      <td>eventual</td>\n",
       "      <td>142625.812188</td>\n",
       "      <td>138665.221262</td>\n",
       "      <td>NaN</td>\n",
       "      <td>21</td>\n",
       "      <td>b3</td>\n",
       "      <td>Bravo 3</td>\n",
       "      <td>bravo-site</td>\n",
       "      <td>...</td>\n",
       "      <td>49</td>\n",
       "      <td>150</td>\n",
       "      <td>b3</td>\n",
       "      <td>29</td>\n",
       "      <td>33</td>\n",
       "      <td>laptop</td>\n",
       "      <td>100</td>\n",
       "      <td>150</td>\n",
       "      <td>50</td>\n",
       "      <td>0.666667</td>\n",
       "    </tr>\n",
       "    <tr>\n",
       "      <th>8</th>\n",
       "      <td>164</td>\n",
       "      <td>134</td>\n",
       "      <td>eventual</td>\n",
       "      <td>87766.130106</td>\n",
       "      <td>76459.368983</td>\n",
       "      <td>NaN</td>\n",
       "      <td>15</td>\n",
       "      <td>c0</td>\n",
       "      <td>Charlie 0</td>\n",
       "      <td>charlie-site</td>\n",
       "      <td>...</td>\n",
       "      <td>30</td>\n",
       "      <td>164</td>\n",
       "      <td>c0</td>\n",
       "      <td>23</td>\n",
       "      <td>17</td>\n",
       "      <td>desktop</td>\n",
       "      <td>104</td>\n",
       "      <td>134</td>\n",
       "      <td>30</td>\n",
       "      <td>0.776119</td>\n",
       "    </tr>\n",
       "    <tr>\n",
       "      <th>9</th>\n",
       "      <td>152</td>\n",
       "      <td>150</td>\n",
       "      <td>eventual</td>\n",
       "      <td>89729.690941</td>\n",
       "      <td>170778.229271</td>\n",
       "      <td>NaN</td>\n",
       "      <td>24</td>\n",
       "      <td>c1</td>\n",
       "      <td>Charlie 1</td>\n",
       "      <td>charlie-site</td>\n",
       "      <td>...</td>\n",
       "      <td>37</td>\n",
       "      <td>152</td>\n",
       "      <td>c1</td>\n",
       "      <td>22</td>\n",
       "      <td>35</td>\n",
       "      <td>laptop</td>\n",
       "      <td>112</td>\n",
       "      <td>150</td>\n",
       "      <td>38</td>\n",
       "      <td>0.746667</td>\n",
       "    </tr>\n",
       "    <tr>\n",
       "      <th>10</th>\n",
       "      <td>157</td>\n",
       "      <td>144</td>\n",
       "      <td>eventual</td>\n",
       "      <td>246098.475778</td>\n",
       "      <td>213185.622552</td>\n",
       "      <td>NaN</td>\n",
       "      <td>35</td>\n",
       "      <td>c2</td>\n",
       "      <td>Charlie 2</td>\n",
       "      <td>charlie-site</td>\n",
       "      <td>...</td>\n",
       "      <td>51</td>\n",
       "      <td>157</td>\n",
       "      <td>c2</td>\n",
       "      <td>52</td>\n",
       "      <td>51</td>\n",
       "      <td>laptop</td>\n",
       "      <td>93</td>\n",
       "      <td>144</td>\n",
       "      <td>51</td>\n",
       "      <td>0.645833</td>\n",
       "    </tr>\n",
       "    <tr>\n",
       "      <th>11</th>\n",
       "      <td>144</td>\n",
       "      <td>157</td>\n",
       "      <td>eventual</td>\n",
       "      <td>155844.751155</td>\n",
       "      <td>144029.746040</td>\n",
       "      <td>NaN</td>\n",
       "      <td>28</td>\n",
       "      <td>c3</td>\n",
       "      <td>Charlie 3</td>\n",
       "      <td>charlie-site</td>\n",
       "      <td>...</td>\n",
       "      <td>52</td>\n",
       "      <td>144</td>\n",
       "      <td>c3</td>\n",
       "      <td>41</td>\n",
       "      <td>38</td>\n",
       "      <td>laptop</td>\n",
       "      <td>104</td>\n",
       "      <td>157</td>\n",
       "      <td>53</td>\n",
       "      <td>0.662420</td>\n",
       "    </tr>\n",
       "    <tr>\n",
       "      <th>12</th>\n",
       "      <td>164</td>\n",
       "      <td>135</td>\n",
       "      <td>eventual</td>\n",
       "      <td>172503.224345</td>\n",
       "      <td>211056.765195</td>\n",
       "      <td>1.0</td>\n",
       "      <td>24</td>\n",
       "      <td>d0</td>\n",
       "      <td>Delta 0</td>\n",
       "      <td>delta-site</td>\n",
       "      <td>...</td>\n",
       "      <td>44</td>\n",
       "      <td>165</td>\n",
       "      <td>d0</td>\n",
       "      <td>32</td>\n",
       "      <td>32</td>\n",
       "      <td>desktop</td>\n",
       "      <td>91</td>\n",
       "      <td>135</td>\n",
       "      <td>44</td>\n",
       "      <td>0.674074</td>\n",
       "    </tr>\n",
       "    <tr>\n",
       "      <th>13</th>\n",
       "      <td>152</td>\n",
       "      <td>147</td>\n",
       "      <td>eventual</td>\n",
       "      <td>185053.078487</td>\n",
       "      <td>101382.464468</td>\n",
       "      <td>1.0</td>\n",
       "      <td>18</td>\n",
       "      <td>d1</td>\n",
       "      <td>Delta 1</td>\n",
       "      <td>delta-site</td>\n",
       "      <td>...</td>\n",
       "      <td>47</td>\n",
       "      <td>153</td>\n",
       "      <td>d1</td>\n",
       "      <td>44</td>\n",
       "      <td>21</td>\n",
       "      <td>laptop</td>\n",
       "      <td>100</td>\n",
       "      <td>147</td>\n",
       "      <td>47</td>\n",
       "      <td>0.680272</td>\n",
       "    </tr>\n",
       "    <tr>\n",
       "      <th>14</th>\n",
       "      <td>152</td>\n",
       "      <td>146</td>\n",
       "      <td>eventual</td>\n",
       "      <td>200813.961401</td>\n",
       "      <td>95439.163915</td>\n",
       "      <td>1.0</td>\n",
       "      <td>16</td>\n",
       "      <td>d2</td>\n",
       "      <td>Delta 2</td>\n",
       "      <td>delta-site</td>\n",
       "      <td>...</td>\n",
       "      <td>45</td>\n",
       "      <td>153</td>\n",
       "      <td>d2</td>\n",
       "      <td>23</td>\n",
       "      <td>25</td>\n",
       "      <td>laptop</td>\n",
       "      <td>101</td>\n",
       "      <td>146</td>\n",
       "      <td>45</td>\n",
       "      <td>0.691781</td>\n",
       "    </tr>\n",
       "    <tr>\n",
       "      <th>15</th>\n",
       "      <td>154</td>\n",
       "      <td>146</td>\n",
       "      <td>eventual</td>\n",
       "      <td>152808.144368</td>\n",
       "      <td>109303.757569</td>\n",
       "      <td>1.0</td>\n",
       "      <td>16</td>\n",
       "      <td>d3</td>\n",
       "      <td>Delta 3</td>\n",
       "      <td>delta-site</td>\n",
       "      <td>...</td>\n",
       "      <td>45</td>\n",
       "      <td>155</td>\n",
       "      <td>d3</td>\n",
       "      <td>34</td>\n",
       "      <td>29</td>\n",
       "      <td>laptop</td>\n",
       "      <td>101</td>\n",
       "      <td>146</td>\n",
       "      <td>45</td>\n",
       "      <td>0.691781</td>\n",
       "    </tr>\n",
       "    <tr>\n",
       "      <th>16</th>\n",
       "      <td>150</td>\n",
       "      <td>144</td>\n",
       "      <td>eventual</td>\n",
       "      <td>117146.580531</td>\n",
       "      <td>34268.249272</td>\n",
       "      <td>3.0</td>\n",
       "      <td>5</td>\n",
       "      <td>e0</td>\n",
       "      <td>Echo 0</td>\n",
       "      <td>echo-site</td>\n",
       "      <td>...</td>\n",
       "      <td>21</td>\n",
       "      <td>153</td>\n",
       "      <td>e0</td>\n",
       "      <td>12</td>\n",
       "      <td>10</td>\n",
       "      <td>desktop</td>\n",
       "      <td>123</td>\n",
       "      <td>144</td>\n",
       "      <td>21</td>\n",
       "      <td>0.854167</td>\n",
       "    </tr>\n",
       "    <tr>\n",
       "      <th>17</th>\n",
       "      <td>158</td>\n",
       "      <td>141</td>\n",
       "      <td>eventual</td>\n",
       "      <td>88460.287565</td>\n",
       "      <td>50832.420732</td>\n",
       "      <td>2.0</td>\n",
       "      <td>11</td>\n",
       "      <td>e1</td>\n",
       "      <td>Echo 1</td>\n",
       "      <td>echo-site</td>\n",
       "      <td>...</td>\n",
       "      <td>25</td>\n",
       "      <td>160</td>\n",
       "      <td>e1</td>\n",
       "      <td>19</td>\n",
       "      <td>12</td>\n",
       "      <td>laptop</td>\n",
       "      <td>115</td>\n",
       "      <td>141</td>\n",
       "      <td>26</td>\n",
       "      <td>0.815603</td>\n",
       "    </tr>\n",
       "    <tr>\n",
       "      <th>18</th>\n",
       "      <td>146</td>\n",
       "      <td>150</td>\n",
       "      <td>eventual</td>\n",
       "      <td>91028.312086</td>\n",
       "      <td>223908.111221</td>\n",
       "      <td>2.0</td>\n",
       "      <td>22</td>\n",
       "      <td>e2</td>\n",
       "      <td>Echo 2</td>\n",
       "      <td>echo-site</td>\n",
       "      <td>...</td>\n",
       "      <td>34</td>\n",
       "      <td>148</td>\n",
       "      <td>e2</td>\n",
       "      <td>20</td>\n",
       "      <td>35</td>\n",
       "      <td>laptop</td>\n",
       "      <td>115</td>\n",
       "      <td>150</td>\n",
       "      <td>35</td>\n",
       "      <td>0.766667</td>\n",
       "    </tr>\n",
       "    <tr>\n",
       "      <th>19</th>\n",
       "      <td>150</td>\n",
       "      <td>148</td>\n",
       "      <td>eventual</td>\n",
       "      <td>156900.295417</td>\n",
       "      <td>239609.454626</td>\n",
       "      <td>NaN</td>\n",
       "      <td>18</td>\n",
       "      <td>e3</td>\n",
       "      <td>Echo 3</td>\n",
       "      <td>echo-site</td>\n",
       "      <td>...</td>\n",
       "      <td>38</td>\n",
       "      <td>150</td>\n",
       "      <td>e3</td>\n",
       "      <td>22</td>\n",
       "      <td>24</td>\n",
       "      <td>laptop</td>\n",
       "      <td>110</td>\n",
       "      <td>148</td>\n",
       "      <td>38</td>\n",
       "      <td>0.743243</td>\n",
       "    </tr>\n",
       "  </tbody>\n",
       "</table>\n",
       "<p>20 rows × 29 columns</p>\n",
       "</div>"
      ],
      "text/plain": [
       "    completed reads  completed writes consistency  \\\n",
       "0               152               144    eventual   \n",
       "1               149               149    eventual   \n",
       "2               135               161    eventual   \n",
       "3               148               149    eventual   \n",
       "4               160               132    eventual   \n",
       "5               153               141    eventual   \n",
       "6               156               142    eventual   \n",
       "7               150               150    eventual   \n",
       "8               164               134    eventual   \n",
       "9               152               150    eventual   \n",
       "10              157               144    eventual   \n",
       "11              144               157    eventual   \n",
       "12              164               135    eventual   \n",
       "13              152               147    eventual   \n",
       "14              152               146    eventual   \n",
       "15              154               146    eventual   \n",
       "16              150               144    eventual   \n",
       "17              158               141    eventual   \n",
       "18              146               150    eventual   \n",
       "19              150               148    eventual   \n",
       "\n",
       "    cumulative read time staleness (ms)  cumulative write time staleness (ms)  \\\n",
       "0                         178532.346201                         119297.896907   \n",
       "1                          68429.227952                         130887.744750   \n",
       "2                          52380.487698                          75023.707542   \n",
       "3                         165470.756921                         160195.171695   \n",
       "4                         192528.115962                         111909.665862   \n",
       "5                         122275.800777                         120996.498153   \n",
       "6                         206427.185390                         153981.817999   \n",
       "7                         142625.812188                         138665.221262   \n",
       "8                          87766.130106                          76459.368983   \n",
       "9                          89729.690941                         170778.229271   \n",
       "10                        246098.475778                         213185.622552   \n",
       "11                        155844.751155                         144029.746040   \n",
       "12                        172503.224345                         211056.765195   \n",
       "13                        185053.078487                         101382.464468   \n",
       "14                        200813.961401                          95439.163915   \n",
       "15                        152808.144368                         109303.757569   \n",
       "16                        117146.580531                          34268.249272   \n",
       "17                         88460.287565                          50832.420732   \n",
       "18                         91028.312086                         223908.111221   \n",
       "19                        156900.295417                         239609.454626   \n",
       "\n",
       "    empty reads  forked writes  id      label      location        ...         \\\n",
       "0           1.0             22  a0    Alpha 0    alpha-site        ...          \n",
       "1           NaN             20  a1    Alpha 1    alpha-site        ...          \n",
       "2           2.0             16  a2    Alpha 2    alpha-site        ...          \n",
       "3           2.0             28  a3    Alpha 3    alpha-site        ...          \n",
       "4           4.0             18  b0    Bravo 0    bravo-site        ...          \n",
       "5           5.0             18  b1    Bravo 1    bravo-site        ...          \n",
       "6           1.0             23  b2    Bravo 2    bravo-site        ...          \n",
       "7           NaN             21  b3    Bravo 3    bravo-site        ...          \n",
       "8           NaN             15  c0  Charlie 0  charlie-site        ...          \n",
       "9           NaN             24  c1  Charlie 1  charlie-site        ...          \n",
       "10          NaN             35  c2  Charlie 2  charlie-site        ...          \n",
       "11          NaN             28  c3  Charlie 3  charlie-site        ...          \n",
       "12          1.0             24  d0    Delta 0    delta-site        ...          \n",
       "13          1.0             18  d1    Delta 1    delta-site        ...          \n",
       "14          1.0             16  d2    Delta 2    delta-site        ...          \n",
       "15          1.0             16  d3    Delta 3    delta-site        ...          \n",
       "16          3.0              5  e0     Echo 0     echo-site        ...          \n",
       "17          2.0             11  e1     Echo 1     echo-site        ...          \n",
       "18          2.0             22  e2     Echo 2     echo-site        ...          \n",
       "19          NaN             18  e3     Echo 3     echo-site        ...          \n",
       "\n",
       "    partially visible writes  reads  replica  stale reads  stale writes  \\\n",
       "0                         42    153       a0           37            26   \n",
       "1                         52    149       a1           19            28   \n",
       "2                         39    137       a2           17            19   \n",
       "3                         48    150       a3           37            41   \n",
       "4                         44    164       b0           50            27   \n",
       "5                         39    158       b1           26            23   \n",
       "6                         45    157       b2           27            32   \n",
       "7                         49    150       b3           29            33   \n",
       "8                         30    164       c0           23            17   \n",
       "9                         37    152       c1           22            35   \n",
       "10                        51    157       c2           52            51   \n",
       "11                        52    144       c3           41            38   \n",
       "12                        44    165       d0           32            32   \n",
       "13                        47    153       d1           44            21   \n",
       "14                        45    153       d2           23            25   \n",
       "15                        45    155       d3           34            29   \n",
       "16                        21    153       e0           12            10   \n",
       "17                        25    160       e1           19            12   \n",
       "18                        34    148       e2           20            35   \n",
       "19                        38    150       e3           22            24   \n",
       "\n",
       "       type  visible writes  writes  partially replicated writes  \\\n",
       "0   desktop             101     144                           43   \n",
       "1    laptop              97     149                           52   \n",
       "2    laptop             122     161                           39   \n",
       "3    laptop             100     149                           49   \n",
       "4   desktop              88     132                           44   \n",
       "5    laptop             102     141                           39   \n",
       "6    laptop              95     142                           47   \n",
       "7    laptop             100     150                           50   \n",
       "8   desktop             104     134                           30   \n",
       "9    laptop             112     150                           38   \n",
       "10   laptop              93     144                           51   \n",
       "11   laptop             104     157                           53   \n",
       "12  desktop              91     135                           44   \n",
       "13   laptop             100     147                           47   \n",
       "14   laptop             101     146                           45   \n",
       "15   laptop             101     146                           45   \n",
       "16  desktop             123     144                           21   \n",
       "17   laptop             115     141                           26   \n",
       "18   laptop             115     150                           35   \n",
       "19   laptop             110     148                           38   \n",
       "\n",
       "    visibility ratio  \n",
       "0           0.701389  \n",
       "1           0.651007  \n",
       "2           0.757764  \n",
       "3           0.671141  \n",
       "4           0.666667  \n",
       "5           0.723404  \n",
       "6           0.669014  \n",
       "7           0.666667  \n",
       "8           0.776119  \n",
       "9           0.746667  \n",
       "10          0.645833  \n",
       "11          0.662420  \n",
       "12          0.674074  \n",
       "13          0.680272  \n",
       "14          0.691781  \n",
       "15          0.691781  \n",
       "16          0.854167  \n",
       "17          0.815603  \n",
       "18          0.766667  \n",
       "19          0.743243  \n",
       "\n",
       "[20 rows x 29 columns]"
      ]
     },
     "execution_count": 8,
     "metadata": {},
     "output_type": "execute_result"
    }
   ],
   "source": [
    "df"
   ]
  },
  {
   "cell_type": "markdown",
   "metadata": {},
   "source": [
    "# Results "
   ]
  },
  {
   "cell_type": "code",
   "execution_count": 9,
   "metadata": {
    "collapsed": false
   },
   "outputs": [
    {
     "name": "stdout",
     "output_type": "stream",
     "text": [
      "Simulation: Eventually Consistent Large Group (Cloudscope v0.4)\n",
      "A large group of eventually consistent nodes in 5 locations.\n",
      "\n",
      "Ran on: Sep 23, 2016 at 16:02 UTC (4 minutes 42 seconds)\n",
      "\n",
      "Settings\n",
      "========\n",
      "Read Policy                latest\n",
      "Constant                      N/A\n",
      "Outage Stddev                 512\n",
      "Online Stddev                 512\n",
      "Access Mean                  3000\n",
      "Outage Prob                   0.0\n",
      "Seed                         None\n",
      "Access Stddev                 380\n",
      "Do Rumoring                     0\n",
      "Partition Across             wide\n",
      "Switch Prob                  0.05\n",
      "Conflict Prob                 0.5\n",
      "Move Prob                     0.1\n",
      "Latency Stddev                 15\n",
      "Integration             federated\n",
      "Latency Mean                   60\n",
      "Validate Consistency            1\n",
      "Invalid Locations    [u'unknown']\n",
      "Default Latency               800\n",
      "Do Gossip                       1\n",
      "Tick Metric                   600\n",
      "Max Sim Time               900000\n",
      "Random Seed                    42\n",
      "Description          A large group of eventually consistent nodes in 5 locations.\n",
      "Trace Logs                      0\n",
      "Local Latency             [15, 2]\n",
      "Election Timeout      [600, 1200]\n",
      "Num Neighbors                   1\n",
      "Local Prob                    0.8\n",
      "Heartbeat Interval            300\n",
      "Default Consistency        strong\n",
      "Tick Param Model           bailis\n",
      "Variable                  30-90ms\n",
      "Invalid Types         [u'backup']\n",
      "Aggregate Heartbeats            1\n",
      "Sync Prob                     0.6\n",
      "Read Prob                    0.52\n",
      "Aggregate Writes                1\n",
      "Max Objects Accessed           10\n",
      "Anti Entropy Delay            600\n",
      "Type                     eventual\n",
      "Synchronous Access              0\n",
      "Title                Eventually Consistent Large Group\n",
      "Online Mean               1160000\n",
      "Session Timeout             40960\n",
      "Trace Messages                  0\n",
      "Default Replica           storage\n",
      "Outage Mean                  5400\n",
      "Latency Range            [15, 60]\n",
      "Wide Latency             [60, 15]\n",
      "Object Prob                   0.1\n",
      "Users                          20\n"
     ]
    }
   ],
   "source": [
    "print results.print_details()"
   ]
  },
  {
   "cell_type": "markdown",
   "metadata": {},
   "source": [
    "## Topology"
   ]
  },
  {
   "cell_type": "markdown",
   "metadata": {},
   "source": [
    "## Workload"
   ]
  },
  {
   "cell_type": "code",
   "execution_count": null,
   "metadata": {
    "collapsed": false
   },
   "outputs": [],
   "source": [
    "# Create the workload timeline plot \n",
    "plot_workload(results, series='objects')"
   ]
  },
  {
   "cell_type": "code",
   "execution_count": null,
   "metadata": {
    "collapsed": false
   },
   "outputs": [],
   "source": [
    "# Create the sent messages timeline\n",
    "# plot_message_traffic(results.results['sent'])"
   ]
  },
  {
   "cell_type": "code",
   "execution_count": null,
   "metadata": {
    "collapsed": false
   },
   "outputs": [],
   "source": [
    "%%memit\n",
    "\n",
    "def get_message_rows(df):\n",
    "    for row in df[['message types', 'label', 'consistency']].itertuples(): \n",
    "        item = row[1]\n",
    "        item['replica'] = \"{} ({})\".format(row[2], row[3])\n",
    "        yield item\n",
    "\n",
    "# Create the data frame \n",
    "msgs = pd.DataFrame(sorted(get_message_rows(df), key=lambda item: item['replica']))\n",
    "\n",
    "# Create the figure \n",
    "fig = plt.figure(figsize=(14,20))\n",
    "ax  = fig.add_subplot(111)\n",
    "mpl.rcParams.update({'font.size': 14})\n",
    "\n",
    "# Plot the bar chart \n",
    "g = msgs.plot(\n",
    "    x='replica', kind='barh', stacked=True, ax=ax, \n",
    "    title=\"Message Counts by Type\", color=sns.color_palette()\n",
    ")\n",
    "\n",
    "# Modify the figure \n",
    "ax.set_xlabel(\"message count\")\n",
    "ax.yaxis.grid(False)\n",
    "\n",
    "# Save the figure to disk \n",
    "plt.savefig(os.path.join(FIGURES, 'message_counts.png'))"
   ]
  },
  {
   "cell_type": "code",
   "execution_count": null,
   "metadata": {
    "collapsed": false
   },
   "outputs": [],
   "source": [
    "# ax = sns.barplot(y='sent', x='replica', hue='type', data=msgs, estimator=count)"
   ]
  },
  {
   "cell_type": "markdown",
   "metadata": {},
   "source": [
    "## Metrics \n",
    "\n",
    "The following metrics are reported from the results.\n",
    "\n",
    "### Reads and Writes"
   ]
  },
  {
   "cell_type": "code",
   "execution_count": 10,
   "metadata": {
    "collapsed": false
   },
   "outputs": [
    {
     "name": "stdout",
     "output_type": "stream",
     "text": [
      "Accesses\n",
      "========\n",
      "3072 Total Reads, 2910 Total Writes \n",
      "153.6 average reads per replica\n",
      "145.5 average writes per replica\n",
      "\n"
     ]
    },
    {
     "data": {
      "text/plain": [
       "<matplotlib.axes._subplots.AxesSubplot at 0x1278dc1d0>"
      ]
     },
     "execution_count": 10,
     "metadata": {},
     "output_type": "execute_result"
    },
    {
     "data": {
      "image/png": "[encoded data removed]",
      "text/plain": [
       "<matplotlib.figure.Figure at 0x126b13050>"
      ]
     },
     "metadata": {},
     "output_type": "display_data"
    }
   ],
   "source": [
    "# Extract accesses \n",
    "accesses = pd.DataFrame(df, columns=['reads', 'writes'])\n",
    "\n",
    "print (\n",
    "    \"Accesses\\n\"\n",
    "    \"========\\n\"\n",
    "    \"{} Total Reads, {} Total Writes \\n\"\n",
    "    \"{:0.1f} average reads per replica\\n\"\n",
    "    \"{:0.1f} average writes per replica\\n\"\n",
    ").format(\n",
    "    df.reads.sum(), df.writes.sum(), df.reads.mean(), df.writes.mean()\n",
    ")\n",
    "\n",
    "accesses.plot(kind='bar', stacked=True)"
   ]
  },
  {
   "cell_type": "markdown",
   "metadata": {},
   "source": [
    "### Stale Reads"
   ]
  },
  {
   "cell_type": "code",
   "execution_count": 11,
   "metadata": {
    "collapsed": false
   },
   "outputs": [
    {
     "data": {
      "text/plain": [
       "<matplotlib.axes._subplots.AxesSubplot at 0x126aa0b50>"
      ]
     },
     "execution_count": 11,
     "metadata": {},
     "output_type": "execute_result"
    },
    {
     "data": {
      "image/png": "[encoded data removed]",
      "text/plain": [
       "<matplotlib.figure.Figure at 0x126aa0410>"
      ]
     },
     "metadata": {},
     "output_type": "display_data"
    }
   ],
   "source": [
    "errors = pd.DataFrame(df, columns=['reads', 'missed reads', 'empty reads', 'stale reads'])\n",
    "errors.plot(kind='bar', stacked=True)"
   ]
  },
  {
   "cell_type": "markdown",
   "metadata": {},
   "source": [
    "### Forked Writes"
   ]
  },
  {
   "cell_type": "code",
   "execution_count": 12,
   "metadata": {
    "collapsed": false
   },
   "outputs": [
    {
     "data": {
      "text/plain": [
       "<matplotlib.axes._subplots.AxesSubplot at 0x126ad9310>"
      ]
     },
     "execution_count": 12,
     "metadata": {},
     "output_type": "execute_result"
    },
    {
     "data": {
      "image/png": "[encoded data removed]",
      "text/plain": [
       "<matplotlib.figure.Figure at 0x126ac95d0>"
      ]
     },
     "metadata": {},
     "output_type": "display_data"
    }
   ],
   "source": [
    "errors = pd.DataFrame(df, columns=['dropped writes', 'forked writes'])\n",
    "errors.plot(kind='bar', stacked=True)"
   ]
  },
  {
   "cell_type": "code",
   "execution_count": 13,
   "metadata": {
    "collapsed": false
   },
   "outputs": [
    {
     "data": {
      "text/plain": [
       "<matplotlib.axes._subplots.AxesSubplot at 0x125825490>"
      ]
     },
     "execution_count": 13,
     "metadata": {},
     "output_type": "execute_result"
    },
    {
     "data": {
      "image/png": "[encoded data removed]",
      "text/plain": [
       "<matplotlib.figure.Figure at 0x126361690>"
      ]
     },
     "metadata": {},
     "output_type": "display_data"
    }
   ],
   "source": [
    "errors = pd.DataFrame(df, columns=['writes', 'partially replicated writes', 'visible writes'])\n",
    "errors.plot(kind='bar', stacked=True)"
   ]
  },
  {
   "cell_type": "markdown",
   "metadata": {},
   "source": [
    "### Read and Write Costs"
   ]
  },
  {
   "cell_type": "code",
   "execution_count": 14,
   "metadata": {
    "collapsed": false
   },
   "outputs": [
    {
     "data": {
      "text/plain": [
       "<matplotlib.axes._subplots.AxesSubplot at 0x12636ab90>"
      ]
     },
     "execution_count": 14,
     "metadata": {},
     "output_type": "execute_result"
    },
    {
     "data": {
      "image/png": "[encoded data removed]",
      "text/plain": [
       "<matplotlib.figure.Figure at 0x12636af10>"
      ]
     },
     "metadata": {},
     "output_type": "display_data"
    }
   ],
   "source": [
    "data=pd.DataFrame(df, columns=['replica', 'mean read latency (ms)', 'mean write latency (ms)', 'mean visibility latency (ms)', 'mean commit latency (ms)'])\n",
    "data.plot(kind='bar', x='replica')"
   ]
  },
  {
   "cell_type": "code",
   "execution_count": null,
   "metadata": {
    "collapsed": true
   },
   "outputs": [],
   "source": [
    "sns.s"
   ]
  }
 ],
 "metadata": {
  "kernelspec": {
   "display_name": "Python 2",
   "language": "python",
   "name": "python2"
  },
  "language_info": {
   "codemirror_mode": {
    "name": "ipython",
    "version": 2
   },
   "file_extension": ".py",
   "mimetype": "text/x-python",
   "name": "python",
   "nbconvert_exporter": "python",
   "pygments_lexer": "ipython2",
   "version": "2.7.11"
  }
 },
 "nbformat": 4,
 "nbformat_minor": 0
}
