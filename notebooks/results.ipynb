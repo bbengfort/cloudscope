{
 "cells": [
  {
   "cell_type": "markdown",
   "metadata": {},
   "source": [
    "# Results Analysis\n",
    "\n",
    "This notebook is intended to read a simulation results file and report the analysis."
   ]
  },
  {
   "cell_type": "code",
   "execution_count": 1,
   "metadata": {
    "collapsed": false
   },
   "outputs": [
    {
     "name": "stderr",
     "output_type": "stream",
     "text": [
      "/usr/local/lib/python2.7/site-packages/matplotlib/__init__.py:872: UserWarning: axes.color_cycle is deprecated and replaced with axes.prop_cycle; please use the latter.\n",
      "  warnings.warn(self.msg_depr % (key, alt_key))\n"
     ]
    }
   ],
   "source": [
    "%matplotlib inline\n",
    "\n",
    "import os\n",
    "import sys \n",
    "import json\n",
    "import networkx as nx\n",
    "import seaborn as sns\n",
    "import pandas as pd\n",
    "import matplotlib\n",
    "import matplotlib.pyplot as plt\n",
    "\n",
    "from networkx.readwrite import json_graph\n",
    "from datetime import date\n",
    "from collections import defaultdict, Counter\n",
    "from operator import itemgetter\n",
    "from itertools import groupby, chain\n",
    "from copy import deepcopy \n",
    "\n",
    "# Modify the Notebook path\n",
    "sys.path.append(os.path.join(os.getcwd(), \"..\"))\n",
    "\n",
    "from cloudscope.results import Results\n",
    "from cloudscope.viz import draw_topology\n",
    "from cloudscope.viz import plot_workload\n",
    "from cloudscope.viz import plot_message_traffic\n",
    "from cloudscope.utils.timez import epochptime\n",
    "\n",
    "matplotlib.style.use('ggplot')"
   ]
  },
  {
   "cell_type": "code",
   "execution_count": 2,
   "metadata": {
    "collapsed": false
   },
   "outputs": [],
   "source": [
    "# Specify a path to a results file \n",
    "FIXTURES = os.path.join(\"..\", \"fixtures\", \"results\")\n",
    "# RESULTS  = os.path.join(FIXTURES, \"raft-quorum-20160411.json\")\n",
    "# RESULTS  = os.path.join(FIXTURES, \"tagging-quorum-20160411.json\")\n",
    "RESULTS  = os.path.join(\"..\", \"raft-quorum-20160615.json\")\n",
    "\n",
    "def get_results_data(path=RESULTS):\n",
    "    with open(path, 'r') as f:\n",
    "        return Results.load(f)\n",
    "\n",
    "# Load the data\n",
    "results = get_results_data()"
   ]
  },
  {
   "cell_type": "code",
   "execution_count": 3,
   "metadata": {
    "collapsed": false
   },
   "outputs": [],
   "source": [
    "def title(text):\n",
    "    return \" \".join([t.capitalize() for t in text.split(\"_\")])\n",
    "\n",
    "def report_details():\n",
    "    banner = (\n",
    "        \"Simulation: {} (Cloudscope v{})\\n\"\n",
    "        \"{}\\n\\n\"\n",
    "        \"Ran on: {} ({})\\n\\n\"\n",
    "        \"Settings\\n\"\n",
    "        \"========\\n\"\n",
    "    ).format(\n",
    "        results.simulation, results.version, results.topology['meta']['description'],\n",
    "        epochptime(results.timer['started']).strftime('%b %d, %Y at %H:%M %Z'), \n",
    "        results.timer['elapsed'],\n",
    "        results.randseed,\n",
    "    )\n",
    "    \n",
    "    longest = max(len(key) for key in results.settings)\n",
    "    frmt = \"{{: <{0}}} {{: >12}}\".format(longest)\n",
    "    \n",
    "    \n",
    "    return banner + \"\\n\".join([\n",
    "        frmt.format(title(key), value)\n",
    "        for key, value in results.settings.items()\n",
    "    ])\n",
    "    \n",
    "\n",
    "def report_topology():\n",
    "    topology = deepcopy(results.topology)\n",
    "    nodes = topology['nodes']\n",
    "    links = topology['links']\n",
    "    \n",
    "    for link in links:\n",
    "        latency = [link['latency']] if link['connection'] == 'constant' else link['latency']\n",
    "        \n",
    "        for rid in ('source', 'target'):\n",
    "            node = nodes[link[rid]]\n",
    "            \n",
    "            if 'minlat' not in node:\n",
    "                node['minlat'] = latency[0]\n",
    "            else:\n",
    "                \n",
    "                node['minlat'] = min(node['minlat'], latency[0])\n",
    "\n",
    "            if 'maxlat' not in node:\n",
    "                node['maxlat'] = latency[-1]\n",
    "            else:\n",
    "                node['maxlat'] = max(node['maxlat'], latency[-1])\n",
    "         \n",
    "    output = []\n",
    "    for node in sorted(nodes, key=itemgetter('id')):\n",
    "        output.append(\n",
    "            \"{}: {} ({}, {}) {}-{}ms connection\".format(\n",
    "                node['id'], node['label'], node['location'], node['consistency'], node['minlat'], node['maxlat']\n",
    "            )\n",
    "        )\n",
    "    return \"\\n\".join(output)"
   ]
  },
  {
   "cell_type": "code",
   "execution_count": 4,
   "metadata": {
    "collapsed": false
   },
   "outputs": [
    {
     "data": {
      "text/html": [
       "<div>\n",
       "<table border=\"1\" class=\"dataframe\">\n",
       "  <thead>\n",
       "    <tr style=\"text-align: right;\">\n",
       "      <th></th>\n",
       "      <th>committed writes</th>\n",
       "      <th>completed reads</th>\n",
       "      <th>completed writes</th>\n",
       "      <th>empty reads</th>\n",
       "      <th>mean commit latency (ms)</th>\n",
       "      <th>mean read latency (ms)</th>\n",
       "      <th>mean visibility latency (ms)</th>\n",
       "      <th>mean write latency (ms)</th>\n",
       "      <th>reads</th>\n",
       "      <th>recv</th>\n",
       "      <th>replica</th>\n",
       "      <th>sent</th>\n",
       "      <th>stale reads</th>\n",
       "      <th>visible writes</th>\n",
       "      <th>writes</th>\n",
       "      <th>missed reads</th>\n",
       "      <th>dropped writes</th>\n",
       "      <th>visibility ratio</th>\n",
       "    </tr>\n",
       "  </thead>\n",
       "  <tbody>\n",
       "    <tr>\n",
       "      <th>0</th>\n",
       "      <td>653</td>\n",
       "      <td>943</td>\n",
       "      <td>653</td>\n",
       "      <td>6</td>\n",
       "      <td>169.655739</td>\n",
       "      <td>0</td>\n",
       "      <td>143.067683</td>\n",
       "      <td>59.811639</td>\n",
       "      <td>949</td>\n",
       "      <td>29455</td>\n",
       "      <td>r0</td>\n",
       "      <td>29455</td>\n",
       "      <td>20</td>\n",
       "      <td>653</td>\n",
       "      <td>653</td>\n",
       "      <td>6</td>\n",
       "      <td>0</td>\n",
       "      <td>1.000000</td>\n",
       "    </tr>\n",
       "    <tr>\n",
       "      <th>1</th>\n",
       "      <td>643</td>\n",
       "      <td>921</td>\n",
       "      <td>644</td>\n",
       "      <td>7</td>\n",
       "      <td>164.870729</td>\n",
       "      <td>0</td>\n",
       "      <td>138.675076</td>\n",
       "      <td>59.810559</td>\n",
       "      <td>928</td>\n",
       "      <td>29443</td>\n",
       "      <td>r1</td>\n",
       "      <td>29443</td>\n",
       "      <td>11</td>\n",
       "      <td>643</td>\n",
       "      <td>644</td>\n",
       "      <td>7</td>\n",
       "      <td>1</td>\n",
       "      <td>0.998447</td>\n",
       "    </tr>\n",
       "    <tr>\n",
       "      <th>2</th>\n",
       "      <td>618</td>\n",
       "      <td>923</td>\n",
       "      <td>618</td>\n",
       "      <td>3</td>\n",
       "      <td>169.492774</td>\n",
       "      <td>0</td>\n",
       "      <td>143.203130</td>\n",
       "      <td>60.875405</td>\n",
       "      <td>926</td>\n",
       "      <td>29417</td>\n",
       "      <td>r2</td>\n",
       "      <td>29417</td>\n",
       "      <td>10</td>\n",
       "      <td>618</td>\n",
       "      <td>618</td>\n",
       "      <td>3</td>\n",
       "      <td>0</td>\n",
       "      <td>1.000000</td>\n",
       "    </tr>\n",
       "    <tr>\n",
       "      <th>3</th>\n",
       "      <td>660</td>\n",
       "      <td>948</td>\n",
       "      <td>660</td>\n",
       "      <td>5</td>\n",
       "      <td>139.229388</td>\n",
       "      <td>0</td>\n",
       "      <td>114.712721</td>\n",
       "      <td>0.000000</td>\n",
       "      <td>953</td>\n",
       "      <td>117839</td>\n",
       "      <td>r3</td>\n",
       "      <td>117843</td>\n",
       "      <td>6</td>\n",
       "      <td>660</td>\n",
       "      <td>660</td>\n",
       "      <td>5</td>\n",
       "      <td>0</td>\n",
       "      <td>1.000000</td>\n",
       "    </tr>\n",
       "    <tr>\n",
       "      <th>4</th>\n",
       "      <td>730</td>\n",
       "      <td>982</td>\n",
       "      <td>731</td>\n",
       "      <td>4</td>\n",
       "      <td>167.166914</td>\n",
       "      <td>0</td>\n",
       "      <td>140.735407</td>\n",
       "      <td>60.678523</td>\n",
       "      <td>986</td>\n",
       "      <td>29530</td>\n",
       "      <td>r4</td>\n",
       "      <td>29530</td>\n",
       "      <td>19</td>\n",
       "      <td>730</td>\n",
       "      <td>731</td>\n",
       "      <td>4</td>\n",
       "      <td>1</td>\n",
       "      <td>0.998632</td>\n",
       "    </tr>\n",
       "  </tbody>\n",
       "</table>\n",
       "</div>"
      ],
      "text/plain": [
       "   committed writes  completed reads  completed writes  empty reads  \\\n",
       "0               653              943               653            6   \n",
       "1               643              921               644            7   \n",
       "2               618              923               618            3   \n",
       "3               660              948               660            5   \n",
       "4               730              982               731            4   \n",
       "\n",
       "   mean commit latency (ms)  mean read latency (ms)  \\\n",
       "0                169.655739                       0   \n",
       "1                164.870729                       0   \n",
       "2                169.492774                       0   \n",
       "3                139.229388                       0   \n",
       "4                167.166914                       0   \n",
       "\n",
       "   mean visibility latency (ms)  mean write latency (ms)  reads    recv  \\\n",
       "0                    143.067683                59.811639    949   29455   \n",
       "1                    138.675076                59.810559    928   29443   \n",
       "2                    143.203130                60.875405    926   29417   \n",
       "3                    114.712721                 0.000000    953  117839   \n",
       "4                    140.735407                60.678523    986   29530   \n",
       "\n",
       "  replica    sent  stale reads  visible writes  writes  missed reads  \\\n",
       "0      r0   29455           20             653     653             6   \n",
       "1      r1   29443           11             643     644             7   \n",
       "2      r2   29417           10             618     618             3   \n",
       "3      r3  117843            6             660     660             5   \n",
       "4      r4   29530           19             730     731             4   \n",
       "\n",
       "   dropped writes  visibility ratio  \n",
       "0               0          1.000000  \n",
       "1               1          0.998447  \n",
       "2               0          1.000000  \n",
       "3               0          1.000000  \n",
       "4               1          0.998632  "
      ]
     },
     "execution_count": 4,
     "metadata": {},
     "output_type": "execute_result"
    }
   ],
   "source": [
    "def create_dataframe():\n",
    "    \n",
    "    # Handlers for various rows: return a dictionary to add to data frame. \n",
    "    def default_handler(key, values):\n",
    "        return {\n",
    "            key: len(values) \n",
    "        }\n",
    "    \n",
    "    def handle_visibility_latency(key, values):\n",
    "        return {\n",
    "            \"mean visibility latency (ms)\": sum(v[2] - v[1] for v in values) / len(values), \n",
    "            \"visible writes\": len(set([v[1] for v in values]))\n",
    "        }\n",
    "    \n",
    "    def handle_commit_latency(key, values):\n",
    "        return {\n",
    "            \"mean commit latency (ms)\": sum(v[2] - v[1] for v in values) / len(values),\n",
    "            \"committed writes\": len(set([v[1] for v in values]))\n",
    "        }\n",
    "\n",
    "    def handle_session_length(key, values):\n",
    "        return {\n",
    "            \"sessions\": len(values), \n",
    "            \"mean session duration (ms)\": sum(v[0] for v in values) / len(values),\n",
    "        }\n",
    "\n",
    "    def handle_read_latency(key, values):\n",
    "        return {\n",
    "            \"completed reads\": len(values), \n",
    "            \"mean read latency (ms)\": sum(v[2] - v[1] for v in values) / len(values),\n",
    "        }\n",
    "\n",
    "    def handle_write_latency(key, values):\n",
    "        return {\n",
    "            \"completed writes\": len(values),\n",
    "            \"mean write latency (ms)\": sum(v[2] - v[1] for v in values) / len(values),\n",
    "        }\n",
    "    \n",
    "    def handle_tag_size(key, values):\n",
    "        return {\n",
    "            \"average tag size\": sum(v[1] for v in values) / len(values)\n",
    "        }\n",
    "    \n",
    "    def rename_key(name, func=default_handler):\n",
    "        def handle_rename(key, values):\n",
    "            item = func(key, values)\n",
    "            return {\n",
    "                name: item[key]\n",
    "            }\n",
    "        return handle_rename\n",
    "        \n",
    "\n",
    "    # Handler map \n",
    "    handlers = {\n",
    "        'visibility latency': handle_visibility_latency, \n",
    "        'commit latency': handle_commit_latency, \n",
    "        'session length': handle_session_length,\n",
    "        'read latency': handle_read_latency,\n",
    "        'write latency': handle_write_latency, \n",
    "        'tag size': handle_tag_size,\n",
    "        'read': rename_key('reads'),\n",
    "        'write': rename_key('writes'),\n",
    "    }\n",
    "    \n",
    "    replicas = defaultdict(lambda: defaultdict(list)) \n",
    "    topology = results.topology\n",
    "    config   = results.settings\n",
    "    series   = results.results\n",
    "    \n",
    "    # Extract per-replica ID values from all results series \n",
    "    for key, values in series.iteritems():\n",
    "        for value in values:\n",
    "            # Some quick checks \n",
    "            assert len(value) > 1 \n",
    "            assert value[0].startswith('r')\n",
    "            \n",
    "            # Append the series to the specific replica \n",
    "            replicas[value[0]][key].append(value[1:])\n",
    "    \n",
    "    # Create a table with each replica id\n",
    "    table = []\n",
    "    for replica, series in replicas.iteritems():\n",
    "        row = {'replica': replica} \n",
    "        \n",
    "        # Perform per-replica aggreations for each result set \n",
    "        for serie, values in series.iteritems():\n",
    "            handler = handlers.get(serie, default_handler)\n",
    "            row.update(handler(serie, values))\n",
    "        \n",
    "        # Add in topology information \n",
    "        \n",
    "        \n",
    "        table.append(row)\n",
    "    \n",
    "    # Create the data frame and compute aggregate dependency items \n",
    "    df = pd.DataFrame(sorted(table, key=itemgetter('replica')))\n",
    "    df['missed reads'] = df['reads'] - df['completed reads']\n",
    "    df['dropped writes'] = df['writes'] - df ['visible writes']\n",
    "    df['visibility ratio'] = df['visible writes'] / df['writes']\n",
    "    \n",
    "    return df\n",
    "\n",
    "df = create_dataframe()\n",
    "df "
   ]
  },
  {
   "cell_type": "markdown",
   "metadata": {},
   "source": [
    "# Results "
   ]
  },
  {
   "cell_type": "code",
   "execution_count": 5,
   "metadata": {
    "collapsed": false
   },
   "outputs": [
    {
     "name": "stdout",
     "output_type": "stream",
     "text": [
      "Simulation: Raft Quorum (Cloudscope v0.3)\n",
      "Single Consistency Type: Strong Raft Consensus.\n",
      "\n",
      "Ran on: Jun 15, 2016 at 19:25 UTC (28 seconds)\n",
      "\n",
      "Settings\n",
      "========\n",
      "Access Stddev                 512\n",
      "Do Rumoring                     0\n",
      "Access Mean                  1600\n",
      "Move Prob                     0.2\n",
      "Max Objects Accessed           10\n",
      "Do Gossip                       1\n",
      "Max Sim Time              4320000\n",
      "Random Seed                    42\n",
      "Switch Prob                   0.6\n",
      "Election Timeout       [300, 600]\n",
      "Heartbeat Interval            150\n",
      "Default Consistency        strong\n",
      "Invalid Types         [u'backup']\n",
      "Aggregate Heartbeats            1\n",
      "Read Prob                    0.58\n",
      "Aggregate Writes                1\n",
      "Default Latency               800\n",
      "Anti Entropy Delay          10000\n",
      "Object Prob                   0.3\n",
      "Valid Locations      [u'home', u'work', u'mobile', u'cloud']\n",
      "Session Timeout             40960\n",
      "Default Replica           storage\n",
      "Count Messages                  1\n",
      "Synchronous Access              0\n",
      "Users                           3\n"
     ]
    }
   ],
   "source": [
    "print report_details()"
   ]
  },
  {
   "cell_type": "markdown",
   "metadata": {},
   "source": [
    "## Topology"
   ]
  },
  {
   "cell_type": "code",
   "execution_count": 6,
   "metadata": {
    "collapsed": false
   },
   "outputs": [
    {
     "data": {
      "image/png": "[encoded data removed]",
      "text/plain": [
       "<matplotlib.figure.Figure at 0x10deaf1d0>"
      ]
     },
     "metadata": {},
     "output_type": "display_data"
    }
   ],
   "source": [
    "draw_topology(json_graph.node_link_graph(results.topology))"
   ]
  },
  {
   "cell_type": "code",
   "execution_count": 7,
   "metadata": {
    "collapsed": false
   },
   "outputs": [
    {
     "name": "stdout",
     "output_type": "stream",
     "text": [
      "r0: Raft 1 (cloud, strong) 15-45ms connection\n",
      "r1: Raft 2 (cloud, strong) 15-45ms connection\n",
      "r2: Raft 3 (cloud, strong) 15-45ms connection\n",
      "r3: Raft 4 (cloud, strong) 15-45ms connection\n",
      "r4: Raft 5 (cloud, strong) 15-45ms connection\n"
     ]
    }
   ],
   "source": [
    "print report_topology()"
   ]
  },
  {
   "cell_type": "markdown",
   "metadata": {},
   "source": [
    "## Workload"
   ]
  },
  {
   "cell_type": "code",
   "execution_count": 8,
   "metadata": {
    "collapsed": false
   },
   "outputs": [
    {
     "name": "stderr",
     "output_type": "stream",
     "text": [
      "/usr/local/lib/python2.7/site-packages/matplotlib/__init__.py:892: UserWarning: axes.color_cycle is deprecated and replaced with axes.prop_cycle; please use the latter.\n",
      "  warnings.warn(self.msg_depr % (key, alt_key))\n"
     ]
    },
    {
     "data": {
      "text/plain": [
       "<module 'matplotlib.pyplot' from '/usr/local/lib/python2.7/site-packages/matplotlib/pyplot.pyc'>"
      ]
     },
     "execution_count": 8,
     "metadata": {},
     "output_type": "execute_result"
    },
    {
     "data": {
      "image/png": "[encoded data removed]",
      "text/plain": [
       "<matplotlib.figure.Figure at 0x1098ca790>"
      ]
     },
     "metadata": {},
     "output_type": "display_data"
    }
   ],
   "source": [
    "# Create the workload timeline plot \n",
    "plot_workload(results, series='objects')"
   ]
  },
  {
   "cell_type": "code",
   "execution_count": 9,
   "metadata": {
    "collapsed": false
   },
   "outputs": [],
   "source": [
    "# Create the sent messages timeline\n",
    "# plot_message_traffic(results.results['sent'])"
   ]
  },
  {
   "cell_type": "code",
   "execution_count": 10,
   "metadata": {
    "collapsed": false
   },
   "outputs": [],
   "source": [
    "# Create Message Traffic Data Frame \n",
    "columns = ['replica', 'timestamp', 'type', 'latency']\n",
    "\n",
    "def messages():\n",
    "    for key in ('sent', 'recv'):\n",
    "        for message in results.results[key]:\n",
    "            msg = dict(zip(columns, message))\n",
    "            msg['recv'] = 1 if key == 'recv' else 0\n",
    "            msg['sent'] = 1 if key == 'sent' else 0\n",
    "            yield msg\n",
    "\n",
    "def count(nums):\n",
    "    return sum(nums)\n",
    "            \n",
    "msgs = pd.DataFrame(messages())"
   ]
  },
  {
   "cell_type": "code",
   "execution_count": 11,
   "metadata": {
    "collapsed": false
   },
   "outputs": [
    {
     "data": {
      "image/png": "[encoded data removed]",
      "text/plain": [
       "<matplotlib.figure.Figure at 0x1150cdad0>"
      ]
     },
     "metadata": {},
     "output_type": "display_data"
    }
   ],
   "source": [
    "ax = sns.barplot(y='sent', x='replica', hue='type', data=msgs, estimator=count)"
   ]
  },
  {
   "cell_type": "markdown",
   "metadata": {},
   "source": [
    "## Metrics \n",
    "\n",
    "The following metrics are reported from the results.\n",
    "\n",
    "### Reads and Writes"
   ]
  },
  {
   "cell_type": "code",
   "execution_count": 12,
   "metadata": {
    "collapsed": false
   },
   "outputs": [
    {
     "name": "stdout",
     "output_type": "stream",
     "text": [
      "Accesses\n",
      "========\n",
      "4742 Total Reads, 3306 Total Writes \n",
      "948.4 average reads per replica\n",
      "661.2 average writes per replica\n",
      "\n"
     ]
    },
    {
     "data": {
      "text/plain": [
       "<matplotlib.axes._subplots.AxesSubplot at 0x1158019d0>"
      ]
     },
     "execution_count": 12,
     "metadata": {},
     "output_type": "execute_result"
    },
    {
     "data": {
      "image/png": "[encoded data removed]",
      "text/plain": [
       "<matplotlib.figure.Figure at 0x10dfa4110>"
      ]
     },
     "metadata": {},
     "output_type": "display_data"
    }
   ],
   "source": [
    "# Extract accesses \n",
    "accesses = pd.DataFrame(df, columns=['reads', 'writes'])\n",
    "\n",
    "print (\n",
    "    \"Accesses\\n\"\n",
    "    \"========\\n\"\n",
    "    \"{} Total Reads, {} Total Writes \\n\"\n",
    "    \"{:0.1f} average reads per replica\\n\"\n",
    "    \"{:0.1f} average writes per replica\\n\"\n",
    ").format(\n",
    "    df.reads.sum(), df.writes.sum(), df.reads.mean(), df.writes.mean()\n",
    ")\n",
    "\n",
    "accesses.plot(kind='bar', stacked=True)"
   ]
  },
  {
   "cell_type": "markdown",
   "metadata": {},
   "source": [
    "### Stale Reads"
   ]
  },
  {
   "cell_type": "code",
   "execution_count": 13,
   "metadata": {
    "collapsed": false
   },
   "outputs": [
    {
     "data": {
      "text/plain": [
       "<matplotlib.axes._subplots.AxesSubplot at 0x1158154d0>"
      ]
     },
     "execution_count": 13,
     "metadata": {},
     "output_type": "execute_result"
    },
    {
     "data": {
      "image/png": "[encoded data removed]",
      "text/plain": [
       "<matplotlib.figure.Figure at 0x114fd87d0>"
      ]
     },
     "metadata": {},
     "output_type": "display_data"
    }
   ],
   "source": [
    "errors = pd.DataFrame(df, columns=['missed reads', 'dropped writes'])\n",
    "errors.plot(kind='bar', stacked=True)"
   ]
  },
  {
   "cell_type": "markdown",
   "metadata": {},
   "source": [
    "### Read and Write Costs"
   ]
  },
  {
   "cell_type": "code",
   "execution_count": 14,
   "metadata": {
    "collapsed": false
   },
   "outputs": [
    {
     "data": {
      "text/plain": [
       "<matplotlib.axes._subplots.AxesSubplot at 0x10e055690>"
      ]
     },
     "execution_count": 14,
     "metadata": {},
     "output_type": "execute_result"
    },
    {
     "data": {
      "image/png": "[encoded data removed]",
      "text/plain": [
       "<matplotlib.figure.Figure at 0x10e541490>"
      ]
     },
     "metadata": {},
     "output_type": "display_data"
    }
   ],
   "source": [
    "data=pd.DataFrame(df, columns=['replica', 'mean read latency (ms)', 'mean write latency (ms)', 'mean visibility latency (ms)', 'mean commit latency (ms)'])\n",
    "data.plot(kind='bar', x='replica')"
   ]
  }
 ],
 "metadata": {
  "kernelspec": {
   "display_name": "Python 2",
   "language": "python",
   "name": "python2"
  },
  "language_info": {
   "codemirror_mode": {
    "name": "ipython",
    "version": 2
   },
   "file_extension": ".py",
   "mimetype": "text/x-python",
   "name": "python",
   "nbconvert_exporter": "python",
   "pygments_lexer": "ipython2",
   "version": "2.7.11"
  }
 },
 "nbformat": 4,
 "nbformat_minor": 0
}
