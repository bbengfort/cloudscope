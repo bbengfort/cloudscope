{
 "cells": [
  {
   "cell_type": "markdown",
   "metadata": {},
   "source": [
    "# Results Analysis\n",
    "\n",
    "This notebook is intended to read a simulation results file and report the analysis."
   ]
  },
  {
   "cell_type": "code",
   "execution_count": 7,
   "metadata": {
    "collapsed": false
   },
   "outputs": [],
   "source": [
    "%matplotlib inline\n",
    "\n",
    "import os\n",
    "import sys \n",
    "import json\n",
    "import networkx as nx\n",
    "import seaborn as sns\n",
    "import pandas as pd\n",
    "import matplotlib\n",
    "import matplotlib.pyplot as plt\n",
    "\n",
    "from networkx.readwrite import json_graph\n",
    "from datetime import date\n",
    "from collections import defaultdict, Counter\n",
    "from operator import itemgetter\n",
    "from itertools import groupby, chain\n",
    "from copy import deepcopy \n",
    "\n",
    "# Modify the Notebook path\n",
    "sys.path.append(os.path.join(os.getcwd(), \"..\"))\n",
    "\n",
    "from cloudscope.results import Results\n",
    "from cloudscope.viz import draw_topology\n",
    "from cloudscope.viz import plot_workload\n",
    "from cloudscope.viz import plot_message_traffic\n",
    "from cloudscope.utils.timez import epochptime\n",
    "\n",
    "matplotlib.style.use('ggplot')"
   ]
  },
  {
   "cell_type": "code",
   "execution_count": 2,
   "metadata": {
    "collapsed": false
   },
   "outputs": [],
   "source": [
    "# Specify a path to a results file \n",
    "FIXTURES = os.path.join(\"..\", \"fixtures\")\n",
    "# RESULTS  = os.path.join(FIXTURES, 'test-raft-single.json')\n",
    "# RESULTS  = os.path.join(FIXTURES, 'test-eventual-single.json')\n",
    "RESULTS  = os.path.join(FIXTURES, \"results\", 'test-tags-single.json')\n",
    "\n",
    "def get_results_data(path=RESULTS):\n",
    "    with open(path, 'r') as f:\n",
    "        return Results.load(f)\n",
    "\n",
    "# Load the data\n",
    "results = get_results_data()"
   ]
  },
  {
   "cell_type": "code",
   "execution_count": 3,
   "metadata": {
    "collapsed": false
   },
   "outputs": [],
   "source": [
    "def title(text):\n",
    "    return \" \".join([t.capitalize() for t in text.split(\"_\")])\n",
    "\n",
    "def report_details():\n",
    "    banner = (\n",
    "        \"Simulation: {} (Cloudscope v{})\\n\"\n",
    "        \"{}\\n\\n\"\n",
    "        \"Ran on: {} ({})\\n\\n\"\n",
    "        \"Settings\\n\"\n",
    "        \"========\\n\"\n",
    "    ).format(\n",
    "        results.simulation, results.version, results.topology['meta']['description'],\n",
    "        epochptime(results.timer['started']).strftime('%b %d, %Y at %H:%M %Z'), \n",
    "        results.timer['elapsed'],\n",
    "        results.randseed,\n",
    "    )\n",
    "    \n",
    "    longest = max(len(key) for key in results.settings)\n",
    "    frmt = \"{{: <{0}}} {{: >12}}\".format(longest)\n",
    "    \n",
    "    \n",
    "    return banner + \"\\n\".join([\n",
    "        frmt.format(title(key), value)\n",
    "        for key, value in results.settings.items()\n",
    "    ])\n",
    "    \n",
    "\n",
    "def report_topology():\n",
    "    topology = deepcopy(results.topology)\n",
    "    nodes = topology['nodes']\n",
    "    links = topology['links']\n",
    "    \n",
    "    for link in links:\n",
    "        latency = [link['latency']] if link['connection'] == 'constant' else link['latency']\n",
    "        \n",
    "        for rid in ('source', 'target'):\n",
    "            node = nodes[link[rid]]\n",
    "            \n",
    "            if 'minlat' not in node:\n",
    "                node['minlat'] = latency[0]\n",
    "            else:\n",
    "                \n",
    "                node['minlat'] = min(node['minlat'], latency[0])\n",
    "\n",
    "            if 'maxlat' not in node:\n",
    "                node['maxlat'] = latency[-1]\n",
    "            else:\n",
    "                node['maxlat'] = max(node['maxlat'], latency[-1])\n",
    "         \n",
    "    output = []\n",
    "    for node in sorted(nodes, key=itemgetter('id')):\n",
    "        output.append(\n",
    "            \"{}: {} ({}, {}) {}-{}ms connection\".format(\n",
    "                node['id'], node['label'], node['location'], node['consistency'], node['minlat'], node['maxlat']\n",
    "            )\n",
    "        )\n",
    "    return \"\\n\".join(output)"
   ]
  },
  {
   "cell_type": "code",
   "execution_count": 4,
   "metadata": {
    "collapsed": false
   },
   "outputs": [
    {
     "data": {
      "text/html": [
       "<div>\n",
       "<table border=\"1\" class=\"dataframe\">\n",
       "  <thead>\n",
       "    <tr style=\"text-align: right;\">\n",
       "      <th></th>\n",
       "      <th>average tag size</th>\n",
       "      <th>completed reads</th>\n",
       "      <th>mean read latency (ms)</th>\n",
       "      <th>mean session duration (ms)</th>\n",
       "      <th>reads</th>\n",
       "      <th>replica</th>\n",
       "      <th>sent</th>\n",
       "      <th>sessions</th>\n",
       "      <th>visibility latency (ms)</th>\n",
       "      <th>visible writes</th>\n",
       "      <th>writes</th>\n",
       "      <th>missed reads</th>\n",
       "      <th>dropped writes</th>\n",
       "      <th>visibility ratio</th>\n",
       "    </tr>\n",
       "  </thead>\n",
       "  <tbody>\n",
       "    <tr>\n",
       "      <th>0</th>\n",
       "      <td>0</td>\n",
       "      <td>1</td>\n",
       "      <td>0</td>\n",
       "      <td>1050</td>\n",
       "      <td>2</td>\n",
       "      <td>r0</td>\n",
       "      <td>161</td>\n",
       "      <td>1</td>\n",
       "      <td>15</td>\n",
       "      <td>5</td>\n",
       "      <td>5</td>\n",
       "      <td>1</td>\n",
       "      <td>0</td>\n",
       "      <td>1</td>\n",
       "    </tr>\n",
       "    <tr>\n",
       "      <th>1</th>\n",
       "      <td>NaN</td>\n",
       "      <td>NaN</td>\n",
       "      <td>NaN</td>\n",
       "      <td>NaN</td>\n",
       "      <td>1</td>\n",
       "      <td>r1</td>\n",
       "      <td>25</td>\n",
       "      <td>NaN</td>\n",
       "      <td>NaN</td>\n",
       "      <td>NaN</td>\n",
       "      <td>7</td>\n",
       "      <td>NaN</td>\n",
       "      <td>NaN</td>\n",
       "      <td>NaN</td>\n",
       "    </tr>\n",
       "    <tr>\n",
       "      <th>2</th>\n",
       "      <td>NaN</td>\n",
       "      <td>NaN</td>\n",
       "      <td>NaN</td>\n",
       "      <td>NaN</td>\n",
       "      <td>NaN</td>\n",
       "      <td>r2</td>\n",
       "      <td>17</td>\n",
       "      <td>NaN</td>\n",
       "      <td>NaN</td>\n",
       "      <td>NaN</td>\n",
       "      <td>NaN</td>\n",
       "      <td>NaN</td>\n",
       "      <td>NaN</td>\n",
       "      <td>NaN</td>\n",
       "    </tr>\n",
       "    <tr>\n",
       "      <th>3</th>\n",
       "      <td>NaN</td>\n",
       "      <td>NaN</td>\n",
       "      <td>NaN</td>\n",
       "      <td>NaN</td>\n",
       "      <td>NaN</td>\n",
       "      <td>r3</td>\n",
       "      <td>17</td>\n",
       "      <td>NaN</td>\n",
       "      <td>NaN</td>\n",
       "      <td>NaN</td>\n",
       "      <td>NaN</td>\n",
       "      <td>NaN</td>\n",
       "      <td>NaN</td>\n",
       "      <td>NaN</td>\n",
       "    </tr>\n",
       "    <tr>\n",
       "      <th>4</th>\n",
       "      <td>NaN</td>\n",
       "      <td>NaN</td>\n",
       "      <td>NaN</td>\n",
       "      <td>NaN</td>\n",
       "      <td>NaN</td>\n",
       "      <td>r4</td>\n",
       "      <td>17</td>\n",
       "      <td>NaN</td>\n",
       "      <td>NaN</td>\n",
       "      <td>NaN</td>\n",
       "      <td>NaN</td>\n",
       "      <td>NaN</td>\n",
       "      <td>NaN</td>\n",
       "      <td>NaN</td>\n",
       "    </tr>\n",
       "    <tr>\n",
       "      <th>5</th>\n",
       "      <td>NaN</td>\n",
       "      <td>NaN</td>\n",
       "      <td>NaN</td>\n",
       "      <td>NaN</td>\n",
       "      <td>NaN</td>\n",
       "      <td>r5</td>\n",
       "      <td>17</td>\n",
       "      <td>NaN</td>\n",
       "      <td>NaN</td>\n",
       "      <td>NaN</td>\n",
       "      <td>NaN</td>\n",
       "      <td>NaN</td>\n",
       "      <td>NaN</td>\n",
       "      <td>NaN</td>\n",
       "    </tr>\n",
       "    <tr>\n",
       "      <th>6</th>\n",
       "      <td>NaN</td>\n",
       "      <td>NaN</td>\n",
       "      <td>NaN</td>\n",
       "      <td>NaN</td>\n",
       "      <td>NaN</td>\n",
       "      <td>r6</td>\n",
       "      <td>17</td>\n",
       "      <td>NaN</td>\n",
       "      <td>NaN</td>\n",
       "      <td>NaN</td>\n",
       "      <td>NaN</td>\n",
       "      <td>NaN</td>\n",
       "      <td>NaN</td>\n",
       "      <td>NaN</td>\n",
       "    </tr>\n",
       "    <tr>\n",
       "      <th>7</th>\n",
       "      <td>NaN</td>\n",
       "      <td>NaN</td>\n",
       "      <td>NaN</td>\n",
       "      <td>NaN</td>\n",
       "      <td>NaN</td>\n",
       "      <td>r7</td>\n",
       "      <td>17</td>\n",
       "      <td>NaN</td>\n",
       "      <td>NaN</td>\n",
       "      <td>NaN</td>\n",
       "      <td>NaN</td>\n",
       "      <td>NaN</td>\n",
       "      <td>NaN</td>\n",
       "      <td>NaN</td>\n",
       "    </tr>\n",
       "    <tr>\n",
       "      <th>8</th>\n",
       "      <td>NaN</td>\n",
       "      <td>NaN</td>\n",
       "      <td>NaN</td>\n",
       "      <td>NaN</td>\n",
       "      <td>NaN</td>\n",
       "      <td>r8</td>\n",
       "      <td>17</td>\n",
       "      <td>NaN</td>\n",
       "      <td>NaN</td>\n",
       "      <td>NaN</td>\n",
       "      <td>NaN</td>\n",
       "      <td>NaN</td>\n",
       "      <td>NaN</td>\n",
       "      <td>NaN</td>\n",
       "    </tr>\n",
       "    <tr>\n",
       "      <th>9</th>\n",
       "      <td>NaN</td>\n",
       "      <td>NaN</td>\n",
       "      <td>NaN</td>\n",
       "      <td>NaN</td>\n",
       "      <td>NaN</td>\n",
       "      <td>r9</td>\n",
       "      <td>17</td>\n",
       "      <td>NaN</td>\n",
       "      <td>NaN</td>\n",
       "      <td>NaN</td>\n",
       "      <td>NaN</td>\n",
       "      <td>NaN</td>\n",
       "      <td>NaN</td>\n",
       "      <td>NaN</td>\n",
       "    </tr>\n",
       "  </tbody>\n",
       "</table>\n",
       "</div>"
      ],
      "text/plain": [
       "   average tag size  completed reads  mean read latency (ms)  \\\n",
       "0                 0                1                       0   \n",
       "1               NaN              NaN                     NaN   \n",
       "2               NaN              NaN                     NaN   \n",
       "3               NaN              NaN                     NaN   \n",
       "4               NaN              NaN                     NaN   \n",
       "5               NaN              NaN                     NaN   \n",
       "6               NaN              NaN                     NaN   \n",
       "7               NaN              NaN                     NaN   \n",
       "8               NaN              NaN                     NaN   \n",
       "9               NaN              NaN                     NaN   \n",
       "\n",
       "   mean session duration (ms)  reads replica  sent  sessions  \\\n",
       "0                        1050      2      r0   161         1   \n",
       "1                         NaN      1      r1    25       NaN   \n",
       "2                         NaN    NaN      r2    17       NaN   \n",
       "3                         NaN    NaN      r3    17       NaN   \n",
       "4                         NaN    NaN      r4    17       NaN   \n",
       "5                         NaN    NaN      r5    17       NaN   \n",
       "6                         NaN    NaN      r6    17       NaN   \n",
       "7                         NaN    NaN      r7    17       NaN   \n",
       "8                         NaN    NaN      r8    17       NaN   \n",
       "9                         NaN    NaN      r9    17       NaN   \n",
       "\n",
       "   visibility latency (ms)  visible writes  writes  missed reads  \\\n",
       "0                       15               5       5             1   \n",
       "1                      NaN             NaN       7           NaN   \n",
       "2                      NaN             NaN     NaN           NaN   \n",
       "3                      NaN             NaN     NaN           NaN   \n",
       "4                      NaN             NaN     NaN           NaN   \n",
       "5                      NaN             NaN     NaN           NaN   \n",
       "6                      NaN             NaN     NaN           NaN   \n",
       "7                      NaN             NaN     NaN           NaN   \n",
       "8                      NaN             NaN     NaN           NaN   \n",
       "9                      NaN             NaN     NaN           NaN   \n",
       "\n",
       "   dropped writes  visibility ratio  \n",
       "0               0                 1  \n",
       "1             NaN               NaN  \n",
       "2             NaN               NaN  \n",
       "3             NaN               NaN  \n",
       "4             NaN               NaN  \n",
       "5             NaN               NaN  \n",
       "6             NaN               NaN  \n",
       "7             NaN               NaN  \n",
       "8             NaN               NaN  \n",
       "9             NaN               NaN  "
      ]
     },
     "execution_count": 4,
     "metadata": {},
     "output_type": "execute_result"
    }
   ],
   "source": [
    "def create_dataframe():\n",
    "    \n",
    "    # Handlers for various rows: return a dictionary to add to data frame. \n",
    "    def default_handler(key, values):\n",
    "        return {\n",
    "            key: len(values) \n",
    "        }\n",
    "    \n",
    "    def handle_visibility_latency(key, values):\n",
    "        return {\n",
    "            \"visibility latency (ms)\": sum(v[2] - v[1] for v in values) / len(values), \n",
    "            \"visible writes\": len(set([v[1] for v in values]))\n",
    "        }\n",
    "    \n",
    "    def handle_commit_latency(key, values):\n",
    "        return {\n",
    "            \"commit latency (ms)\": sum(v[2] - v[1] for v in values) / len(values),\n",
    "            \"committed writes\": len(set([v[1] for v in values]))\n",
    "        }\n",
    "\n",
    "    def handle_session_length(key, values):\n",
    "        return {\n",
    "            \"sessions\": len(values), \n",
    "            \"mean session duration (ms)\": sum(v[0] for v in values) / len(values),\n",
    "        }\n",
    "\n",
    "    def handle_read_latency(key, values):\n",
    "        return {\n",
    "            \"completed reads\": len(values), \n",
    "            \"mean read latency (ms)\": sum(v[0] for v in values) / len(values),\n",
    "        }\n",
    "    \n",
    "    def handle_tag_size(key, values):\n",
    "        return {\n",
    "            \"average tag size\": sum(v[1] for v in values) / len(values)\n",
    "        }\n",
    "    \n",
    "    def rename_key(name, func=default_handler):\n",
    "        def handle_rename(key, values):\n",
    "            item = func(key, values)\n",
    "            return {\n",
    "                name: item[key]\n",
    "            }\n",
    "        return handle_rename\n",
    "        \n",
    "\n",
    "    # Handler map \n",
    "    handlers = {\n",
    "        'visibility latency': handle_visibility_latency, \n",
    "        'commit latency': handle_commit_latency, \n",
    "        'session length': handle_session_length,\n",
    "        'read latency': handle_read_latency,\n",
    "        'tag size': handle_tag_size,\n",
    "        'read': rename_key('reads'),\n",
    "        'write': rename_key('writes'),\n",
    "    }\n",
    "    \n",
    "    replicas = defaultdict(lambda: defaultdict(list)) \n",
    "    topology = results.topology\n",
    "    config   = results.settings\n",
    "    series   = results.results\n",
    "    \n",
    "    # Extract per-replica ID values from all results series \n",
    "    for key, values in series.iteritems():\n",
    "        for value in values:\n",
    "            # Some quick checks \n",
    "            assert len(value) > 1 \n",
    "            assert value[0].startswith('r')\n",
    "            \n",
    "            # Append the series to the specific replica \n",
    "            replicas[value[0]][key].append(value[1:])\n",
    "    \n",
    "    # Create a table with each replica id\n",
    "    table = []\n",
    "    for replica, series in replicas.iteritems():\n",
    "        row = {'replica': replica} \n",
    "        \n",
    "        # Perform per-replica aggreations for each result set \n",
    "        for serie, values in series.iteritems():\n",
    "            handler = handlers.get(serie, default_handler)\n",
    "            row.update(handler(serie, values))\n",
    "        \n",
    "        # Add in topology information \n",
    "        \n",
    "        \n",
    "        table.append(row)\n",
    "    \n",
    "    # Create the data frame and compute aggregate dependency items \n",
    "    df = pd.DataFrame(sorted(table, key=itemgetter('replica')))\n",
    "    df['missed reads'] = df['reads'] - df['completed reads']\n",
    "    df['dropped writes'] = df['writes'] - df ['visible writes']\n",
    "    df['visibility ratio'] = df['visible writes'] / df['writes']\n",
    "    \n",
    "    return df\n",
    "\n",
    "df = create_dataframe()\n",
    "df "
   ]
  },
  {
   "cell_type": "markdown",
   "metadata": {},
   "source": [
    "# Results "
   ]
  },
  {
   "cell_type": "code",
   "execution_count": 5,
   "metadata": {
    "collapsed": false
   },
   "outputs": [
    {
     "name": "stdout",
     "output_type": "stream",
     "text": [
      "Simulation: Single medium Cluster (Cloudscope v0.3)\n",
      "Toplogy for single medium cluster experiments.\n",
      "\n",
      "Ran on: Mar 11, 2016 at 04:47 UTC (3 minutes 46 seconds)\n",
      "\n",
      "Settings\n",
      "========\n",
      "Access Stddev                 512\n",
      "Do Rumoring                     1\n",
      "Switch Prob                   0.3\n",
      "Move Prob                     0.2\n",
      "Default Latency               800\n",
      "Do Gossip                       1\n",
      "Max Sim Time              4320000\n",
      "Random Seed                    42\n",
      "Access Mean                  1800\n",
      "Election Timeout       [150, 300]\n",
      "Heartbeat Interval             75\n",
      "Default Consistency        strong\n",
      "Invalid Types         [u'backup']\n",
      "Read Prob                    0.68\n",
      "Users                           1\n",
      "Max Objects Accessed           10\n",
      "Anti Entropy Delay            600\n",
      "Object Prob                   0.3\n",
      "Valid Locations      [u'home', u'work', u'mobile', u'cloud']\n",
      "Session Timeout               300\n",
      "Default Replica           storage\n",
      "Count Messages                  1\n"
     ]
    }
   ],
   "source": [
    "print report_details()"
   ]
  },
  {
   "cell_type": "markdown",
   "metadata": {},
   "source": [
    "## Topology"
   ]
  },
  {
   "cell_type": "code",
   "execution_count": 11,
   "metadata": {
    "collapsed": false
   },
   "outputs": [
    {
     "data": {
      "image/png": "[encoded data removed]",
      "text/plain": [
       "<matplotlib.figure.Figure at 0x109489cd0>"
      ]
     },
     "metadata": {},
     "output_type": "display_data"
    }
   ],
   "source": [
    "draw_topology(json_graph.node_link_graph(results.topology))"
   ]
  },
  {
   "cell_type": "code",
   "execution_count": 12,
   "metadata": {
    "collapsed": false
   },
   "outputs": [
    {
     "name": "stdout",
     "output_type": "stream",
     "text": [
      "r0: Raft 1 (cloud, medium) 15-15ms connection\n",
      "r1: Raft 2 (cloud, medium) 15-15ms connection\n",
      "r2: Raft 3 (cloud, medium) 15-15ms connection\n",
      "r3: Raft 4 (cloud, medium) 15-15ms connection\n",
      "r4: Raft 5 (cloud, medium) 15-15ms connection\n",
      "r5: Raft 6 (cloud, medium) 15-15ms connection\n",
      "r6: Raft 7 (cloud, medium) 15-15ms connection\n",
      "r7: Raft 8 (cloud, medium) 15-15ms connection\n",
      "r8: Raft 9 (cloud, medium) 15-15ms connection\n",
      "r9: Raft 10 (cloud, medium) 15-15ms connection\n"
     ]
    }
   ],
   "source": [
    "print report_topology()"
   ]
  },
  {
   "cell_type": "markdown",
   "metadata": {},
   "source": [
    "## Workload"
   ]
  },
  {
   "cell_type": "code",
   "execution_count": 14,
   "metadata": {
    "collapsed": false
   },
   "outputs": [
    {
     "data": {
      "text/plain": [
       "<module 'matplotlib.pyplot' from '/usr/local/lib/python2.7/site-packages/matplotlib/pyplot.pyc'>"
      ]
     },
     "execution_count": 14,
     "metadata": {},
     "output_type": "execute_result"
    },
    {
     "data": {
      "image/png": "[encoded data removed]",
      "text/plain": [
       "<matplotlib.figure.Figure at 0x109797890>"
      ]
     },
     "metadata": {},
     "output_type": "display_data"
    }
   ],
   "source": [
    "# Create the workload timeline plot \n",
    "plot_workload(results, devices=True)"
   ]
  },
  {
   "cell_type": "code",
   "execution_count": 15,
   "metadata": {
    "collapsed": false
   },
   "outputs": [
    {
     "data": {
      "text/plain": [
       "<matplotlib.axes._subplots.AxesSubplot at 0x109690c10>"
      ]
     },
     "execution_count": 15,
     "metadata": {},
     "output_type": "execute_result"
    },
    {
     "data": {
      "image/png": "[encoded data removed]",
      "text/plain": [
       "<matplotlib.figure.Figure at 0x10969fcd0>"
      ]
     },
     "metadata": {},
     "output_type": "display_data"
    }
   ],
   "source": [
    "# Create the sent messages timeline\n",
    "plot_message_traffic(results.results['sent'])"
   ]
  },
  {
   "cell_type": "markdown",
   "metadata": {},
   "source": [
    "## Metrics \n",
    "\n",
    "The following metrics are reported from the results.\n",
    "\n",
    "### Reads and Writes"
   ]
  },
  {
   "cell_type": "code",
   "execution_count": 24,
   "metadata": {
    "collapsed": false
   },
   "outputs": [
    {
     "name": "stdout",
     "output_type": "stream",
     "text": [
      "Accesses\n",
      "========\n",
      "3.0 Total Reads, 12.0 Total Writes \n",
      "1.5 average reads per replica\n",
      "6.0 average writes per replica\n",
      "\n"
     ]
    },
    {
     "data": {
      "text/plain": [
       "<matplotlib.axes._subplots.AxesSubplot at 0x10b2d8290>"
      ]
     },
     "execution_count": 24,
     "metadata": {},
     "output_type": "execute_result"
    },
    {
     "data": {
      "image/png": "[encoded data removed]",
      "text/plain": [
       "<matplotlib.figure.Figure at 0x10ae5ba10>"
      ]
     },
     "metadata": {},
     "output_type": "display_data"
    }
   ],
   "source": [
    "# Extract accesses \n",
    "accesses = pd.DataFrame(df, columns=['reads', 'writes'])\n",
    "\n",
    "print (\n",
    "    \"Accesses\\n\"\n",
    "    \"========\\n\"\n",
    "    \"{} Total Reads, {} Total Writes \\n\"\n",
    "    \"{:0.1f} average reads per replica\\n\"\n",
    "    \"{:0.1f} average writes per replica\\n\"\n",
    ").format(\n",
    "    df.reads.sum(), df.writes.sum(), df.reads.mean(), df.writes.mean()\n",
    ")\n",
    "\n",
    "accesses.plot(kind='bar', stacked=True)"
   ]
  },
  {
   "cell_type": "markdown",
   "metadata": {},
   "source": [
    "### Stale Reads"
   ]
  },
  {
   "cell_type": "code",
   "execution_count": 17,
   "metadata": {
    "collapsed": false
   },
   "outputs": [
    {
     "data": {
      "text/plain": [
       "<matplotlib.axes._subplots.AxesSubplot at 0x10aaac510>"
      ]
     },
     "execution_count": 17,
     "metadata": {},
     "output_type": "execute_result"
    },
    {
     "data": {
      "image/png": "[encoded data removed]",
      "text/plain": [
       "<matplotlib.figure.Figure at 0x109ba6790>"
      ]
     },
     "metadata": {},
     "output_type": "display_data"
    }
   ],
   "source": [
    "errors = pd.DataFrame(df, columns=['missed reads', 'dropped writes'])\n",
    "errors.plot(kind='bar', stacked=True)"
   ]
  },
  {
   "cell_type": "markdown",
   "metadata": {},
   "source": [
    "### Visibility Latency "
   ]
  },
  {
   "cell_type": "code",
   "execution_count": 18,
   "metadata": {
    "collapsed": false
   },
   "outputs": [
    {
     "data": {
      "text/plain": [
       "<matplotlib.axes._subplots.AxesSubplot at 0x10ab75550>"
      ]
     },
     "execution_count": 18,
     "metadata": {},
     "output_type": "execute_result"
    },
    {
     "data": {
      "image/png": "[encoded data removed]",
      "text/plain": [
       "<matplotlib.figure.Figure at 0x109be5a50>"
      ]
     },
     "metadata": {},
     "output_type": "display_data"
    }
   ],
   "source": [
    "df.plot(kind='bar', x='replica', y='visibility latency (ms)')"
   ]
  }
 ],
 "metadata": {
  "kernelspec": {
   "display_name": "Python 2",
   "language": "python",
   "name": "python2"
  },
  "language_info": {
   "codemirror_mode": {
    "name": "ipython",
    "version": 2
   },
   "file_extension": ".py",
   "mimetype": "text/x-python",
   "name": "python",
   "nbconvert_exporter": "python",
   "pygments_lexer": "ipython2",
   "version": "2.7.10"
  }
 },
 "nbformat": 4,
 "nbformat_minor": 0
}
