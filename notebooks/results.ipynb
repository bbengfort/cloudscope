{
 "cells": [
  {
   "cell_type": "markdown",
   "metadata": {},
   "source": [
    "# Results Analysis\n",
    "\n",
    "This notebook is intended to read a simulation results file and report the analysis."
   ]
  },
  {
   "cell_type": "code",
   "execution_count": 66,
   "metadata": {
    "collapsed": false
   },
   "outputs": [],
   "source": [
    "%matplotlib inline\n",
    "\n",
    "import os\n",
    "import sys \n",
    "import json\n",
    "import seaborn as sns\n",
    "import matplotlib.pyplot as plt\n",
    "\n",
    "from datetime import date\n",
    "from collections import defaultdict\n",
    "from operator import itemgetter\n",
    "from itertools import groupby\n",
    "\n",
    "# Modify the Notebook path\n",
    "sys.path.append(os.path.join(os.getcwd(), \"..\"))"
   ]
  },
  {
   "cell_type": "code",
   "execution_count": 67,
   "metadata": {
    "collapsed": true
   },
   "outputs": [],
   "source": [
    "# Specify a path to a results file \n",
    "# If None, will attempt to look one up\n",
    "FIXTURES = os.path.join(\"..\", \"fixtures\")\n",
    "# RESULTS  = None\n",
    "RESULTS  = os.path.join(FIXTURES, 'test-results.json')\n",
    "\n",
    "def get_results_data(path=RESULTS):\n",
    "    if path is None:\n",
    "        name = \"ConsistencySimulation-{}.json\".format(date.today().strftime('%Y%m%d'))\n",
    "        path = os.path.join(FIXTURES, name)\n",
    "    \n",
    "    with open(path, 'r') as f:\n",
    "        return json.load(f)\n",
    "\n",
    "# Load the data\n",
    "data = get_results_data()"
   ]
  },
  {
   "cell_type": "code",
   "execution_count": 68,
   "metadata": {
    "collapsed": false
   },
   "outputs": [],
   "source": [
    "def report(data, title=None, total=None):\n",
    "    \"\"\"\n",
    "    Expects data to be a list of (name, value) pairs.\n",
    "    Total will be computed from data or accepted if passed in.\n",
    "    Title will be the header for the report. \n",
    "    \"\"\"\n",
    "    if total is None:\n",
    "        total = sum(val[1] for val in data)\n",
    "    \n",
    "    if title is None:\n",
    "        title = \"Key/Val Report\"\n",
    "    \n",
    "    # Banner length and max key length\n",
    "    blen = len(title)\n",
    "    klen = max([max([len(val[0]) for val in data]), len('total')])\n",
    "    fmtr = \"{{: <{}}}{{: >{}}}\".format(klen, blen-klen)\n",
    "    \n",
    "    output = [title, \"=\"*blen]\n",
    "    \n",
    "    for key, val in data:\n",
    "        output.append(fmtr.format(key, val))\n",
    "                \n",
    "    output.append(\"-\"*blen)\n",
    "    output.append(fmtr.format('total', total))\n",
    "    return \"\\n\".join(output)"
   ]
  },
  {
   "cell_type": "code",
   "execution_count": 69,
   "metadata": {
    "collapsed": false
   },
   "outputs": [
    {
     "name": "stdout",
     "output_type": "stream",
     "text": [
      "Stale Reads\n",
      "===========\n",
      "r0   1279218.23654\n",
      "r0   1979298.33983\n",
      "r0   1979298.33983\n",
      "r1   2592065.01813\n",
      "r2   2826958.0768\n",
      "r2   3518744.69181\n",
      "r3   2762864.44413\n",
      "r3   3212927.7657\n",
      "r3   3301355.56921\n",
      "r3   3327245.26754\n",
      "r3   3411717.72882\n",
      "r3   3481308.02303\n",
      "r4   1279218.23654\n",
      "r4   2874560.27377\n",
      "r4   2945224.9947\n",
      "r4   3923430.17696\n",
      "r4   3928400.17413\n",
      "r4   4037600.17876\n",
      "r4   4076498.38586\n",
      "r4   4076498.38586\n",
      "r4   4122528.23957\n",
      "r5   4248019.91072\n",
      "r6   1041109.36841\n",
      "r6   1864853.26333\n",
      "r6   1932913.49902\n",
      "r6   2945224.9947\n",
      "r6   2996254.10299\n",
      "r6   3068196.39484\n",
      "r6   3518744.69181\n",
      "r6   3518744.69181\n",
      "-----------\n",
      "total90071021.4651\n"
     ]
    }
   ],
   "source": [
    "def report_stale_reads():\n",
    "    stale = data['results']['stale reads']\n",
    "    stale.sort(key=itemgetter(0))\n",
    "    \n",
    "    \n",
    "    return report(stale, \"Stale Reads\")\n",
    "\n",
    "    for rid, values in groupby(stale, itemgetter(1)):\n",
    "        output.append(\"{}:{: >8}\".format(rid, sum(1 for v in values)))\n",
    "    \n",
    "    output.append(\"-----------\") \n",
    "    output.append(\"total: {: >4}\".format(len(stale)))\n",
    "    \n",
    "    return \"\\n\".join(output)\n",
    "\n",
    "print report_stale_reads()"
   ]
  },
  {
   "cell_type": "code",
   "execution_count": null,
   "metadata": {
    "collapsed": true
   },
   "outputs": [],
   "source": []
  }
 ],
 "metadata": {
  "kernelspec": {
   "display_name": "Python 2",
   "language": "python",
   "name": "python2"
  },
  "language_info": {
   "codemirror_mode": {
    "name": "ipython",
    "version": 2
   },
   "file_extension": ".py",
   "mimetype": "text/x-python",
   "name": "python",
   "nbconvert_exporter": "python",
   "pygments_lexer": "ipython2",
   "version": "2.7.10"
  }
 },
 "nbformat": 4,
 "nbformat_minor": 0
}
