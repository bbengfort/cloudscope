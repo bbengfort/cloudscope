{
 "cells": [
  {
   "cell_type": "markdown",
   "metadata": {},
   "source": [
    "# Results Analysis\n",
    "\n",
    "This notebook is intended to read a simulation results file and report the analysis."
   ]
  },
  {
   "cell_type": "code",
   "execution_count": 27,
   "metadata": {
    "collapsed": false
   },
   "outputs": [],
   "source": [
    "%matplotlib inline\n",
    "\n",
    "import os\n",
    "import sys \n",
    "import json\n",
    "import networkx as nx\n",
    "import seaborn as sns\n",
    "import matplotlib.pyplot as plt\n",
    "\n",
    "from networkx.readwrite import json_graph\n",
    "from datetime import date\n",
    "from collections import defaultdict, Counter\n",
    "from operator import itemgetter\n",
    "from itertools import groupby, chain\n",
    "from copy import deepcopy \n",
    "\n",
    "# Modify the Notebook path\n",
    "sys.path.append(os.path.join(os.getcwd(), \"..\"))\n",
    "\n",
    "from cloudscope.utils.timez import epochptime"
   ]
  },
  {
   "cell_type": "code",
   "execution_count": 28,
   "metadata": {
    "collapsed": false
   },
   "outputs": [],
   "source": [
    "# Specify a path to a results file \n",
    "FIXTURES = os.path.join(\"..\", \"fixtures\")\n",
    "# RESULTS  = os.path.join(FIXTURES, 'test-raft-single.json')\n",
    "RESULTS  = os.path.join(FIXTURES, 'test-eventual-single.json')\n",
    "\n",
    "def get_results_data(path=RESULTS):\n",
    "    with open(path, 'r') as f:\n",
    "        return json.load(f)\n",
    "\n",
    "# Load the data\n",
    "data = get_results_data()"
   ]
  },
  {
   "cell_type": "code",
   "execution_count": 29,
   "metadata": {
    "collapsed": false
   },
   "outputs": [],
   "source": [
    "def title(text):\n",
    "    return \" \".join([t.capitalize() for t in text.split(\"_\")])\n",
    "\n",
    "def report(data, title=None, total=None, sort=True):\n",
    "    \"\"\"\n",
    "    Expects data to be a list of (name, value) pairs.\n",
    "    Total will be computed from data or accepted if passed in.\n",
    "    Title will be the header for the report. \n",
    "    \"\"\"\n",
    "    if total is None:\n",
    "        total = sum(val[1] for val in data)\n",
    "    \n",
    "    if title is None:\n",
    "        title = \"Key/Val Report\"\n",
    "    \n",
    "    if sort:\n",
    "        data = sorted(data, key=itemgetter(0))\n",
    "    \n",
    "    # Banner length and max key length\n",
    "    blen = len(title)\n",
    "    klen = max([max([len(val[0]) for val in data]), len('total')])\n",
    "    fmtr = \"{{: <{}}} {{: >{}}}\".format(klen, blen-klen-1)\n",
    "    \n",
    "    output = [title, \"=\"*blen]\n",
    "    \n",
    "    for key, val in data:\n",
    "        output.append(fmtr.format(key, val))\n",
    "                \n",
    "    output.append(\"-\"*blen)\n",
    "    output.append(fmtr.format('total', total))\n",
    "    return \"\\n\".join(output)\n",
    "\n",
    "def report_details():\n",
    "    banner = (\n",
    "        \"Simulation: {} (Cloudscope v{})\\n\"\n",
    "        \"{}\\n\\n\"\n",
    "        \"Ran on: {} ({})\\n\\n\"\n",
    "        \"Settings\\n\"\n",
    "        \"========\\n\"\n",
    "    ).format(\n",
    "        data['simulation'], data['version'], data['topology']['meta']['description'],\n",
    "        epochptime(data['timer']['started']).strftime('%b %d, %Y at %H:%M %Z'), \n",
    "        data['timer']['elapsed'],\n",
    "        data['randseed'],\n",
    "    )\n",
    "    \n",
    "    longest = max(len(key) for key in data['settings'])\n",
    "    frmt = \"{{: <{0}}} {{: >12}}\".format(longest)\n",
    "    \n",
    "    \n",
    "    return banner + \"\\n\".join([\n",
    "        frmt.format(title(key), value)\n",
    "        for key, value in data['settings'].items()\n",
    "    ])\n",
    "    \n",
    "\n",
    "def report_topology():\n",
    "    topology = deepcopy(data['topology'])\n",
    "    nodes = topology['nodes']\n",
    "    links = topology['links']\n",
    "    \n",
    "    for link in links:\n",
    "        latency = [link['latency']] if link['connection'] == 'constant' else link['latency']\n",
    "        \n",
    "        for rid in ('source', 'target'):\n",
    "            node = nodes[link[rid]]\n",
    "            \n",
    "            if 'minlat' not in node:\n",
    "                node['minlat'] = latency[0]\n",
    "            else:\n",
    "                \n",
    "                node['minlat'] = min(node['minlat'], latency[0])\n",
    "\n",
    "            if 'maxlat' not in node:\n",
    "                node['maxlat'] = latency[-1]\n",
    "            else:\n",
    "                node['maxlat'] = max(node['maxlat'], latency[-1])\n",
    "         \n",
    "    output = []\n",
    "    for node in sorted(nodes, key=itemgetter('id')):\n",
    "        output.append(\n",
    "            \"{}: {} ({}, {}) {}-{}ms connection\".format(\n",
    "                node['id'], node['label'], node['location'], node['consistency'], node['minlat'], node['maxlat']\n",
    "            )\n",
    "        )\n",
    "    return \"\\n\".join(output)"
   ]
  },
  {
   "cell_type": "code",
   "execution_count": 30,
   "metadata": {
    "collapsed": false
   },
   "outputs": [],
   "source": [
    "def report_reads_writes():\n",
    "    counts = defaultdict(Counter)\n",
    "    totals = Counter()\n",
    "    for access in ('read', 'write'):\n",
    "        for (rid, loc, ts) in data['results'].get(access, []):\n",
    "            counts[rid][access] += 1\n",
    "            totals[access] += 1\n",
    "    \n",
    "    total = \"{}/{}\".format(totals['read'], totals['write'])\n",
    "    \n",
    "    return report([\n",
    "            (rid, \"{}/{}\".format(c['read'], c['write']))\n",
    "            for rid, c in counts.items()\n",
    "        ], \"Accesses (read/write)\", total=total)"
   ]
  },
  {
   "cell_type": "code",
   "execution_count": 31,
   "metadata": {
    "collapsed": false
   },
   "outputs": [],
   "source": [
    "def report_stale_reads():\n",
    "    stale = data['results'].get('stale reads', [])\n",
    "    if not stale:\n",
    "        return \"No Stale Reads\"\n",
    "    \n",
    "    stale.sort(key=itemgetter(0))\n",
    "    \n",
    "    return report([\n",
    "            (rid, sum(1 for v in values))\n",
    "            for rid, values in groupby(stale, itemgetter(0))\n",
    "        ], \"Stale Reads\")"
   ]
  },
  {
   "cell_type": "code",
   "execution_count": 32,
   "metadata": {
    "collapsed": false
   },
   "outputs": [],
   "source": [
    "def report_visibility_latencies():\n",
    "    visibilities = data['results'].get('visibility latency', [])\n",
    "    if not visibilities:\n",
    "        return \"No visibility latency metrics\" \n",
    "    \n",
    "    latencies = defaultdict(list)\n",
    "    versions  = set([])\n",
    "    \n",
    "    for writer, vid, start, finish in visibilities:\n",
    "        latencies[writer].append(finish - start)\n",
    "        versions.add(vid)\n",
    "    \n",
    "    total  = sum(l for l in chain(*latencies.values())) / sum(1 for l in chain(*latencies.values()))\n",
    "    total  = \"{:0.4f} secs\".format(total / 1000)\n",
    "\n",
    "    header =  (\n",
    "        \"Fully visible writes:{: >6}\\n\"\n",
    "        \"Total number of writes:{: >4}\\n\\n\"\n",
    "    ).format(len(versions), len(data['results']['write']))\n",
    "    \n",
    "    return header + report([\n",
    "        (rid, \"{:0.4f} secs\".format((sum(l) / len(l)) / 1000))\n",
    "        for rid, l in latencies.items()\n",
    "    ], 'Mean Visibility Latency', total=total)"
   ]
  },
  {
   "cell_type": "code",
   "execution_count": 33,
   "metadata": {
    "collapsed": false
   },
   "outputs": [],
   "source": [
    "def draw_topology():\n",
    "    cmap = {\n",
    "        'strong': '#91cf60',\n",
    "        'medium': '#ffffbf',\n",
    "        'low': '#fc8d59',\n",
    "    }\n",
    "    \n",
    "    lmap = {\n",
    "        'constant': 'solid',\n",
    "        'variable': 'dashed',\n",
    "    }\n",
    "\n",
    "    G = json_graph.node_link_graph(data['topology'])\n",
    "    colors = [cmap[n[1]['consistency']] for n in G.nodes(data=True)]\n",
    "    links  = [lmap[n[2]['connection']] for n in G.edges(data=True)]\n",
    "    nx.draw_circular(G, with_labels=True, node_size=800, node_color=colors, font_weight='bold', style=links, edge_color='#333333')"
   ]
  },
  {
   "cell_type": "markdown",
   "metadata": {},
   "source": [
    "# Results "
   ]
  },
  {
   "cell_type": "code",
   "execution_count": 34,
   "metadata": {
    "collapsed": false
   },
   "outputs": [
    {
     "name": "stdout",
     "output_type": "stream",
     "text": [
      "Simulation: Eventually There (Cloudscope v0.2)\n",
      "Single Consistency Type: An Eventually Consistent Data Center.\n",
      "\n",
      "Ran on: Feb 19, 2016 at 17:25 UTC (7 seconds)\n",
      "\n",
      "Settings\n",
      "========\n",
      "Default Latency              800\n",
      "Do Rumoring                    1\n",
      "Users                          1\n",
      "Move Prob                    0.2\n",
      "Anti Entropy Delay           600\n",
      "Election Timeout      [150, 300]\n",
      "Valid Locations     [u'home', u'work', u'mobile', u'cloud']\n",
      "Switch Prob                  0.3\n",
      "Heartbeat Interval            75\n",
      "Access Stddev                512\n",
      "Default Replica          storage\n",
      "Default Consistency       strong\n",
      "Random Seed                   42\n",
      "Invalid Types        [u'backup']\n",
      "Read Prob                   0.68\n",
      "Do Gossip                      1\n",
      "Max Sim Time             4320000\n",
      "Access Mean                 1800\n"
     ]
    }
   ],
   "source": [
    "print report_details()"
   ]
  },
  {
   "cell_type": "markdown",
   "metadata": {},
   "source": [
    "## Topology"
   ]
  },
  {
   "cell_type": "code",
   "execution_count": 35,
   "metadata": {
    "collapsed": false
   },
   "outputs": [
    {
     "data": {
      "image/png": "[encoded data removed]",
      "text/plain": [
       "<matplotlib.figure.Figure at 0x114d8cc50>"
      ]
     },
     "metadata": {},
     "output_type": "display_data"
    }
   ],
   "source": [
    "draw_topology()"
   ]
  },
  {
   "cell_type": "code",
   "execution_count": 36,
   "metadata": {
    "collapsed": false
   },
   "outputs": [
    {
     "name": "stdout",
     "output_type": "stream",
     "text": [
      "r0: Eventual 1 (cloud, low) 300-1500ms connection\n",
      "r1: Eventual 2 (cloud, low) 300-1500ms connection\n",
      "r2: Eventual 3 (cloud, low) 300-1500ms connection\n",
      "r3: Eventual 4 (cloud, low) 300-1500ms connection\n",
      "r4: Eventual 5 (cloud, low) 300-1500ms connection\n",
      "r5: Eventual 6 (cloud, low) 300-1500ms connection\n",
      "r6: Eventual 7 (cloud, low) 300-1500ms connection\n",
      "r7: Eventual 8 (cloud, low) 300-1500ms connection\n"
     ]
    }
   ],
   "source": [
    "print report_topology()"
   ]
  },
  {
   "cell_type": "markdown",
   "metadata": {},
   "source": [
    "## Metrics \n",
    "\n",
    "The following metrics are reported from the results.\n",
    "\n",
    "### Reads and Writes"
   ]
  },
  {
   "cell_type": "code",
   "execution_count": 37,
   "metadata": {
    "collapsed": false
   },
   "outputs": [
    {
     "name": "stdout",
     "output_type": "stream",
     "text": [
      "Accesses (read/write)\n",
      "=====================\n",
      "r0             181/92\n",
      "r1            173/101\n",
      "r2             187/82\n",
      "r3             194/91\n",
      "r4             205/99\n",
      "r5            228/119\n",
      "r6            207/105\n",
      "r7            239/120\n",
      "---------------------\n",
      "total        1614/809\n"
     ]
    }
   ],
   "source": [
    "print report_reads_writes()"
   ]
  },
  {
   "cell_type": "markdown",
   "metadata": {},
   "source": [
    "### Stale Reads"
   ]
  },
  {
   "cell_type": "code",
   "execution_count": 38,
   "metadata": {
    "collapsed": false
   },
   "outputs": [
    {
     "name": "stdout",
     "output_type": "stream",
     "text": [
      "Stale Reads\n",
      "===========\n",
      "r0       28\n",
      "r1       25\n",
      "r2       41\n",
      "r3       37\n",
      "r4       40\n",
      "r5       45\n",
      "r6       49\n",
      "r7       50\n",
      "-----------\n",
      "total   315\n"
     ]
    }
   ],
   "source": [
    "print report_stale_reads()"
   ]
  },
  {
   "cell_type": "markdown",
   "metadata": {},
   "source": [
    "### Visibility Latency "
   ]
  },
  {
   "cell_type": "code",
   "execution_count": 39,
   "metadata": {
    "collapsed": false
   },
   "outputs": [
    {
     "name": "stdout",
     "output_type": "stream",
     "text": [
      "Fully visible writes:   715\n",
      "Total number of writes: 809\n",
      "\n",
      "Mean Visibility Latency\n",
      "=======================\n",
      "r0          3.1258 secs\n",
      "r1          3.2135 secs\n",
      "r2          3.1268 secs\n",
      "r3          3.1797 secs\n",
      "r4          3.2626 secs\n",
      "r5          3.1837 secs\n",
      "r6          3.2388 secs\n",
      "r7          3.2503 secs\n",
      "-----------------------\n",
      "total       3.2028 secs\n"
     ]
    }
   ],
   "source": [
    "print report_visibility_latencies()"
   ]
  }
 ],
 "metadata": {
  "kernelspec": {
   "display_name": "Python 2",
   "language": "python",
   "name": "python2"
  },
  "language_info": {
   "codemirror_mode": {
    "name": "ipython",
    "version": 2
   },
   "file_extension": ".py",
   "mimetype": "text/x-python",
   "name": "python",
   "nbconvert_exporter": "python",
   "pygments_lexer": "ipython2",
   "version": "2.7.10"
  }
 },
 "nbformat": 4,
 "nbformat_minor": 0
}
