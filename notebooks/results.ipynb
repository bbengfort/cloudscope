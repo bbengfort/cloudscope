{
 "cells": [
  {
   "cell_type": "markdown",
   "metadata": {},
   "source": [
    "# Results Analysis\n",
    "\n",
    "This notebook is intended to read a simulation results file and report the analysis."
   ]
  },
  {
   "cell_type": "code",
   "execution_count": 17,
   "metadata": {
    "collapsed": false
   },
   "outputs": [],
   "source": [
    "%matplotlib inline\n",
    "\n",
    "import os\n",
    "import sys \n",
    "import json\n",
    "import networkx as nx\n",
    "import seaborn as sns\n",
    "import pandas as pd\n",
    "import matplotlib\n",
    "import matplotlib.pyplot as plt\n",
    "\n",
    "from networkx.readwrite import json_graph\n",
    "from datetime import date\n",
    "from collections import defaultdict, Counter\n",
    "from operator import itemgetter\n",
    "from itertools import groupby, chain\n",
    "from copy import deepcopy \n",
    "\n",
    "# Modify the Notebook path\n",
    "sys.path.append(os.path.join(os.getcwd(), \"..\"))\n",
    "\n",
    "from cloudscope.results import Results\n",
    "from cloudscope.viz import draw_topology\n",
    "from cloudscope.viz import plot_workload\n",
    "from cloudscope.viz import plot_message_traffic\n",
    "from cloudscope.utils.timez import epochptime\n",
    "\n",
    "matplotlib.style.use('ggplot')"
   ]
  },
  {
   "cell_type": "code",
   "execution_count": 18,
   "metadata": {
    "collapsed": false
   },
   "outputs": [],
   "source": [
    "# Specify a path to a results file \n",
    "FIXTURES = os.path.join(\"..\", \"fixtures\", \"results\")\n",
    "RESULTS  = os.path.join(FIXTURES, 'test-raft-single.json')\n",
    "# RESULTS  = os.path.join(FIXTURES, 'test-eventual-single.json')\n",
    "# RESULTS  = os.path.join(FIXTURES, 'test-tags-single.json')\n",
    "\n",
    "def get_results_data(path=RESULTS):\n",
    "    with open(path, 'r') as f:\n",
    "        return Results.load(f)\n",
    "\n",
    "# Load the data\n",
    "results = get_results_data()"
   ]
  },
  {
   "cell_type": "code",
   "execution_count": 19,
   "metadata": {
    "collapsed": false
   },
   "outputs": [],
   "source": [
    "def title(text):\n",
    "    return \" \".join([t.capitalize() for t in text.split(\"_\")])\n",
    "\n",
    "def report_details():\n",
    "    banner = (\n",
    "        \"Simulation: {} (Cloudscope v{})\\n\"\n",
    "        \"{}\\n\\n\"\n",
    "        \"Ran on: {} ({})\\n\\n\"\n",
    "        \"Settings\\n\"\n",
    "        \"========\\n\"\n",
    "    ).format(\n",
    "        results.simulation, results.version, results.topology['meta']['description'],\n",
    "        epochptime(results.timer['started']).strftime('%b %d, %Y at %H:%M %Z'), \n",
    "        results.timer['elapsed'],\n",
    "        results.randseed,\n",
    "    )\n",
    "    \n",
    "    longest = max(len(key) for key in results.settings)\n",
    "    frmt = \"{{: <{0}}} {{: >12}}\".format(longest)\n",
    "    \n",
    "    \n",
    "    return banner + \"\\n\".join([\n",
    "        frmt.format(title(key), value)\n",
    "        for key, value in results.settings.items()\n",
    "    ])\n",
    "    \n",
    "\n",
    "def report_topology():\n",
    "    topology = deepcopy(results.topology)\n",
    "    nodes = topology['nodes']\n",
    "    links = topology['links']\n",
    "    \n",
    "    for link in links:\n",
    "        latency = [link['latency']] if link['connection'] == 'constant' else link['latency']\n",
    "        \n",
    "        for rid in ('source', 'target'):\n",
    "            node = nodes[link[rid]]\n",
    "            \n",
    "            if 'minlat' not in node:\n",
    "                node['minlat'] = latency[0]\n",
    "            else:\n",
    "                \n",
    "                node['minlat'] = min(node['minlat'], latency[0])\n",
    "\n",
    "            if 'maxlat' not in node:\n",
    "                node['maxlat'] = latency[-1]\n",
    "            else:\n",
    "                node['maxlat'] = max(node['maxlat'], latency[-1])\n",
    "         \n",
    "    output = []\n",
    "    for node in sorted(nodes, key=itemgetter('id')):\n",
    "        output.append(\n",
    "            \"{}: {} ({}, {}) {}-{}ms connection\".format(\n",
    "                node['id'], node['label'], node['location'], node['consistency'], node['minlat'], node['maxlat']\n",
    "            )\n",
    "        )\n",
    "    return \"\\n\".join(output)"
   ]
  },
  {
   "cell_type": "code",
   "execution_count": 20,
   "metadata": {
    "collapsed": false
   },
   "outputs": [
    {
     "data": {
      "text/html": [
       "<div>\n",
       "<table border=\"1\" class=\"dataframe\">\n",
       "  <thead>\n",
       "    <tr style=\"text-align: right;\">\n",
       "      <th></th>\n",
       "      <th>commit latency (ms)</th>\n",
       "      <th>committed writes</th>\n",
       "      <th>completed reads</th>\n",
       "      <th>mean read latency (ms)</th>\n",
       "      <th>reads</th>\n",
       "      <th>replica</th>\n",
       "      <th>sent</th>\n",
       "      <th>visibility latency (ms)</th>\n",
       "      <th>visible writes</th>\n",
       "      <th>writes</th>\n",
       "      <th>missed reads</th>\n",
       "      <th>dropped writes</th>\n",
       "      <th>visibility ratio</th>\n",
       "    </tr>\n",
       "  </thead>\n",
       "  <tbody>\n",
       "    <tr>\n",
       "      <th>0</th>\n",
       "      <td>45</td>\n",
       "      <td>5</td>\n",
       "      <td>2</td>\n",
       "      <td>0</td>\n",
       "      <td>2</td>\n",
       "      <td>r0</td>\n",
       "      <td>342</td>\n",
       "      <td>30</td>\n",
       "      <td>5</td>\n",
       "      <td>5</td>\n",
       "      <td>0</td>\n",
       "      <td>0</td>\n",
       "      <td>1</td>\n",
       "    </tr>\n",
       "    <tr>\n",
       "      <th>1</th>\n",
       "      <td>30</td>\n",
       "      <td>7</td>\n",
       "      <td>1</td>\n",
       "      <td>0</td>\n",
       "      <td>1</td>\n",
       "      <td>r1</td>\n",
       "      <td>1348</td>\n",
       "      <td>15</td>\n",
       "      <td>7</td>\n",
       "      <td>7</td>\n",
       "      <td>0</td>\n",
       "      <td>0</td>\n",
       "      <td>1</td>\n",
       "    </tr>\n",
       "    <tr>\n",
       "      <th>2</th>\n",
       "      <td>NaN</td>\n",
       "      <td>NaN</td>\n",
       "      <td>NaN</td>\n",
       "      <td>NaN</td>\n",
       "      <td>NaN</td>\n",
       "      <td>r2</td>\n",
       "      <td>337</td>\n",
       "      <td>NaN</td>\n",
       "      <td>NaN</td>\n",
       "      <td>NaN</td>\n",
       "      <td>NaN</td>\n",
       "      <td>NaN</td>\n",
       "      <td>NaN</td>\n",
       "    </tr>\n",
       "    <tr>\n",
       "      <th>3</th>\n",
       "      <td>NaN</td>\n",
       "      <td>NaN</td>\n",
       "      <td>NaN</td>\n",
       "      <td>NaN</td>\n",
       "      <td>NaN</td>\n",
       "      <td>r3</td>\n",
       "      <td>337</td>\n",
       "      <td>NaN</td>\n",
       "      <td>NaN</td>\n",
       "      <td>NaN</td>\n",
       "      <td>NaN</td>\n",
       "      <td>NaN</td>\n",
       "      <td>NaN</td>\n",
       "    </tr>\n",
       "    <tr>\n",
       "      <th>4</th>\n",
       "      <td>NaN</td>\n",
       "      <td>NaN</td>\n",
       "      <td>NaN</td>\n",
       "      <td>NaN</td>\n",
       "      <td>NaN</td>\n",
       "      <td>r4</td>\n",
       "      <td>337</td>\n",
       "      <td>NaN</td>\n",
       "      <td>NaN</td>\n",
       "      <td>NaN</td>\n",
       "      <td>NaN</td>\n",
       "      <td>NaN</td>\n",
       "      <td>NaN</td>\n",
       "    </tr>\n",
       "  </tbody>\n",
       "</table>\n",
       "</div>"
      ],
      "text/plain": [
       "   commit latency (ms)  committed writes  completed reads  \\\n",
       "0                   45                 5                2   \n",
       "1                   30                 7                1   \n",
       "2                  NaN               NaN              NaN   \n",
       "3                  NaN               NaN              NaN   \n",
       "4                  NaN               NaN              NaN   \n",
       "\n",
       "   mean read latency (ms)  reads replica  sent  visibility latency (ms)  \\\n",
       "0                       0      2      r0   342                       30   \n",
       "1                       0      1      r1  1348                       15   \n",
       "2                     NaN    NaN      r2   337                      NaN   \n",
       "3                     NaN    NaN      r3   337                      NaN   \n",
       "4                     NaN    NaN      r4   337                      NaN   \n",
       "\n",
       "   visible writes  writes  missed reads  dropped writes  visibility ratio  \n",
       "0               5       5             0               0                 1  \n",
       "1               7       7             0               0                 1  \n",
       "2             NaN     NaN           NaN             NaN               NaN  \n",
       "3             NaN     NaN           NaN             NaN               NaN  \n",
       "4             NaN     NaN           NaN             NaN               NaN  "
      ]
     },
     "execution_count": 20,
     "metadata": {},
     "output_type": "execute_result"
    }
   ],
   "source": [
    "def create_dataframe():\n",
    "    \n",
    "    # Handlers for various rows: return a dictionary to add to data frame. \n",
    "    def default_handler(key, values):\n",
    "        return {\n",
    "            key: len(values) \n",
    "        }\n",
    "    \n",
    "    def handle_visibility_latency(key, values):\n",
    "        return {\n",
    "            \"visibility latency (ms)\": sum(v[2] - v[1] for v in values) / len(values), \n",
    "            \"visible writes\": len(set([v[1] for v in values]))\n",
    "        }\n",
    "    \n",
    "    def handle_commit_latency(key, values):\n",
    "        return {\n",
    "            \"commit latency (ms)\": sum(v[2] - v[1] for v in values) / len(values),\n",
    "            \"committed writes\": len(set([v[1] for v in values]))\n",
    "        }\n",
    "\n",
    "    def handle_session_length(key, values):\n",
    "        return {\n",
    "            \"sessions\": len(values), \n",
    "            \"mean session duration (ms)\": sum(v[0] for v in values) / len(values),\n",
    "        }\n",
    "\n",
    "    def handle_read_latency(key, values):\n",
    "        return {\n",
    "            \"completed reads\": len(values), \n",
    "            \"mean read latency (ms)\": sum(v[0] for v in values) / len(values),\n",
    "        }\n",
    "    \n",
    "    def handle_tag_size(key, values):\n",
    "        return {\n",
    "            \"average tag size\": sum(v[1] for v in values) / len(values)\n",
    "        }\n",
    "    \n",
    "    def rename_key(name, func=default_handler):\n",
    "        def handle_rename(key, values):\n",
    "            item = func(key, values)\n",
    "            return {\n",
    "                name: item[key]\n",
    "            }\n",
    "        return handle_rename\n",
    "        \n",
    "\n",
    "    # Handler map \n",
    "    handlers = {\n",
    "        'visibility latency': handle_visibility_latency, \n",
    "        'commit latency': handle_commit_latency, \n",
    "        'session length': handle_session_length,\n",
    "        'read latency': handle_read_latency,\n",
    "        'tag size': handle_tag_size,\n",
    "        'read': rename_key('reads'),\n",
    "        'write': rename_key('writes'),\n",
    "    }\n",
    "    \n",
    "    replicas = defaultdict(lambda: defaultdict(list)) \n",
    "    topology = results.topology\n",
    "    config   = results.settings\n",
    "    series   = results.results\n",
    "    \n",
    "    # Extract per-replica ID values from all results series \n",
    "    for key, values in series.iteritems():\n",
    "        for value in values:\n",
    "            # Some quick checks \n",
    "            assert len(value) > 1 \n",
    "            assert value[0].startswith('r')\n",
    "            \n",
    "            # Append the series to the specific replica \n",
    "            replicas[value[0]][key].append(value[1:])\n",
    "    \n",
    "    # Create a table with each replica id\n",
    "    table = []\n",
    "    for replica, series in replicas.iteritems():\n",
    "        row = {'replica': replica} \n",
    "        \n",
    "        # Perform per-replica aggreations for each result set \n",
    "        for serie, values in series.iteritems():\n",
    "            handler = handlers.get(serie, default_handler)\n",
    "            row.update(handler(serie, values))\n",
    "        \n",
    "        # Add in topology information \n",
    "        \n",
    "        \n",
    "        table.append(row)\n",
    "    \n",
    "    # Create the data frame and compute aggregate dependency items \n",
    "    df = pd.DataFrame(sorted(table, key=itemgetter('replica')))\n",
    "    df['missed reads'] = df['reads'] - df['completed reads']\n",
    "    df['dropped writes'] = df['writes'] - df ['visible writes']\n",
    "    df['visibility ratio'] = df['visible writes'] / df['writes']\n",
    "    \n",
    "    return df\n",
    "\n",
    "df = create_dataframe()\n",
    "df "
   ]
  },
  {
   "cell_type": "markdown",
   "metadata": {},
   "source": [
    "# Results "
   ]
  },
  {
   "cell_type": "code",
   "execution_count": 21,
   "metadata": {
    "collapsed": false
   },
   "outputs": [
    {
     "name": "stdout",
     "output_type": "stream",
     "text": [
      "Simulation: Raft Quorum (Cloudscope v0.3)\n",
      "Single Consistency Type: Strong Raft Consensus.\n",
      "\n",
      "Ran on: Mar 15, 2016 at 21:14 UTC (0 second)\n",
      "\n",
      "Settings\n",
      "========\n",
      "Access Stddev                 512\n",
      "Do Rumoring                     1\n",
      "Switch Prob                   0.3\n",
      "Move Prob                     0.2\n",
      "Default Latency               800\n",
      "Do Gossip                       1\n",
      "Max Sim Time                25000\n",
      "Random Seed                    42\n",
      "Access Mean                  1800\n",
      "Election Timeout       [150, 300]\n",
      "Heartbeat Interval             75\n",
      "Default Consistency        strong\n",
      "Invalid Types         [u'backup']\n",
      "Read Prob                    0.68\n",
      "Users                           1\n",
      "Max Objects Accessed           10\n",
      "Anti Entropy Delay            600\n",
      "Object Prob                   0.3\n",
      "Valid Locations      [u'home', u'work', u'mobile', u'cloud']\n",
      "Session Timeout               300\n",
      "Default Replica           storage\n",
      "Count Messages                  1\n"
     ]
    }
   ],
   "source": [
    "print report_details()"
   ]
  },
  {
   "cell_type": "markdown",
   "metadata": {},
   "source": [
    "## Topology"
   ]
  },
  {
   "cell_type": "code",
   "execution_count": 22,
   "metadata": {
    "collapsed": false
   },
   "outputs": [
    {
     "data": {
      "image/png": "[encoded data removed]",
      "text/plain": [
       "<matplotlib.figure.Figure at 0x1085fe850>"
      ]
     },
     "metadata": {},
     "output_type": "display_data"
    }
   ],
   "source": [
    "draw_topology(json_graph.node_link_graph(results.topology))"
   ]
  },
  {
   "cell_type": "code",
   "execution_count": 23,
   "metadata": {
    "collapsed": false
   },
   "outputs": [
    {
     "name": "stdout",
     "output_type": "stream",
     "text": [
      "r0: Raft 1 (cloud, strong) 15-15ms connection\n",
      "r1: Raft 2 (cloud, strong) 15-15ms connection\n",
      "r2: Raft 3 (cloud, strong) 15-15ms connection\n",
      "r3: Raft 4 (cloud, strong) 15-15ms connection\n",
      "r4: Raft 5 (cloud, strong) 15-15ms connection\n"
     ]
    }
   ],
   "source": [
    "print report_topology()"
   ]
  },
  {
   "cell_type": "markdown",
   "metadata": {},
   "source": [
    "## Workload"
   ]
  },
  {
   "cell_type": "code",
   "execution_count": 24,
   "metadata": {
    "collapsed": false
   },
   "outputs": [
    {
     "data": {
      "text/plain": [
       "<module 'matplotlib.pyplot' from '/Users/benjamin/.virtualenvs/cloudscope/lib/python2.7/site-packages/matplotlib/pyplot.pyc'>"
      ]
     },
     "execution_count": 24,
     "metadata": {},
     "output_type": "execute_result"
    },
    {
     "data": {
      "image/png": "[encoded data removed]",
      "text/plain": [
       "<matplotlib.figure.Figure at 0x1081eb050>"
      ]
     },
     "metadata": {},
     "output_type": "display_data"
    }
   ],
   "source": [
    "# Create the workload timeline plot \n",
    "plot_workload(results, devices=True)"
   ]
  },
  {
   "cell_type": "code",
   "execution_count": 25,
   "metadata": {
    "collapsed": false
   },
   "outputs": [
    {
     "data": {
      "text/plain": [
       "<matplotlib.axes._subplots.AxesSubplot at 0x109516990>"
      ]
     },
     "execution_count": 25,
     "metadata": {},
     "output_type": "execute_result"
    },
    {
     "data": {
      "image/png": "[encoded data removed]",
      "text/plain": [
       "<matplotlib.figure.Figure at 0x109b67890>"
      ]
     },
     "metadata": {},
     "output_type": "display_data"
    }
   ],
   "source": [
    "# Create the sent messages timeline\n",
    "plot_message_traffic(results.results['sent'])"
   ]
  },
  {
   "cell_type": "markdown",
   "metadata": {},
   "source": [
    "## Metrics \n",
    "\n",
    "The following metrics are reported from the results.\n",
    "\n",
    "### Reads and Writes"
   ]
  },
  {
   "cell_type": "code",
   "execution_count": 26,
   "metadata": {
    "collapsed": false
   },
   "outputs": [
    {
     "name": "stdout",
     "output_type": "stream",
     "text": [
      "Accesses\n",
      "========\n",
      "3.0 Total Reads, 12.0 Total Writes \n",
      "1.5 average reads per replica\n",
      "6.0 average writes per replica\n",
      "\n"
     ]
    },
    {
     "data": {
      "text/plain": [
       "<matplotlib.axes._subplots.AxesSubplot at 0x10b32c750>"
      ]
     },
     "execution_count": 26,
     "metadata": {},
     "output_type": "execute_result"
    },
    {
     "data": {
      "image/png": "[encoded data removed]",
      "text/plain": [
       "<matplotlib.figure.Figure at 0x109b15c50>"
      ]
     },
     "metadata": {},
     "output_type": "display_data"
    }
   ],
   "source": [
    "# Extract accesses \n",
    "accesses = pd.DataFrame(df, columns=['reads', 'writes'])\n",
    "\n",
    "print (\n",
    "    \"Accesses\\n\"\n",
    "    \"========\\n\"\n",
    "    \"{} Total Reads, {} Total Writes \\n\"\n",
    "    \"{:0.1f} average reads per replica\\n\"\n",
    "    \"{:0.1f} average writes per replica\\n\"\n",
    ").format(\n",
    "    df.reads.sum(), df.writes.sum(), df.reads.mean(), df.writes.mean()\n",
    ")\n",
    "\n",
    "accesses.plot(kind='bar', stacked=True)"
   ]
  },
  {
   "cell_type": "markdown",
   "metadata": {},
   "source": [
    "### Stale Reads"
   ]
  },
  {
   "cell_type": "code",
   "execution_count": 27,
   "metadata": {
    "collapsed": false
   },
   "outputs": [
    {
     "data": {
      "text/plain": [
       "<matplotlib.axes._subplots.AxesSubplot at 0x10bdaaa50>"
      ]
     },
     "execution_count": 27,
     "metadata": {},
     "output_type": "execute_result"
    },
    {
     "data": {
      "image/png": "[encoded data removed]",
      "text/plain": [
       "<matplotlib.figure.Figure at 0x109afbb10>"
      ]
     },
     "metadata": {},
     "output_type": "display_data"
    }
   ],
   "source": [
    "errors = pd.DataFrame(df, columns=['missed reads', 'dropped writes'])\n",
    "errors.plot(kind='bar', stacked=True)"
   ]
  },
  {
   "cell_type": "markdown",
   "metadata": {},
   "source": [
    "### Visibility Latency "
   ]
  },
  {
   "cell_type": "code",
   "execution_count": 28,
   "metadata": {
    "collapsed": false
   },
   "outputs": [
    {
     "data": {
      "text/plain": [
       "<matplotlib.axes._subplots.AxesSubplot at 0x10b5cdd90>"
      ]
     },
     "execution_count": 28,
     "metadata": {},
     "output_type": "execute_result"
    },
    {
     "data": {
      "image/png": "[encoded data removed]",
      "text/plain": [
       "<matplotlib.figure.Figure at 0x10ad15410>"
      ]
     },
     "metadata": {},
     "output_type": "display_data"
    }
   ],
   "source": [
    "df.plot(kind='bar', x='replica', y='visibility latency (ms)')"
   ]
  }
 ],
 "metadata": {
  "kernelspec": {
   "display_name": "Python 2",
   "language": "python",
   "name": "python2"
  },
  "language_info": {
   "codemirror_mode": {
    "name": "ipython",
    "version": 2
   },
   "file_extension": ".py",
   "mimetype": "text/x-python",
   "name": "python",
   "nbconvert_exporter": "python",
   "pygments_lexer": "ipython2",
   "version": "2.7.10"
  }
 },
 "nbformat": 4,
 "nbformat_minor": 0
}
