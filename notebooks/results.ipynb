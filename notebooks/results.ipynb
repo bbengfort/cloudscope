{
 "cells": [
  {
   "cell_type": "markdown",
   "metadata": {},
   "source": [
    "# Results Analysis\n",
    "\n",
    "This notebook is intended to read a simulation results file and report the analysis."
   ]
  },
  {
   "cell_type": "code",
   "execution_count": 175,
   "metadata": {
    "collapsed": false
   },
   "outputs": [],
   "source": [
    "%matplotlib inline\n",
    "\n",
    "import os\n",
    "import sys \n",
    "import json\n",
    "import networkx as nx\n",
    "import seaborn as sns\n",
    "import pandas as pd\n",
    "import matplotlib.pyplot as plt\n",
    "\n",
    "from networkx.readwrite import json_graph\n",
    "from datetime import date\n",
    "from collections import defaultdict, Counter\n",
    "from operator import itemgetter\n",
    "from itertools import groupby, chain\n",
    "from copy import deepcopy \n",
    "\n",
    "# Modify the Notebook path\n",
    "sys.path.append(os.path.join(os.getcwd(), \"..\"))\n",
    "\n",
    "from cloudscope.utils.timez import epochptime"
   ]
  },
  {
   "cell_type": "code",
   "execution_count": 176,
   "metadata": {
    "collapsed": false
   },
   "outputs": [],
   "source": [
    "# Specify a path to a results file \n",
    "FIXTURES = os.path.join(\"..\", \"fixtures\")\n",
    "# RESULTS  = os.path.join(FIXTURES, 'test-raft-single.json')\n",
    "# RESULTS  = os.path.join(FIXTURES, 'test-eventual-single.json')\n",
    "RESULTS  = os.path.join(FIXTURES, \"results\", 'test-tags-single.json')\n",
    "\n",
    "def get_results_data(path=RESULTS):\n",
    "    with open(path, 'r') as f:\n",
    "        return json.load(f)\n",
    "\n",
    "# Load the data\n",
    "data = get_results_data()"
   ]
  },
  {
   "cell_type": "code",
   "execution_count": 177,
   "metadata": {
    "collapsed": false
   },
   "outputs": [],
   "source": [
    "def title(text):\n",
    "    return \" \".join([t.capitalize() for t in text.split(\"_\")])\n",
    "\n",
    "def report(data, title=None, total=None, sort=True):\n",
    "    \"\"\"\n",
    "    Expects data to be a list of (name, value) pairs.\n",
    "    Total will be computed from data or accepted if passed in.\n",
    "    Title will be the header for the report. \n",
    "    \"\"\"\n",
    "    if total is None:\n",
    "        total = sum(val[1] for val in data)\n",
    "    \n",
    "    if title is None:\n",
    "        title = \"Key/Val Report\"\n",
    "    \n",
    "    if sort:\n",
    "        data = sorted(data, key=itemgetter(0))\n",
    "    \n",
    "    # Banner length and max key length\n",
    "    blen = len(title)\n",
    "    klen = max([max([len(val[0]) for val in data]), len('total')])\n",
    "    fmtr = \"{{: <{}}} {{: >{}}}\".format(klen, blen-klen-1)\n",
    "    \n",
    "    output = [title, \"=\"*blen]\n",
    "    \n",
    "    for key, val in data:\n",
    "        output.append(fmtr.format(key, val))\n",
    "                \n",
    "    output.append(\"-\"*blen)\n",
    "    output.append(fmtr.format('total', total))\n",
    "    return \"\\n\".join(output)\n",
    "\n",
    "def report_details():\n",
    "    banner = (\n",
    "        \"Simulation: {} (Cloudscope v{})\\n\"\n",
    "        \"{}\\n\\n\"\n",
    "        \"Ran on: {} ({})\\n\\n\"\n",
    "        \"Settings\\n\"\n",
    "        \"========\\n\"\n",
    "    ).format(\n",
    "        data['simulation'], data['version'], data['topology']['meta']['description'],\n",
    "        epochptime(data['timer']['started']).strftime('%b %d, %Y at %H:%M %Z'), \n",
    "        data['timer']['elapsed'],\n",
    "        data['randseed'],\n",
    "    )\n",
    "    \n",
    "    longest = max(len(key) for key in data['settings'])\n",
    "    frmt = \"{{: <{0}}} {{: >12}}\".format(longest)\n",
    "    \n",
    "    \n",
    "    return banner + \"\\n\".join([\n",
    "        frmt.format(title(key), value)\n",
    "        for key, value in data['settings'].items()\n",
    "    ])\n",
    "    \n",
    "\n",
    "def report_topology():\n",
    "    topology = deepcopy(data['topology'])\n",
    "    nodes = topology['nodes']\n",
    "    links = topology['links']\n",
    "    \n",
    "    for link in links:\n",
    "        latency = [link['latency']] if link['connection'] == 'constant' else link['latency']\n",
    "        \n",
    "        for rid in ('source', 'target'):\n",
    "            node = nodes[link[rid]]\n",
    "            \n",
    "            if 'minlat' not in node:\n",
    "                node['minlat'] = latency[0]\n",
    "            else:\n",
    "                \n",
    "                node['minlat'] = min(node['minlat'], latency[0])\n",
    "\n",
    "            if 'maxlat' not in node:\n",
    "                node['maxlat'] = latency[-1]\n",
    "            else:\n",
    "                node['maxlat'] = max(node['maxlat'], latency[-1])\n",
    "         \n",
    "    output = []\n",
    "    for node in sorted(nodes, key=itemgetter('id')):\n",
    "        output.append(\n",
    "            \"{}: {} ({}, {}) {}-{}ms connection\".format(\n",
    "                node['id'], node['label'], node['location'], node['consistency'], node['minlat'], node['maxlat']\n",
    "            )\n",
    "        )\n",
    "    return \"\\n\".join(output)"
   ]
  },
  {
   "cell_type": "code",
   "execution_count": 178,
   "metadata": {
    "collapsed": false
   },
   "outputs": [],
   "source": [
    "def report_reads_writes():\n",
    "    counts = defaultdict(Counter)\n",
    "    totals = Counter()\n",
    "    for access in ('read', 'write'):\n",
    "        for (rid, loc, ts) in data['results'].get(access, []):\n",
    "            counts[rid][access] += 1\n",
    "            totals[access] += 1\n",
    "    \n",
    "    total = \"{}/{}\".format(totals['read'], totals['write'])\n",
    "    \n",
    "    return report([\n",
    "            (rid, \"{}/{}\".format(c['read'], c['write']))\n",
    "            for rid, c in counts.items()\n",
    "        ], \"Accesses (read/write)\", total=total)"
   ]
  },
  {
   "cell_type": "code",
   "execution_count": 179,
   "metadata": {
    "collapsed": false
   },
   "outputs": [],
   "source": [
    "def report_stale_reads():\n",
    "    stale = data['results'].get('stale reads', [])\n",
    "    if not stale:\n",
    "        return \"No Stale Reads\"\n",
    "    \n",
    "    stale.sort(key=itemgetter(0))\n",
    "    \n",
    "    return report([\n",
    "            (rid, sum(1 for v in values))\n",
    "            for rid, values in groupby(stale, itemgetter(0))\n",
    "        ], \"Stale Reads\")"
   ]
  },
  {
   "cell_type": "code",
   "execution_count": 180,
   "metadata": {
    "collapsed": false
   },
   "outputs": [],
   "source": [
    "def report_visibility_latencies():\n",
    "    visibilities = data['results'].get('visibility latency', [])\n",
    "    if not visibilities:\n",
    "        return \"No visibility latency metrics\" \n",
    "    \n",
    "    latencies = defaultdict(list)\n",
    "    versions  = set([])\n",
    "    \n",
    "    for writer, vid, start, finish in visibilities:\n",
    "        latencies[writer].append(finish - start)\n",
    "        versions.add(vid)\n",
    "    \n",
    "    total  = sum(l for l in chain(*latencies.values())) / sum(1 for l in chain(*latencies.values()))\n",
    "    total  = \"{:0.4f} secs\".format(total / 1000)\n",
    "\n",
    "    header =  (\n",
    "        \"Fully visible writes:{: >6}\\n\"\n",
    "        \"Total number of writes:{: >4}\\n\\n\"\n",
    "    ).format(len(versions), len(data['results']['write']))\n",
    "    \n",
    "    return header + report([\n",
    "        (rid, \"{:0.4f} secs\".format((sum(l) / len(l)) / 1000))\n",
    "        for rid, l in latencies.items()\n",
    "    ], 'Mean Visibility Latency', total=total)"
   ]
  },
  {
   "cell_type": "code",
   "execution_count": 181,
   "metadata": {
    "collapsed": false
   },
   "outputs": [],
   "source": [
    "def draw_topology():\n",
    "    cmap = {\n",
    "        'strong': '#91cf60',\n",
    "        'medium': '#ffffbf',\n",
    "        'low': '#fc8d59',\n",
    "    }\n",
    "    \n",
    "    lmap = {\n",
    "        'constant': 'solid',\n",
    "        'variable': 'dashed',\n",
    "    }\n",
    "\n",
    "    G = json_graph.node_link_graph(data['topology'])\n",
    "    colors = [cmap[n[1]['consistency']] for n in G.nodes(data=True)]\n",
    "    links  = [lmap[n[2]['connection']] for n in G.edges(data=True)]\n",
    "    nx.draw_circular(G, with_labels=True, node_size=800, node_color=colors, font_weight='bold', style=links, edge_color='#333333')"
   ]
  },
  {
   "cell_type": "code",
   "execution_count": 182,
   "metadata": {
    "collapsed": false
   },
   "outputs": [],
   "source": [
    "def create_dataframe():\n",
    "    table = []\n",
    "    meta  = data['topology']['meta']\n",
    "    conf  = data['settings']\n",
    "\n",
    "    results = data['results']\n",
    "    item    = {'rid': \"e{:0>2}\".format(0)}\n",
    "    item['variable (ms)'] = meta['variable']\n",
    "\n",
    "    # Variable latency \n",
    "    latency = meta['variable'].rstrip('ms').strip().split('-')\n",
    "    latency = sum(map(float, [ms for ms in latency if ms != 'N/A'])) / 2\n",
    "\n",
    "    # Constant latency \n",
    "    if not latency:\n",
    "        latency = float(meta['constant'].rstrip('ms').strip())\n",
    "\n",
    "    item['mean latency (ms)'] = latency\n",
    "    item['constant (ms)'] = meta['constant']\n",
    "    item['users'] = conf['users']\n",
    "    item['anti-entropy delay (ms)'] = conf['anti_entropy_delay']\n",
    "    for key, values in results.iteritems():\n",
    "        if key == 'visibility latency':\n",
    "            item['visibility latency (ms)'] = sum(v[3] - v[2] for v in values) / len(values)\n",
    "            item['visible writes'] = len(set([v[1] for v in values]))\n",
    "        if key == 'commit latency':\n",
    "            item['commit latency (ms)'] = sum(v[3] - v[2] for v in values) / len(values)\n",
    "            item['committed writes'] = len(set([v[1] for v in values]))\n",
    "        else:\n",
    "            item[key] = len(values)\n",
    "\n",
    "    item['ratio fully visible to writes'] = float(item.get('visible writes', 0)) / float(item['write'])\n",
    "\n",
    "    table.append(item)\n",
    "    \n",
    "    return pd.DataFrame(table)\n",
    "\n",
    "df = create_dataframe()"
   ]
  },
  {
   "cell_type": "code",
   "execution_count": 183,
   "metadata": {
    "collapsed": false
   },
   "outputs": [
    {
     "data": {
      "text/html": [
       "<div>\n",
       "<table border=\"1\" class=\"dataframe\">\n",
       "  <thead>\n",
       "    <tr style=\"text-align: right;\">\n",
       "      <th></th>\n",
       "      <th>average tag size</th>\n",
       "      <th>completed reads</th>\n",
       "      <th>mean read latency (ms)</th>\n",
       "      <th>mean session duration (ms)</th>\n",
       "      <th>reads</th>\n",
       "      <th>replica</th>\n",
       "      <th>sent</th>\n",
       "      <th>sessions</th>\n",
       "      <th>visibility latency (ms)</th>\n",
       "      <th>visible writes</th>\n",
       "      <th>writes</th>\n",
       "      <th>missed reads</th>\n",
       "      <th>dropped writes</th>\n",
       "      <th>visibility ratio</th>\n",
       "    </tr>\n",
       "  </thead>\n",
       "  <tbody>\n",
       "    <tr>\n",
       "      <th>0</th>\n",
       "      <td>0</td>\n",
       "      <td>1</td>\n",
       "      <td>0</td>\n",
       "      <td>1050</td>\n",
       "      <td>2</td>\n",
       "      <td>r0</td>\n",
       "      <td>161</td>\n",
       "      <td>1</td>\n",
       "      <td>15</td>\n",
       "      <td>5</td>\n",
       "      <td>5</td>\n",
       "      <td>1</td>\n",
       "      <td>0</td>\n",
       "      <td>1</td>\n",
       "    </tr>\n",
       "    <tr>\n",
       "      <th>1</th>\n",
       "      <td>NaN</td>\n",
       "      <td>NaN</td>\n",
       "      <td>NaN</td>\n",
       "      <td>NaN</td>\n",
       "      <td>1</td>\n",
       "      <td>r1</td>\n",
       "      <td>25</td>\n",
       "      <td>NaN</td>\n",
       "      <td>NaN</td>\n",
       "      <td>NaN</td>\n",
       "      <td>7</td>\n",
       "      <td>NaN</td>\n",
       "      <td>NaN</td>\n",
       "      <td>NaN</td>\n",
       "    </tr>\n",
       "    <tr>\n",
       "      <th>2</th>\n",
       "      <td>NaN</td>\n",
       "      <td>NaN</td>\n",
       "      <td>NaN</td>\n",
       "      <td>NaN</td>\n",
       "      <td>NaN</td>\n",
       "      <td>r2</td>\n",
       "      <td>17</td>\n",
       "      <td>NaN</td>\n",
       "      <td>NaN</td>\n",
       "      <td>NaN</td>\n",
       "      <td>NaN</td>\n",
       "      <td>NaN</td>\n",
       "      <td>NaN</td>\n",
       "      <td>NaN</td>\n",
       "    </tr>\n",
       "    <tr>\n",
       "      <th>3</th>\n",
       "      <td>NaN</td>\n",
       "      <td>NaN</td>\n",
       "      <td>NaN</td>\n",
       "      <td>NaN</td>\n",
       "      <td>NaN</td>\n",
       "      <td>r3</td>\n",
       "      <td>17</td>\n",
       "      <td>NaN</td>\n",
       "      <td>NaN</td>\n",
       "      <td>NaN</td>\n",
       "      <td>NaN</td>\n",
       "      <td>NaN</td>\n",
       "      <td>NaN</td>\n",
       "      <td>NaN</td>\n",
       "    </tr>\n",
       "    <tr>\n",
       "      <th>4</th>\n",
       "      <td>NaN</td>\n",
       "      <td>NaN</td>\n",
       "      <td>NaN</td>\n",
       "      <td>NaN</td>\n",
       "      <td>NaN</td>\n",
       "      <td>r4</td>\n",
       "      <td>17</td>\n",
       "      <td>NaN</td>\n",
       "      <td>NaN</td>\n",
       "      <td>NaN</td>\n",
       "      <td>NaN</td>\n",
       "      <td>NaN</td>\n",
       "      <td>NaN</td>\n",
       "      <td>NaN</td>\n",
       "    </tr>\n",
       "    <tr>\n",
       "      <th>5</th>\n",
       "      <td>NaN</td>\n",
       "      <td>NaN</td>\n",
       "      <td>NaN</td>\n",
       "      <td>NaN</td>\n",
       "      <td>NaN</td>\n",
       "      <td>r5</td>\n",
       "      <td>17</td>\n",
       "      <td>NaN</td>\n",
       "      <td>NaN</td>\n",
       "      <td>NaN</td>\n",
       "      <td>NaN</td>\n",
       "      <td>NaN</td>\n",
       "      <td>NaN</td>\n",
       "      <td>NaN</td>\n",
       "    </tr>\n",
       "    <tr>\n",
       "      <th>6</th>\n",
       "      <td>NaN</td>\n",
       "      <td>NaN</td>\n",
       "      <td>NaN</td>\n",
       "      <td>NaN</td>\n",
       "      <td>NaN</td>\n",
       "      <td>r6</td>\n",
       "      <td>17</td>\n",
       "      <td>NaN</td>\n",
       "      <td>NaN</td>\n",
       "      <td>NaN</td>\n",
       "      <td>NaN</td>\n",
       "      <td>NaN</td>\n",
       "      <td>NaN</td>\n",
       "      <td>NaN</td>\n",
       "    </tr>\n",
       "    <tr>\n",
       "      <th>7</th>\n",
       "      <td>NaN</td>\n",
       "      <td>NaN</td>\n",
       "      <td>NaN</td>\n",
       "      <td>NaN</td>\n",
       "      <td>NaN</td>\n",
       "      <td>r7</td>\n",
       "      <td>17</td>\n",
       "      <td>NaN</td>\n",
       "      <td>NaN</td>\n",
       "      <td>NaN</td>\n",
       "      <td>NaN</td>\n",
       "      <td>NaN</td>\n",
       "      <td>NaN</td>\n",
       "      <td>NaN</td>\n",
       "    </tr>\n",
       "    <tr>\n",
       "      <th>8</th>\n",
       "      <td>NaN</td>\n",
       "      <td>NaN</td>\n",
       "      <td>NaN</td>\n",
       "      <td>NaN</td>\n",
       "      <td>NaN</td>\n",
       "      <td>r8</td>\n",
       "      <td>17</td>\n",
       "      <td>NaN</td>\n",
       "      <td>NaN</td>\n",
       "      <td>NaN</td>\n",
       "      <td>NaN</td>\n",
       "      <td>NaN</td>\n",
       "      <td>NaN</td>\n",
       "      <td>NaN</td>\n",
       "    </tr>\n",
       "    <tr>\n",
       "      <th>9</th>\n",
       "      <td>NaN</td>\n",
       "      <td>NaN</td>\n",
       "      <td>NaN</td>\n",
       "      <td>NaN</td>\n",
       "      <td>NaN</td>\n",
       "      <td>r9</td>\n",
       "      <td>17</td>\n",
       "      <td>NaN</td>\n",
       "      <td>NaN</td>\n",
       "      <td>NaN</td>\n",
       "      <td>NaN</td>\n",
       "      <td>NaN</td>\n",
       "      <td>NaN</td>\n",
       "      <td>NaN</td>\n",
       "    </tr>\n",
       "  </tbody>\n",
       "</table>\n",
       "</div>"
      ],
      "text/plain": [
       "   average tag size  completed reads  mean read latency (ms)  \\\n",
       "0                 0                1                       0   \n",
       "1               NaN              NaN                     NaN   \n",
       "2               NaN              NaN                     NaN   \n",
       "3               NaN              NaN                     NaN   \n",
       "4               NaN              NaN                     NaN   \n",
       "5               NaN              NaN                     NaN   \n",
       "6               NaN              NaN                     NaN   \n",
       "7               NaN              NaN                     NaN   \n",
       "8               NaN              NaN                     NaN   \n",
       "9               NaN              NaN                     NaN   \n",
       "\n",
       "   mean session duration (ms)  reads replica  sent  sessions  \\\n",
       "0                        1050      2      r0   161         1   \n",
       "1                         NaN      1      r1    25       NaN   \n",
       "2                         NaN    NaN      r2    17       NaN   \n",
       "3                         NaN    NaN      r3    17       NaN   \n",
       "4                         NaN    NaN      r4    17       NaN   \n",
       "5                         NaN    NaN      r5    17       NaN   \n",
       "6                         NaN    NaN      r6    17       NaN   \n",
       "7                         NaN    NaN      r7    17       NaN   \n",
       "8                         NaN    NaN      r8    17       NaN   \n",
       "9                         NaN    NaN      r9    17       NaN   \n",
       "\n",
       "   visibility latency (ms)  visible writes  writes  missed reads  \\\n",
       "0                       15               5       5             1   \n",
       "1                      NaN             NaN       7           NaN   \n",
       "2                      NaN             NaN     NaN           NaN   \n",
       "3                      NaN             NaN     NaN           NaN   \n",
       "4                      NaN             NaN     NaN           NaN   \n",
       "5                      NaN             NaN     NaN           NaN   \n",
       "6                      NaN             NaN     NaN           NaN   \n",
       "7                      NaN             NaN     NaN           NaN   \n",
       "8                      NaN             NaN     NaN           NaN   \n",
       "9                      NaN             NaN     NaN           NaN   \n",
       "\n",
       "   dropped writes  visibility ratio  \n",
       "0               0                 1  \n",
       "1             NaN               NaN  \n",
       "2             NaN               NaN  \n",
       "3             NaN               NaN  \n",
       "4             NaN               NaN  \n",
       "5             NaN               NaN  \n",
       "6             NaN               NaN  \n",
       "7             NaN               NaN  \n",
       "8             NaN               NaN  \n",
       "9             NaN               NaN  "
      ]
     },
     "execution_count": 183,
     "metadata": {},
     "output_type": "execute_result"
    }
   ],
   "source": [
    "def create_dataframe():\n",
    "    \n",
    "    # Handlers for various rows: return a dictionary to add to data frame. \n",
    "    def default_handler(key, values):\n",
    "        return {\n",
    "            key: len(values) \n",
    "        }\n",
    "    \n",
    "    def handle_visibility_latency(key, values):\n",
    "        return {\n",
    "            \"visibility latency (ms)\": sum(v[2] - v[1] for v in values) / len(values), \n",
    "            \"visible writes\": len(set([v[1] for v in values]))\n",
    "        }\n",
    "    \n",
    "    def handle_commit_latency(key, values):\n",
    "        return {\n",
    "            \"commit latency (ms)\": sum(v[2] - v[1] for v in values) / len(values),\n",
    "            \"committed writes\": len(set([v[1] for v in values]))\n",
    "        }\n",
    "\n",
    "    def handle_session_length(key, values):\n",
    "        return {\n",
    "            \"sessions\": len(values), \n",
    "            \"mean session duration (ms)\": sum(v[0] for v in values) / len(values),\n",
    "        }\n",
    "\n",
    "    def handle_read_latency(key, values):\n",
    "        return {\n",
    "            \"completed reads\": len(values), \n",
    "            \"mean read latency (ms)\": sum(v[0] for v in values) / len(values),\n",
    "        }\n",
    "    \n",
    "    def handle_tag_size(key, values):\n",
    "        return {\n",
    "            \"average tag size\": sum(v[1] for v in values) / len(values)\n",
    "        }\n",
    "    \n",
    "    def rename_key(name, func=default_handler):\n",
    "        def handle_rename(key, values):\n",
    "            item = func(key, values)\n",
    "            return {\n",
    "                name: item[key]\n",
    "            }\n",
    "        return handle_rename\n",
    "        \n",
    "\n",
    "    # Handler map \n",
    "    handlers = {\n",
    "        'visibility latency': handle_visibility_latency, \n",
    "        'commit latency': handle_commit_latency, \n",
    "        'session length': handle_session_length,\n",
    "        'read latency': handle_read_latency,\n",
    "        'tag size': handle_tag_size,\n",
    "        'read': rename_key('reads'),\n",
    "        'write': rename_key('writes'),\n",
    "    }\n",
    "    \n",
    "    replicas = defaultdict(lambda: defaultdict(list)) \n",
    "    topology = data['topology']\n",
    "    config   = data['settings']\n",
    "    results  = data['results']\n",
    "    \n",
    "    # Extract per-replica ID values from all results series \n",
    "    for key, values in results.iteritems():\n",
    "        for value in values:\n",
    "            # Some quick checks \n",
    "            assert len(value) > 1 \n",
    "            assert value[0].startswith('r')\n",
    "            \n",
    "            # Append the series to the specific replica \n",
    "            replicas[value[0]][key].append(value[1:])\n",
    "    \n",
    "    # Create a table with each replica id\n",
    "    table = []\n",
    "    for replica, results in replicas.iteritems():\n",
    "        row = {'replica': replica} \n",
    "        \n",
    "        # Perform per-replica aggreations for each result set \n",
    "        for result, values in results.iteritems():\n",
    "            handler = handlers.get(result, default_handler)\n",
    "            row.update(handler(result, values))\n",
    "        \n",
    "        # Add in topology information \n",
    "        \n",
    "        \n",
    "        table.append(row)\n",
    "    \n",
    "    # Create the data frame and compute aggregate dependency items \n",
    "    df = pd.DataFrame(sorted(table, key=itemgetter('replica')))\n",
    "    df['missed reads'] = df['reads'] - df['completed reads']\n",
    "    df['dropped writes'] = df['writes'] - df ['visible writes']\n",
    "    df['visibility ratio'] = df['visible writes'] / df['writes']\n",
    "    \n",
    "    return df\n",
    "\n",
    "df = create_dataframe()\n",
    "df "
   ]
  },
  {
   "cell_type": "markdown",
   "metadata": {},
   "source": [
    "# Results "
   ]
  },
  {
   "cell_type": "code",
   "execution_count": 184,
   "metadata": {
    "collapsed": false
   },
   "outputs": [
    {
     "name": "stdout",
     "output_type": "stream",
     "text": [
      "Simulation: Single medium Cluster (Cloudscope v0.3)\n",
      "Toplogy for single medium cluster experiments.\n",
      "\n",
      "Ran on: Mar 11, 2016 at 04:47 UTC (3 minutes 46 seconds)\n",
      "\n",
      "Settings\n",
      "========\n",
      "Access Stddev                 512\n",
      "Do Rumoring                     1\n",
      "Switch Prob                   0.3\n",
      "Move Prob                     0.2\n",
      "Default Latency               800\n",
      "Do Gossip                       1\n",
      "Max Sim Time              4320000\n",
      "Random Seed                    42\n",
      "Access Mean                  1800\n",
      "Election Timeout       [150, 300]\n",
      "Heartbeat Interval             75\n",
      "Default Consistency        strong\n",
      "Invalid Types         [u'backup']\n",
      "Read Prob                    0.68\n",
      "Users                           1\n",
      "Max Objects Accessed           10\n",
      "Anti Entropy Delay            600\n",
      "Object Prob                   0.3\n",
      "Valid Locations      [u'home', u'work', u'mobile', u'cloud']\n",
      "Session Timeout               300\n",
      "Default Replica           storage\n",
      "Count Messages                  1\n"
     ]
    }
   ],
   "source": [
    "print report_details()"
   ]
  },
  {
   "cell_type": "markdown",
   "metadata": {},
   "source": [
    "## Topology"
   ]
  },
  {
   "cell_type": "code",
   "execution_count": 185,
   "metadata": {
    "collapsed": false
   },
   "outputs": [
    {
     "data": {
      "image/png": "[encoded data removed]",
      "text/plain": [
       "<matplotlib.figure.Figure at 0x115a04110>"
      ]
     },
     "metadata": {},
     "output_type": "display_data"
    }
   ],
   "source": [
    "draw_topology()"
   ]
  },
  {
   "cell_type": "code",
   "execution_count": 186,
   "metadata": {
    "collapsed": false
   },
   "outputs": [
    {
     "name": "stdout",
     "output_type": "stream",
     "text": [
      "r0: Raft 1 (cloud, medium) 15-15ms connection\n",
      "r1: Raft 2 (cloud, medium) 15-15ms connection\n",
      "r2: Raft 3 (cloud, medium) 15-15ms connection\n",
      "r3: Raft 4 (cloud, medium) 15-15ms connection\n",
      "r4: Raft 5 (cloud, medium) 15-15ms connection\n",
      "r5: Raft 6 (cloud, medium) 15-15ms connection\n",
      "r6: Raft 7 (cloud, medium) 15-15ms connection\n",
      "r7: Raft 8 (cloud, medium) 15-15ms connection\n",
      "r8: Raft 9 (cloud, medium) 15-15ms connection\n",
      "r9: Raft 10 (cloud, medium) 15-15ms connection\n"
     ]
    }
   ],
   "source": [
    "print report_topology()"
   ]
  },
  {
   "cell_type": "code",
   "execution_count": 197,
   "metadata": {
    "collapsed": false
   },
   "outputs": [
    {
     "data": {
      "text/plain": [
       "<matplotlib.axes._subplots.AxesSubplot at 0x10e9bac10>"
      ]
     },
     "execution_count": 197,
     "metadata": {},
     "output_type": "execute_result"
    },
    {
     "data": {
      "image/png": "[encoded data removed]",
      "text/plain": [
       "<matplotlib.figure.Figure at 0x115ee95d0>"
      ]
     },
     "metadata": {},
     "output_type": "display_data"
    }
   ],
   "source": [
    "tsize = pd.DataFrame(data['results']['sent'])\n",
    "tsize.columns = ['replica', 'timestamp']\n",
    "messages = tsize.groupby('timestamp').agg('count')\n",
    "messages.columns = ['messages']\n",
    "messages.plot(figsize=(14, 6), kind='bar')"
   ]
  },
  {
   "cell_type": "code",
   "execution_count": null,
   "metadata": {
    "collapsed": true
   },
   "outputs": [],
   "source": []
  },
  {
   "cell_type": "markdown",
   "metadata": {},
   "source": [
    "## Metrics \n",
    "\n",
    "The following metrics are reported from the results.\n",
    "\n",
    "### Reads and Writes"
   ]
  },
  {
   "cell_type": "code",
   "execution_count": 188,
   "metadata": {
    "collapsed": false
   },
   "outputs": [
    {
     "name": "stdout",
     "output_type": "stream",
     "text": [
      "Accesses (read/write)\n",
      "=====================\n",
      "r0                2/5\n",
      "r1                1/7\n",
      "---------------------\n",
      "total            3/12\n"
     ]
    }
   ],
   "source": [
    "print report_reads_writes()"
   ]
  },
  {
   "cell_type": "markdown",
   "metadata": {},
   "source": [
    "### Stale Reads"
   ]
  },
  {
   "cell_type": "code",
   "execution_count": 189,
   "metadata": {
    "collapsed": false
   },
   "outputs": [
    {
     "name": "stdout",
     "output_type": "stream",
     "text": [
      "No Stale Reads\n"
     ]
    }
   ],
   "source": [
    "print report_stale_reads()"
   ]
  },
  {
   "cell_type": "markdown",
   "metadata": {},
   "source": [
    "### Visibility Latency "
   ]
  },
  {
   "cell_type": "code",
   "execution_count": 190,
   "metadata": {
    "collapsed": false
   },
   "outputs": [
    {
     "name": "stdout",
     "output_type": "stream",
     "text": [
      "Fully visible writes:     5\n",
      "Total number of writes:  12\n",
      "\n",
      "Mean Visibility Latency\n",
      "=======================\n",
      "r0          0.0000 secs\n",
      "-----------------------\n",
      "total       0.0000 secs\n"
     ]
    }
   ],
   "source": [
    "print report_visibility_latencies()"
   ]
  }
 ],
 "metadata": {
  "kernelspec": {
   "display_name": "Python 2",
   "language": "python",
   "name": "python2"
  },
  "language_info": {
   "codemirror_mode": {
    "name": "ipython",
    "version": 2
   },
   "file_extension": ".py",
   "mimetype": "text/x-python",
   "name": "python",
   "nbconvert_exporter": "python",
   "pygments_lexer": "ipython2",
   "version": "2.7.10"
  }
 },
 "nbformat": 4,
 "nbformat_minor": 0
}
